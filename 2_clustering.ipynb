{
 "cells": [
  {
   "cell_type": "markdown",
   "metadata": {},
   "source": [
    "# Manhattan Rental Apartments Clustering\n",
    "## - Clustering\n",
    "\n",
    "### Xian Lai\n",
    "xlai4@fordham.edu   \n",
    "Apr.2017\n",
    "\n",
    "=======================================================\n",
    "\n",
    "In the last jupyter notebook, we select the final clustering model using combined score with hyperparameters:  \n",
    "**{'IDWpower':0.1, 'n_ngb':13, 'method':'complete', 'metric':'euclidean'}**\n",
    "\n",
    "Next we will use this model on the full building dataset and query information we are interested in."
   ]
  },
  {
   "cell_type": "code",
   "execution_count": 1,
   "metadata": {},
   "outputs": [
    {
     "data": {
      "text/html": [
       "\n",
       "    <div class=\"bk-root\">\n",
       "        <a href=\"https://bokeh.pydata.org\" target=\"_blank\" class=\"bk-logo bk-logo-small bk-logo-notebook\"></a>\n",
       "        <span id=\"f3c1fba4-5412-4be7-ab4d-8033d97a5ba2\">Loading BokehJS ...</span>\n",
       "    </div>"
      ]
     },
     "metadata": {},
     "output_type": "display_data"
    },
    {
     "data": {
      "application/javascript": [
       "\n",
       "(function(root) {\n",
       "  function now() {\n",
       "    return new Date();\n",
       "  }\n",
       "\n",
       "  var force = true;\n",
       "\n",
       "  if (typeof (root._bokeh_onload_callbacks) === \"undefined\" || force === true) {\n",
       "    root._bokeh_onload_callbacks = [];\n",
       "    root._bokeh_is_loading = undefined;\n",
       "  }\n",
       "\n",
       "  var JS_MIME_TYPE = 'application/javascript';\n",
       "  var HTML_MIME_TYPE = 'text/html';\n",
       "  var EXEC_MIME_TYPE = 'application/vnd.bokehjs_exec.v0+json';\n",
       "  var CLASS_NAME = 'output_bokeh rendered_html';\n",
       "\n",
       "  /**\n",
       "   * Render data to the DOM node\n",
       "   */\n",
       "  function render(props, node) {\n",
       "    var script = document.createElement(\"script\");\n",
       "    node.appendChild(script);\n",
       "  }\n",
       "\n",
       "  /**\n",
       "   * Handle when an output is cleared or removed\n",
       "   */\n",
       "  function handleClearOutput(event, handle) {\n",
       "    var cell = handle.cell;\n",
       "\n",
       "    var id = cell.output_area._bokeh_element_id;\n",
       "    var server_id = cell.output_area._bokeh_server_id;\n",
       "    // Clean up Bokeh references\n",
       "    if (id !== undefined) {\n",
       "      Bokeh.index[id].model.document.clear();\n",
       "      delete Bokeh.index[id];\n",
       "    }\n",
       "\n",
       "    if (server_id !== undefined) {\n",
       "      // Clean up Bokeh references\n",
       "      var cmd = \"from bokeh.io.state import curstate; print(curstate().uuid_to_server['\" + server_id + \"'].get_sessions()[0].document.roots[0]._id)\";\n",
       "      cell.notebook.kernel.execute(cmd, {\n",
       "        iopub: {\n",
       "          output: function(msg) {\n",
       "            var element_id = msg.content.text.trim();\n",
       "            Bokeh.index[element_id].model.document.clear();\n",
       "            delete Bokeh.index[element_id];\n",
       "          }\n",
       "        }\n",
       "      });\n",
       "      // Destroy server and session\n",
       "      var cmd = \"import bokeh.io.notebook as ion; ion.destroy_server('\" + server_id + \"')\";\n",
       "      cell.notebook.kernel.execute(cmd);\n",
       "    }\n",
       "  }\n",
       "\n",
       "  /**\n",
       "   * Handle when a new output is added\n",
       "   */\n",
       "  function handleAddOutput(event, handle) {\n",
       "    var output_area = handle.output_area;\n",
       "    var output = handle.output;\n",
       "\n",
       "    // limit handleAddOutput to display_data with EXEC_MIME_TYPE content only\n",
       "    if ((output.output_type != \"display_data\") || (!output.data.hasOwnProperty(EXEC_MIME_TYPE))) {\n",
       "      return\n",
       "    }\n",
       "\n",
       "    var toinsert = output_area.element.find(`.${CLASS_NAME.split(' ')[0]}`);\n",
       "\n",
       "    if (output.metadata[EXEC_MIME_TYPE][\"id\"] !== undefined) {\n",
       "      toinsert[0].firstChild.textContent = output.data[JS_MIME_TYPE];\n",
       "      // store reference to embed id on output_area\n",
       "      output_area._bokeh_element_id = output.metadata[EXEC_MIME_TYPE][\"id\"];\n",
       "    }\n",
       "    if (output.metadata[EXEC_MIME_TYPE][\"server_id\"] !== undefined) {\n",
       "      var bk_div = document.createElement(\"div\");\n",
       "      bk_div.innerHTML = output.data[HTML_MIME_TYPE];\n",
       "      var script_attrs = bk_div.children[0].attributes;\n",
       "      for (var i = 0; i < script_attrs.length; i++) {\n",
       "        toinsert[0].firstChild.setAttribute(script_attrs[i].name, script_attrs[i].value);\n",
       "      }\n",
       "      // store reference to server id on output_area\n",
       "      output_area._bokeh_server_id = output.metadata[EXEC_MIME_TYPE][\"server_id\"];\n",
       "    }\n",
       "  }\n",
       "\n",
       "  function register_renderer(events, OutputArea) {\n",
       "\n",
       "    function append_mime(data, metadata, element) {\n",
       "      // create a DOM node to render to\n",
       "      var toinsert = this.create_output_subarea(\n",
       "        metadata,\n",
       "        CLASS_NAME,\n",
       "        EXEC_MIME_TYPE\n",
       "      );\n",
       "      this.keyboard_manager.register_events(toinsert);\n",
       "      // Render to node\n",
       "      var props = {data: data, metadata: metadata[EXEC_MIME_TYPE]};\n",
       "      render(props, toinsert[0]);\n",
       "      element.append(toinsert);\n",
       "      return toinsert\n",
       "    }\n",
       "\n",
       "    /* Handle when an output is cleared or removed */\n",
       "    events.on('clear_output.CodeCell', handleClearOutput);\n",
       "    events.on('delete.Cell', handleClearOutput);\n",
       "\n",
       "    /* Handle when a new output is added */\n",
       "    events.on('output_added.OutputArea', handleAddOutput);\n",
       "\n",
       "    /**\n",
       "     * Register the mime type and append_mime function with output_area\n",
       "     */\n",
       "    OutputArea.prototype.register_mime_type(EXEC_MIME_TYPE, append_mime, {\n",
       "      /* Is output safe? */\n",
       "      safe: true,\n",
       "      /* Index of renderer in `output_area.display_order` */\n",
       "      index: 0\n",
       "    });\n",
       "  }\n",
       "\n",
       "  // register the mime type if in Jupyter Notebook environment and previously unregistered\n",
       "  if (root.Jupyter !== undefined) {\n",
       "    var events = require('base/js/events');\n",
       "    var OutputArea = require('notebook/js/outputarea').OutputArea;\n",
       "\n",
       "    if (OutputArea.prototype.mime_types().indexOf(EXEC_MIME_TYPE) == -1) {\n",
       "      register_renderer(events, OutputArea);\n",
       "    }\n",
       "  }\n",
       "\n",
       "  \n",
       "  if (typeof (root._bokeh_timeout) === \"undefined\" || force === true) {\n",
       "    root._bokeh_timeout = Date.now() + 5000;\n",
       "    root._bokeh_failed_load = false;\n",
       "  }\n",
       "\n",
       "  var NB_LOAD_WARNING = {'data': {'text/html':\n",
       "     \"<div style='background-color: #fdd'>\\n\"+\n",
       "     \"<p>\\n\"+\n",
       "     \"BokehJS does not appear to have successfully loaded. If loading BokehJS from CDN, this \\n\"+\n",
       "     \"may be due to a slow or bad network connection. Possible fixes:\\n\"+\n",
       "     \"</p>\\n\"+\n",
       "     \"<ul>\\n\"+\n",
       "     \"<li>re-rerun `output_notebook()` to attempt to load from CDN again, or</li>\\n\"+\n",
       "     \"<li>use INLINE resources instead, as so:</li>\\n\"+\n",
       "     \"</ul>\\n\"+\n",
       "     \"<code>\\n\"+\n",
       "     \"from bokeh.resources import INLINE\\n\"+\n",
       "     \"output_notebook(resources=INLINE)\\n\"+\n",
       "     \"</code>\\n\"+\n",
       "     \"</div>\"}};\n",
       "\n",
       "  function display_loaded() {\n",
       "    var el = document.getElementById(\"f3c1fba4-5412-4be7-ab4d-8033d97a5ba2\");\n",
       "    if (el != null) {\n",
       "      el.textContent = \"BokehJS is loading...\";\n",
       "    }\n",
       "    if (root.Bokeh !== undefined) {\n",
       "      if (el != null) {\n",
       "        el.textContent = \"BokehJS \" + root.Bokeh.version + \" successfully loaded.\";\n",
       "      }\n",
       "    } else if (Date.now() < root._bokeh_timeout) {\n",
       "      setTimeout(display_loaded, 100)\n",
       "    }\n",
       "  }\n",
       "\n",
       "\n",
       "  function run_callbacks() {\n",
       "    try {\n",
       "      root._bokeh_onload_callbacks.forEach(function(callback) { callback() });\n",
       "    }\n",
       "    finally {\n",
       "      delete root._bokeh_onload_callbacks\n",
       "    }\n",
       "    console.info(\"Bokeh: all callbacks have finished\");\n",
       "  }\n",
       "\n",
       "  function load_libs(js_urls, callback) {\n",
       "    root._bokeh_onload_callbacks.push(callback);\n",
       "    if (root._bokeh_is_loading > 0) {\n",
       "      console.log(\"Bokeh: BokehJS is being loaded, scheduling callback at\", now());\n",
       "      return null;\n",
       "    }\n",
       "    if (js_urls == null || js_urls.length === 0) {\n",
       "      run_callbacks();\n",
       "      return null;\n",
       "    }\n",
       "    console.log(\"Bokeh: BokehJS not loaded, scheduling load and callback at\", now());\n",
       "    root._bokeh_is_loading = js_urls.length;\n",
       "    for (var i = 0; i < js_urls.length; i++) {\n",
       "      var url = js_urls[i];\n",
       "      var s = document.createElement('script');\n",
       "      s.src = url;\n",
       "      s.async = false;\n",
       "      s.onreadystatechange = s.onload = function() {\n",
       "        root._bokeh_is_loading--;\n",
       "        if (root._bokeh_is_loading === 0) {\n",
       "          console.log(\"Bokeh: all BokehJS libraries loaded\");\n",
       "          run_callbacks()\n",
       "        }\n",
       "      };\n",
       "      s.onerror = function() {\n",
       "        console.warn(\"failed to load library \" + url);\n",
       "      };\n",
       "      console.log(\"Bokeh: injecting script tag for BokehJS library: \", url);\n",
       "      document.getElementsByTagName(\"head\")[0].appendChild(s);\n",
       "    }\n",
       "  };var element = document.getElementById(\"f3c1fba4-5412-4be7-ab4d-8033d97a5ba2\");\n",
       "  if (element == null) {\n",
       "    console.log(\"Bokeh: ERROR: autoload.js configured with elementid 'f3c1fba4-5412-4be7-ab4d-8033d97a5ba2' but no matching script tag was found. \")\n",
       "    return false;\n",
       "  }\n",
       "\n",
       "  var js_urls = [\"https://cdn.pydata.org/bokeh/release/bokeh-0.12.10.min.js\", \"https://cdn.pydata.org/bokeh/release/bokeh-widgets-0.12.10.min.js\", \"https://cdn.pydata.org/bokeh/release/bokeh-tables-0.12.10.min.js\", \"https://cdn.pydata.org/bokeh/release/bokeh-gl-0.12.10.min.js\"];\n",
       "\n",
       "  var inline_js = [\n",
       "    function(Bokeh) {\n",
       "      Bokeh.set_log_level(\"info\");\n",
       "    },\n",
       "    \n",
       "    function(Bokeh) {\n",
       "      \n",
       "    },\n",
       "    function(Bokeh) {\n",
       "      console.log(\"Bokeh: injecting CSS: https://cdn.pydata.org/bokeh/release/bokeh-0.12.10.min.css\");\n",
       "      Bokeh.embed.inject_css(\"https://cdn.pydata.org/bokeh/release/bokeh-0.12.10.min.css\");\n",
       "      console.log(\"Bokeh: injecting CSS: https://cdn.pydata.org/bokeh/release/bokeh-widgets-0.12.10.min.css\");\n",
       "      Bokeh.embed.inject_css(\"https://cdn.pydata.org/bokeh/release/bokeh-widgets-0.12.10.min.css\");\n",
       "      console.log(\"Bokeh: injecting CSS: https://cdn.pydata.org/bokeh/release/bokeh-tables-0.12.10.min.css\");\n",
       "      Bokeh.embed.inject_css(\"https://cdn.pydata.org/bokeh/release/bokeh-tables-0.12.10.min.css\");\n",
       "    }\n",
       "  ];\n",
       "\n",
       "  function run_inline_js() {\n",
       "    \n",
       "    if ((root.Bokeh !== undefined) || (force === true)) {\n",
       "      for (var i = 0; i < inline_js.length; i++) {\n",
       "        inline_js[i].call(root, root.Bokeh);\n",
       "      }if (force === true) {\n",
       "        display_loaded();\n",
       "      }} else if (Date.now() < root._bokeh_timeout) {\n",
       "      setTimeout(run_inline_js, 100);\n",
       "    } else if (!root._bokeh_failed_load) {\n",
       "      console.log(\"Bokeh: BokehJS failed to load within specified timeout.\");\n",
       "      root._bokeh_failed_load = true;\n",
       "    } else if (force !== true) {\n",
       "      var cell = $(document.getElementById(\"f3c1fba4-5412-4be7-ab4d-8033d97a5ba2\")).parents('.cell').data().cell;\n",
       "      cell.output_area.append_execute_result(NB_LOAD_WARNING)\n",
       "    }\n",
       "\n",
       "  }\n",
       "\n",
       "  if (root._bokeh_is_loading === 0) {\n",
       "    console.log(\"Bokeh: BokehJS loaded, going straight to plotting\");\n",
       "    run_inline_js();\n",
       "  } else {\n",
       "    load_libs(js_urls, function() {\n",
       "      console.log(\"Bokeh: BokehJS plotting callback run at\", now());\n",
       "      run_inline_js();\n",
       "    });\n",
       "  }\n",
       "}(window));"
      ],
      "application/vnd.bokehjs_load.v0+json": "\n(function(root) {\n  function now() {\n    return new Date();\n  }\n\n  var force = true;\n\n  if (typeof (root._bokeh_onload_callbacks) === \"undefined\" || force === true) {\n    root._bokeh_onload_callbacks = [];\n    root._bokeh_is_loading = undefined;\n  }\n\n  \n\n  \n  if (typeof (root._bokeh_timeout) === \"undefined\" || force === true) {\n    root._bokeh_timeout = Date.now() + 5000;\n    root._bokeh_failed_load = false;\n  }\n\n  var NB_LOAD_WARNING = {'data': {'text/html':\n     \"<div style='background-color: #fdd'>\\n\"+\n     \"<p>\\n\"+\n     \"BokehJS does not appear to have successfully loaded. If loading BokehJS from CDN, this \\n\"+\n     \"may be due to a slow or bad network connection. Possible fixes:\\n\"+\n     \"</p>\\n\"+\n     \"<ul>\\n\"+\n     \"<li>re-rerun `output_notebook()` to attempt to load from CDN again, or</li>\\n\"+\n     \"<li>use INLINE resources instead, as so:</li>\\n\"+\n     \"</ul>\\n\"+\n     \"<code>\\n\"+\n     \"from bokeh.resources import INLINE\\n\"+\n     \"output_notebook(resources=INLINE)\\n\"+\n     \"</code>\\n\"+\n     \"</div>\"}};\n\n  function display_loaded() {\n    var el = document.getElementById(\"f3c1fba4-5412-4be7-ab4d-8033d97a5ba2\");\n    if (el != null) {\n      el.textContent = \"BokehJS is loading...\";\n    }\n    if (root.Bokeh !== undefined) {\n      if (el != null) {\n        el.textContent = \"BokehJS \" + root.Bokeh.version + \" successfully loaded.\";\n      }\n    } else if (Date.now() < root._bokeh_timeout) {\n      setTimeout(display_loaded, 100)\n    }\n  }\n\n\n  function run_callbacks() {\n    try {\n      root._bokeh_onload_callbacks.forEach(function(callback) { callback() });\n    }\n    finally {\n      delete root._bokeh_onload_callbacks\n    }\n    console.info(\"Bokeh: all callbacks have finished\");\n  }\n\n  function load_libs(js_urls, callback) {\n    root._bokeh_onload_callbacks.push(callback);\n    if (root._bokeh_is_loading > 0) {\n      console.log(\"Bokeh: BokehJS is being loaded, scheduling callback at\", now());\n      return null;\n    }\n    if (js_urls == null || js_urls.length === 0) {\n      run_callbacks();\n      return null;\n    }\n    console.log(\"Bokeh: BokehJS not loaded, scheduling load and callback at\", now());\n    root._bokeh_is_loading = js_urls.length;\n    for (var i = 0; i < js_urls.length; i++) {\n      var url = js_urls[i];\n      var s = document.createElement('script');\n      s.src = url;\n      s.async = false;\n      s.onreadystatechange = s.onload = function() {\n        root._bokeh_is_loading--;\n        if (root._bokeh_is_loading === 0) {\n          console.log(\"Bokeh: all BokehJS libraries loaded\");\n          run_callbacks()\n        }\n      };\n      s.onerror = function() {\n        console.warn(\"failed to load library \" + url);\n      };\n      console.log(\"Bokeh: injecting script tag for BokehJS library: \", url);\n      document.getElementsByTagName(\"head\")[0].appendChild(s);\n    }\n  };var element = document.getElementById(\"f3c1fba4-5412-4be7-ab4d-8033d97a5ba2\");\n  if (element == null) {\n    console.log(\"Bokeh: ERROR: autoload.js configured with elementid 'f3c1fba4-5412-4be7-ab4d-8033d97a5ba2' but no matching script tag was found. \")\n    return false;\n  }\n\n  var js_urls = [\"https://cdn.pydata.org/bokeh/release/bokeh-0.12.10.min.js\", \"https://cdn.pydata.org/bokeh/release/bokeh-widgets-0.12.10.min.js\", \"https://cdn.pydata.org/bokeh/release/bokeh-tables-0.12.10.min.js\", \"https://cdn.pydata.org/bokeh/release/bokeh-gl-0.12.10.min.js\"];\n\n  var inline_js = [\n    function(Bokeh) {\n      Bokeh.set_log_level(\"info\");\n    },\n    \n    function(Bokeh) {\n      \n    },\n    function(Bokeh) {\n      console.log(\"Bokeh: injecting CSS: https://cdn.pydata.org/bokeh/release/bokeh-0.12.10.min.css\");\n      Bokeh.embed.inject_css(\"https://cdn.pydata.org/bokeh/release/bokeh-0.12.10.min.css\");\n      console.log(\"Bokeh: injecting CSS: https://cdn.pydata.org/bokeh/release/bokeh-widgets-0.12.10.min.css\");\n      Bokeh.embed.inject_css(\"https://cdn.pydata.org/bokeh/release/bokeh-widgets-0.12.10.min.css\");\n      console.log(\"Bokeh: injecting CSS: https://cdn.pydata.org/bokeh/release/bokeh-tables-0.12.10.min.css\");\n      Bokeh.embed.inject_css(\"https://cdn.pydata.org/bokeh/release/bokeh-tables-0.12.10.min.css\");\n    }\n  ];\n\n  function run_inline_js() {\n    \n    if ((root.Bokeh !== undefined) || (force === true)) {\n      for (var i = 0; i < inline_js.length; i++) {\n        inline_js[i].call(root, root.Bokeh);\n      }if (force === true) {\n        display_loaded();\n      }} else if (Date.now() < root._bokeh_timeout) {\n      setTimeout(run_inline_js, 100);\n    } else if (!root._bokeh_failed_load) {\n      console.log(\"Bokeh: BokehJS failed to load within specified timeout.\");\n      root._bokeh_failed_load = true;\n    } else if (force !== true) {\n      var cell = $(document.getElementById(\"f3c1fba4-5412-4be7-ab4d-8033d97a5ba2\")).parents('.cell').data().cell;\n      cell.output_area.append_execute_result(NB_LOAD_WARNING)\n    }\n\n  }\n\n  if (root._bokeh_is_loading === 0) {\n    console.log(\"Bokeh: BokehJS loaded, going straight to plotting\");\n    run_inline_js();\n  } else {\n    load_libs(js_urls, function() {\n      console.log(\"Bokeh: BokehJS plotting callback run at\", now());\n      run_inline_js();\n    });\n  }\n}(window));"
     },
     "metadata": {},
     "output_type": "display_data"
    }
   ],
   "source": [
    "import pandas as pd\n",
    "pd.options.mode.chained_assignment = None\n",
    "import numpy as np\n",
    "import sys; sys.path.append('modules')\n",
    "import HierarchicalClustering as hc\n",
    "import Visual_static as vis\n",
    "from bokeh.io import output_notebook, push_notebook, show\n",
    "from bokeh.layouts import row\n",
    "output_notebook()"
   ]
  },
  {
   "cell_type": "code",
   "execution_count": 3,
   "metadata": {},
   "outputs": [
    {
     "name": "stdout",
     "output_type": "stream",
     "text": [
      "Interpolation done.\n",
      "Clustering done.\n"
     ]
    }
   ],
   "source": [
    "df_listing = pd\\\n",
    "    .read_pickle('data/market_set_cleaned.pickle')\\\n",
    "    .reset_index(drop=True)\n",
    "df_building = pd\\\n",
    "    .read_pickle('data/building_set_cleaned.pickle')\\\n",
    "    .drop(labels=['DOITT_ID', 'footprint'], axis=1)\\\n",
    "    .reset_index(drop=True)\n",
    "    \n",
    "HC = hc.HierarchicalClustering(df_listing, df_building)\n",
    "HC.prepareData(IDWpower=0.1, n_ngb=13)\n",
    "HC.clustering(\n",
    "    n_clusters=600, method='complete', metric='euclidean'\n",
    ")"
   ]
  },
  {
   "cell_type": "markdown",
   "metadata": {},
   "source": [
    "## Querying clustering using cluster statistics\n",
    "In the process of clustering, we calculate some statistics for each cluster:\n",
    "- Popularity mean\n",
    "- Popularity variance\n",
    "- cluster size\n",
    "- cluster area\n",
    "\n",
    "What we can do with these statistics are:\n",
    "1. We can use them to filter clusters. For example, we can filter out 100 clusters with highest popularities.\n",
    "2. We can visualize these clusters using statistics as color coding. For example, we can plot the clusters colored by their popularity mean.   \n",
    "(green->red : unpopular->popular)."
   ]
  },
  {
   "cell_type": "code",
   "execution_count": 4,
   "metadata": {},
   "outputs": [
    {
     "data": {
      "text/html": [
       "<div>\n",
       "<style scoped>\n",
       "    .dataframe tbody tr th:only-of-type {\n",
       "        vertical-align: middle;\n",
       "    }\n",
       "\n",
       "    .dataframe tbody tr th {\n",
       "        vertical-align: top;\n",
       "    }\n",
       "\n",
       "    .dataframe thead th {\n",
       "        text-align: right;\n",
       "    }\n",
       "</style>\n",
       "<table border=\"1\" class=\"dataframe\">\n",
       "  <thead>\n",
       "    <tr style=\"text-align: right;\">\n",
       "      <th></th>\n",
       "      <th>x</th>\n",
       "      <th>y</th>\n",
       "      <th>popularity</th>\n",
       "      <th>cluster</th>\n",
       "      <th>area</th>\n",
       "      <th>mean</th>\n",
       "      <th>size</th>\n",
       "      <th>variance</th>\n",
       "    </tr>\n",
       "  </thead>\n",
       "  <tbody>\n",
       "    <tr>\n",
       "      <th>0</th>\n",
       "      <td>-1.653851</td>\n",
       "      <td>1.595556</td>\n",
       "      <td>-1.234482</td>\n",
       "      <td>31.0</td>\n",
       "      <td>0.371805</td>\n",
       "      <td>0.029672</td>\n",
       "      <td>0.046512</td>\n",
       "      <td>0.319083</td>\n",
       "    </tr>\n",
       "    <tr>\n",
       "      <th>1</th>\n",
       "      <td>-0.957240</td>\n",
       "      <td>-0.942289</td>\n",
       "      <td>1.185440</td>\n",
       "      <td>102.0</td>\n",
       "      <td>0.280429</td>\n",
       "      <td>0.344522</td>\n",
       "      <td>0.116279</td>\n",
       "      <td>0.025513</td>\n",
       "    </tr>\n",
       "    <tr>\n",
       "      <th>2</th>\n",
       "      <td>-0.431375</td>\n",
       "      <td>1.157017</td>\n",
       "      <td>0.968910</td>\n",
       "      <td>164.0</td>\n",
       "      <td>0.727016</td>\n",
       "      <td>0.307627</td>\n",
       "      <td>0.296512</td>\n",
       "      <td>0.016890</td>\n",
       "    </tr>\n",
       "    <tr>\n",
       "      <th>3</th>\n",
       "      <td>0.794382</td>\n",
       "      <td>-0.943578</td>\n",
       "      <td>-0.027957</td>\n",
       "      <td>194.0</td>\n",
       "      <td>0.413933</td>\n",
       "      <td>0.192525</td>\n",
       "      <td>0.209302</td>\n",
       "      <td>0.012023</td>\n",
       "    </tr>\n",
       "    <tr>\n",
       "      <th>4</th>\n",
       "      <td>0.138062</td>\n",
       "      <td>1.035020</td>\n",
       "      <td>0.600564</td>\n",
       "      <td>316.0</td>\n",
       "      <td>0.358621</td>\n",
       "      <td>0.282154</td>\n",
       "      <td>0.668605</td>\n",
       "      <td>0.155873</td>\n",
       "    </tr>\n",
       "  </tbody>\n",
       "</table>\n",
       "</div>"
      ],
      "text/plain": [
       "          x         y  popularity  cluster      area      mean      size  \\\n",
       "0 -1.653851  1.595556   -1.234482     31.0  0.371805  0.029672  0.046512   \n",
       "1 -0.957240 -0.942289    1.185440    102.0  0.280429  0.344522  0.116279   \n",
       "2 -0.431375  1.157017    0.968910    164.0  0.727016  0.307627  0.296512   \n",
       "3  0.794382 -0.943578   -0.027957    194.0  0.413933  0.192525  0.209302   \n",
       "4  0.138062  1.035020    0.600564    316.0  0.358621  0.282154  0.668605   \n",
       "\n",
       "   variance  \n",
       "0  0.319083  \n",
       "1  0.025513  \n",
       "2  0.016890  \n",
       "3  0.012023  \n",
       "4  0.155873  "
      ]
     },
     "execution_count": 4,
     "metadata": {},
     "output_type": "execute_result"
    }
   ],
   "source": [
    "HC.clusters.head() # The dataset of each data point with their corresponding cluster's statistics"
   ]
  },
  {
   "cell_type": "code",
   "execution_count": 25,
   "metadata": {
    "scrolled": false
   },
   "outputs": [],
   "source": [
    "v = vis.Visual(figWidth=400)\n",
    "# v.plotClustering(HC.clusters, color='mean')"
   ]
  },
  {
   "cell_type": "markdown",
   "metadata": {},
   "source": [
    "<img src=\"images/all.png\" width=\"400\">\n",
    "\n",
    "### Examples:\n",
    "In the 1st example, let's filter out the top 200 largest clusters in terms of area and plot them colored by mean, variance and size respectively. \n",
    "\n",
    "To do this, we will first sort the stats by the area column and take the top 200 clusters. And then we filter the dataset with the cluster indices corresponding to the top 200 clusters. At last we plot the clustering colored by different statistics."
   ]
  },
  {
   "cell_type": "code",
   "execution_count": 6,
   "metadata": {},
   "outputs": [],
   "source": [
    "largeClusters_200 = HC.clusterStats\\\n",
    "    .copy()\\\n",
    "    .sort_values('area', ascending=False)\\\n",
    "    .head(n=200)\n",
    "data = HC.clusters.copy()\n",
    "mask = data['cluster'].isin(largeClusters_200.index)\n",
    "data = data[mask]"
   ]
  },
  {
   "cell_type": "code",
   "execution_count": 26,
   "metadata": {
    "scrolled": false
   },
   "outputs": [],
   "source": [
    "v1 = vis.Visual(figWidth=300, title='colored by mean')\n",
    "v1.plotClustering(data, color='mean', show=False)\n",
    "v2 = vis.Visual(figWidth=300, title='colored by variance', \n",
    "     x_range=v1.p.x_range, y_range=v1.p.y_range)\n",
    "v2.plotClustering(data, color='variance', show=False)\n",
    "v3 = vis.Visual(figWidth=300, title='colored by size', \n",
    "     x_range=v1.p.x_range, y_range=v1.p.y_range)\n",
    "v3.plotClustering(data, color='size', show=False)\n",
    "# show(row(v1.p, v2.p, v3.p))"
   ]
  },
  {
   "cell_type": "markdown",
   "metadata": {},
   "source": [
    "<img src=\"images/top_area_clusters.png\" width=\"1300\">\n",
    "\n",
    "In the 2nd example, we will investigate the clusters with large popularity variance and look at their popularity mean."
   ]
  },
  {
   "cell_type": "code",
   "execution_count": 8,
   "metadata": {},
   "outputs": [],
   "source": [
    "largeVarClusters = HC.clusterStats.copy()\\\n",
    "    .sort_values('variance', ascending=False)\\\n",
    "    .head(n=200)\n",
    "data = HC.clusters.copy()\n",
    "data = data[data['cluster'].isin(largeVarClusters.index)]"
   ]
  },
  {
   "cell_type": "code",
   "execution_count": 27,
   "metadata": {},
   "outputs": [],
   "source": [
    "v1 = vis.Visual(figWidth=300, title=\"Full clustering\")\n",
    "v1.plotClustering(HC.clusters, color='mean', show=False)\n",
    "v2 = vis.Visual(figWidth=300, title=\"Large variance clusters colored by mean\")\n",
    "v2.plotClustering(data, color='mean', bins=v1.bins, show=False)\n",
    "v3 = vis.Visual(figWidth=300, title=\"Large variance clusters colored by variance\")\n",
    "v3.plotClustering(data, color='variance', show=False)\n",
    "# show(row(v1.p, v2.p, v3.p))"
   ]
  },
  {
   "cell_type": "markdown",
   "metadata": {},
   "source": [
    "<img src=\"images/top_variance_clusters.png\" width=\"1300\">\n",
    "\n",
    "## Compare different datasets\n",
    "\n",
    "Besides querying one clustering with its stats, we can also comparing different clusterings. Recall that we have different features in the listing dataset like price level, whether there is broker fee, whether there is fitness center in the building etc. We can use these features to create different listing datasets and then compare the clustering results coming from different datasets interpolated from different listing datasets.\n",
    "\n",
    "As examples, we will compare the following clusters:\n",
    "    - low price rentals vs high price rentals\n",
    "    - 1-bedroom rentals, 2-bedroom rentals vs 4-bedroom rentals\n",
    "    - rentals without elevators vs rentals with elevators\n",
    "    - rentals without gym vs rentals with gym"
   ]
  },
  {
   "cell_type": "code",
   "execution_count": 10,
   "metadata": {},
   "outputs": [
    {
     "data": {
      "text/html": [
       "<div>\n",
       "<style scoped>\n",
       "    .dataframe tbody tr th:only-of-type {\n",
       "        vertical-align: middle;\n",
       "    }\n",
       "\n",
       "    .dataframe tbody tr th {\n",
       "        vertical-align: top;\n",
       "    }\n",
       "\n",
       "    .dataframe thead th {\n",
       "        text-align: right;\n",
       "    }\n",
       "</style>\n",
       "<table border=\"1\" class=\"dataframe\">\n",
       "  <thead>\n",
       "    <tr style=\"text-align: right;\">\n",
       "      <th></th>\n",
       "      <th>bath</th>\n",
       "      <th>bed</th>\n",
       "      <th>y</th>\n",
       "      <th>x</th>\n",
       "      <th>center_pt</th>\n",
       "      <th>price_bin</th>\n",
       "      <th>broker</th>\n",
       "      <th>elevator</th>\n",
       "      <th>fitness_center</th>\n",
       "      <th>popularity</th>\n",
       "    </tr>\n",
       "  </thead>\n",
       "  <tbody>\n",
       "    <tr>\n",
       "      <th>0</th>\n",
       "      <td>1.0</td>\n",
       "      <td>3</td>\n",
       "      <td>352061.960979</td>\n",
       "      <td>-9.614608e+06</td>\n",
       "      <td>(-9614608.448523302, 352061.96097883163)</td>\n",
       "      <td>3</td>\n",
       "      <td>0</td>\n",
       "      <td>1</td>\n",
       "      <td>1</td>\n",
       "      <td>2</td>\n",
       "    </tr>\n",
       "    <tr>\n",
       "      <th>1</th>\n",
       "      <td>1.0</td>\n",
       "      <td>2</td>\n",
       "      <td>367089.294251</td>\n",
       "      <td>-9.615811e+06</td>\n",
       "      <td>(-9615810.566116467, 367089.2942514741)</td>\n",
       "      <td>0</td>\n",
       "      <td>1</td>\n",
       "      <td>0</td>\n",
       "      <td>0</td>\n",
       "      <td>2</td>\n",
       "    </tr>\n",
       "    <tr>\n",
       "      <th>2</th>\n",
       "      <td>1.5</td>\n",
       "      <td>3</td>\n",
       "      <td>365770.867282</td>\n",
       "      <td>-9.613973e+06</td>\n",
       "      <td>(-9613972.983376194, 365770.86728249304)</td>\n",
       "      <td>1</td>\n",
       "      <td>1</td>\n",
       "      <td>0</td>\n",
       "      <td>0</td>\n",
       "      <td>1</td>\n",
       "    </tr>\n",
       "    <tr>\n",
       "      <th>3</th>\n",
       "      <td>2.0</td>\n",
       "      <td>3</td>\n",
       "      <td>365840.105803</td>\n",
       "      <td>-9.616608e+06</td>\n",
       "      <td>(-9616607.920002967, 365840.10580306733)</td>\n",
       "      <td>2</td>\n",
       "      <td>0</td>\n",
       "      <td>0</td>\n",
       "      <td>0</td>\n",
       "      <td>1</td>\n",
       "    </tr>\n",
       "    <tr>\n",
       "      <th>4</th>\n",
       "      <td>2.0</td>\n",
       "      <td>2</td>\n",
       "      <td>359408.889190</td>\n",
       "      <td>-9.617688e+06</td>\n",
       "      <td>(-9617688.486000193, 359408.8891899623)</td>\n",
       "      <td>3</td>\n",
       "      <td>0</td>\n",
       "      <td>1</td>\n",
       "      <td>1</td>\n",
       "      <td>2</td>\n",
       "    </tr>\n",
       "  </tbody>\n",
       "</table>\n",
       "</div>"
      ],
      "text/plain": [
       "   bath  bed              y             x  \\\n",
       "0   1.0    3  352061.960979 -9.614608e+06   \n",
       "1   1.0    2  367089.294251 -9.615811e+06   \n",
       "2   1.5    3  365770.867282 -9.613973e+06   \n",
       "3   2.0    3  365840.105803 -9.616608e+06   \n",
       "4   2.0    2  359408.889190 -9.617688e+06   \n",
       "\n",
       "                                  center_pt  price_bin  broker  elevator  \\\n",
       "0  (-9614608.448523302, 352061.96097883163)          3       0         1   \n",
       "1   (-9615810.566116467, 367089.2942514741)          0       1         0   \n",
       "2  (-9613972.983376194, 365770.86728249304)          1       1         0   \n",
       "3  (-9616607.920002967, 365840.10580306733)          2       0         0   \n",
       "4   (-9617688.486000193, 359408.8891899623)          3       0         1   \n",
       "\n",
       "   fitness_center  popularity  \n",
       "0               1           2  \n",
       "1               0           2  \n",
       "2               0           1  \n",
       "3               0           1  \n",
       "4               1           2  "
      ]
     },
     "execution_count": 10,
     "metadata": {},
     "output_type": "execute_result"
    }
   ],
   "source": [
    "df_listing.head()"
   ]
  },
  {
   "cell_type": "markdown",
   "metadata": {},
   "source": [
    "### Price levels:\n",
    "The listing apartments are in 4 price bins. We can compare the clusterings interpolated from low, median and high price apartments."
   ]
  },
  {
   "cell_type": "code",
   "execution_count": 11,
   "metadata": {},
   "outputs": [
    {
     "data": {
      "text/plain": [
       "count    10000.000000\n",
       "mean         1.515300\n",
       "std          1.100221\n",
       "min          0.000000\n",
       "25%          1.000000\n",
       "50%          1.000000\n",
       "75%          2.000000\n",
       "max          3.000000\n",
       "Name: price_bin, dtype: float64"
      ]
     },
     "execution_count": 11,
     "metadata": {},
     "output_type": "execute_result"
    }
   ],
   "source": [
    "df_listing['price_bin'].describe()"
   ]
  },
  {
   "cell_type": "code",
   "execution_count": 12,
   "metadata": {},
   "outputs": [
    {
     "name": "stdout",
     "output_type": "stream",
     "text": [
      "The size of low price apartment listing dataset: 2311\n",
      "The size of median price apartment listing dataset: 2717\n",
      "The size of high price apartment listing dataset: 2492\n"
     ]
    }
   ],
   "source": [
    "listing_datasets = [\n",
    "    df_listing[df_listing['price_bin']==0],\n",
    "    df_listing[df_listing['price_bin']==1],\n",
    "    df_listing[df_listing['price_bin']==3]\n",
    "]\n",
    "print(\"The size of low price apartment listing dataset: %d\" %len(listing_datasets[0]))\n",
    "print(\"The size of median price apartment listing dataset: %d\" %len(listing_datasets[1]))\n",
    "print(\"The size of high price apartment listing dataset: %d\" %len(listing_datasets[2]))"
   ]
  },
  {
   "cell_type": "code",
   "execution_count": 13,
   "metadata": {},
   "outputs": [
    {
     "name": "stdout",
     "output_type": "stream",
     "text": [
      "Interpolation done.\n",
      "Clustering done.\n",
      "Interpolation done.\n",
      "Clustering done.\n",
      "Interpolation done.\n",
      "Clustering done.\n"
     ]
    }
   ],
   "source": [
    "HCs_price = []\n",
    "for listing_dataset in listing_datasets:\n",
    "    HC = hc.HierarchicalClustering(listing_dataset, df_building)\n",
    "    HC.prepareData(IDWpower=0.1, n_ngb=13)\n",
    "    HC.clustering(\n",
    "        n_clusters=600, method='complete', metric='euclidean'\n",
    "    )\n",
    "    HCs_price.append(HC)"
   ]
  },
  {
   "cell_type": "code",
   "execution_count": 28,
   "metadata": {},
   "outputs": [],
   "source": [
    "datas = [HC.clusters for HC in HCs_price]\n",
    "titles=[\n",
    "    'low price rentals clustering', \n",
    "    'median price rentals clustering', \n",
    "    'high price rentals clustering'\n",
    "]\n",
    "v1 = vis.Visual(figWidth=300, title=titles[0])\n",
    "v1.plotClustering(datas[0], show=False)\n",
    "v2 = vis.Visual(figWidth=300, title=titles[1])\n",
    "v2.plotClustering(datas[1], show=False)\n",
    "v3 = vis.Visual(figWidth=300, title=titles[2])\n",
    "v3.plotClustering(datas[2], show=False)\n",
    "# show(row(v1.p, v2.p, v3.p))"
   ]
  },
  {
   "cell_type": "markdown",
   "metadata": {},
   "source": [
    "<img src=\"images/prices.png\" width=\"1300\">\n",
    "\n",
    "### Number of bedrooms:"
   ]
  },
  {
   "cell_type": "code",
   "execution_count": 15,
   "metadata": {},
   "outputs": [
    {
     "data": {
      "text/plain": [
       "count    10000.000000\n",
       "mean         1.509300\n",
       "std          1.063403\n",
       "min          0.000000\n",
       "25%          1.000000\n",
       "50%          1.000000\n",
       "75%          2.000000\n",
       "max          4.000000\n",
       "Name: bed, dtype: float64"
      ]
     },
     "execution_count": 15,
     "metadata": {},
     "output_type": "execute_result"
    }
   ],
   "source": [
    "df_listing['bed'].describe()"
   ]
  },
  {
   "cell_type": "code",
   "execution_count": 16,
   "metadata": {},
   "outputs": [
    {
     "name": "stdout",
     "output_type": "stream",
     "text": [
      "The size of 1-bedroom apartment listing dataset: 3315\n",
      "The size of 2-bedroom apartment listing dataset: 2993\n",
      "The size of 4-bedroom apartment listing dataset: 356\n"
     ]
    }
   ],
   "source": [
    "listing_datasets = [\n",
    "    df_listing[df_listing['bed']==1],\n",
    "    df_listing[df_listing['bed']==2],\n",
    "    df_listing[df_listing['bed']==4]\n",
    "]\n",
    "print(\"The size of 1-bedroom apartment listing dataset: %d\" %len(listing_datasets[0]))\n",
    "print(\"The size of 2-bedroom apartment listing dataset: %d\" %len(listing_datasets[1]))\n",
    "print(\"The size of 4-bedroom apartment listing dataset: %d\" %len(listing_datasets[2]))"
   ]
  },
  {
   "cell_type": "code",
   "execution_count": 17,
   "metadata": {},
   "outputs": [
    {
     "name": "stdout",
     "output_type": "stream",
     "text": [
      "Interpolation done.\n",
      "Clustering done.\n",
      "Interpolation done.\n",
      "Clustering done.\n",
      "Interpolation done.\n",
      "Clustering done.\n"
     ]
    }
   ],
   "source": [
    "HCs_br = []\n",
    "for listing_dataset in listing_datasets:\n",
    "    HC = hc.HierarchicalClustering(listing_dataset, df_building)\n",
    "    HC.prepareData(IDWpower=0.1, n_ngb=13)\n",
    "    HC.clustering(\n",
    "        n_clusters=600, method='complete', metric='euclidean'\n",
    "    )\n",
    "    HCs_br.append(HC)"
   ]
  },
  {
   "cell_type": "code",
   "execution_count": 29,
   "metadata": {},
   "outputs": [],
   "source": [
    "datas = [HC.clusters for HC in HCs_br]\n",
    "titles=[\n",
    "    '1-bedroom rentals clustering', \n",
    "    '2-bedroom rentals clustering', \n",
    "    '4-bedroom rentals clustering'\n",
    "]\n",
    "v1 = vis.Visual(figWidth=300, title=titles[0])\n",
    "v1.plotClustering(datas[0], show=False)\n",
    "v2 = vis.Visual(figWidth=300, title=titles[1])\n",
    "v2.plotClustering(datas[1], show=False)\n",
    "v3 = vis.Visual(figWidth=300, title=titles[2])\n",
    "v3.plotClustering(datas[2], show=False)\n",
    "# show(row(v1.p, v2.p, v3.p))"
   ]
  },
  {
   "cell_type": "markdown",
   "metadata": {},
   "source": [
    "<img src=\"images/bedrooms.png\" width=\"1300\">\n",
    "\n",
    "### Elevators:"
   ]
  },
  {
   "cell_type": "code",
   "execution_count": 19,
   "metadata": {},
   "outputs": [
    {
     "name": "stdout",
     "output_type": "stream",
     "text": [
      "The size of non-elevator apartment listing dataset: 7321\n",
      "The size of elevator apartment listing dataset: 2679\n"
     ]
    }
   ],
   "source": [
    "listing_datasets = [\n",
    "    df_listing[df_listing['elevator']==0],\n",
    "    df_listing[df_listing['elevator']==1]\n",
    "]\n",
    "print(\"The size of non-elevator apartment listing dataset: %d\" %len(listing_datasets[0]))\n",
    "print(\"The size of elevator apartment listing dataset: %d\" %len(listing_datasets[1]))"
   ]
  },
  {
   "cell_type": "code",
   "execution_count": 20,
   "metadata": {},
   "outputs": [
    {
     "name": "stdout",
     "output_type": "stream",
     "text": [
      "Interpolation done.\n",
      "Clustering done.\n",
      "Interpolation done.\n",
      "Clustering done.\n"
     ]
    }
   ],
   "source": [
    "HCs_elev = []\n",
    "for listing_dataset in listing_datasets:\n",
    "    HC = hc.HierarchicalClustering(listing_dataset, df_building)\n",
    "    HC.prepareData(IDWpower=0.1, n_ngb=13)\n",
    "    HC.clustering(\n",
    "        n_clusters=600, method='complete', metric='euclidean'\n",
    "    )\n",
    "    HCs_elev.append(HC)"
   ]
  },
  {
   "cell_type": "code",
   "execution_count": 30,
   "metadata": {},
   "outputs": [],
   "source": [
    "datas = [HC.clusters for HC in HCs_elev]\n",
    "titles=['non-elevator rentals clustering', 'elevator rentals clustering']\n",
    "v1 = vis.Visual(figWidth=450, title=titles[0])\n",
    "v1.plotClustering(datas[0], show=False)\n",
    "v2 = vis.Visual(figWidth=450, title=titles[1])\n",
    "v2.plotClustering(datas[1], show=False)\n",
    "# show(row(v1.p, v2.p))"
   ]
  },
  {
   "cell_type": "markdown",
   "metadata": {},
   "source": [
    "<img src=\"images/elevators.png\" width=\"600\">\n",
    "\n",
    "### Gyms:"
   ]
  },
  {
   "cell_type": "code",
   "execution_count": 22,
   "metadata": {},
   "outputs": [
    {
     "name": "stdout",
     "output_type": "stream",
     "text": [
      "The size of non-fitness_center apartment listing dataset: 7321\n",
      "The size of fitness_center apartment listing dataset: 2679\n"
     ]
    }
   ],
   "source": [
    "listing_datasets = [\n",
    "    df_listing[df_listing['fitness_center']==0],\n",
    "    df_listing[df_listing['fitness_center']==1]\n",
    "]\n",
    "print(\"The size of non-fitness_center apartment listing dataset: %d\" \n",
    "      %len(listing_datasets[0]))\n",
    "print(\"The size of fitness_center apartment listing dataset: %d\" \n",
    "      %len(listing_datasets[1]))"
   ]
  },
  {
   "cell_type": "code",
   "execution_count": 23,
   "metadata": {},
   "outputs": [
    {
     "name": "stdout",
     "output_type": "stream",
     "text": [
      "Interpolation done.\n",
      "Clustering done.\n",
      "Interpolation done.\n",
      "Clustering done.\n"
     ]
    }
   ],
   "source": [
    "HCs_fc = []\n",
    "for listing_dataset in listing_datasets:\n",
    "    HC = hc.HierarchicalClustering(listing_dataset, df_building)\n",
    "    HC.prepareData(IDWpower=0.1, n_ngb=13)\n",
    "    HC.clustering(\n",
    "        n_clusters=600, method='complete', metric='euclidean'\n",
    "    )\n",
    "    HCs_fc.append(HC)"
   ]
  },
  {
   "cell_type": "code",
   "execution_count": 31,
   "metadata": {},
   "outputs": [],
   "source": [
    "datas_fc = [HC.clusters for HC in HCs_fc]\n",
    "titles=[\n",
    "    'non-fitness_center rentals clustering', \n",
    "    'fitness_center rentals clustering'\n",
    "]\n",
    "v_fc_0 = vis.Visual(figWidth=450, title=titles[0])\n",
    "v_fc_0.plotClustering(datas_fc[0], show=False)\n",
    "v_fc_1 = vis.Visual(figWidth=450, title=titles[1])\n",
    "v_fc_1.plotClustering(datas_fc[1], show=False)\n",
    "# show(row(v_fc_0.p, v_fc_1.p))"
   ]
  },
  {
   "cell_type": "markdown",
   "metadata": {},
   "source": [
    "<img src=\"images/gyms.png\" width=\"600\">\n"
   ]
  },
  {
   "cell_type": "markdown",
   "metadata": {
    "collapsed": true
   },
   "source": [
    "## Conclusion: \n",
    "By performing interpolation and clustering, we show that the geographic pattern do exist for Manhattan rental apartments. And it is affected differently by different apartment properties. \n",
    "\n",
    "Some apartment properties like price and number of bedrooms have heavy impacts on clustering. Some other properties like elevator or gym affect the building grouping in the same way but less compared to price or bedrooms.  They may be important, but they are independent of geographic location. "
   ]
  }
 ],
 "metadata": {
  "anaconda-cloud": {},
  "kernelspec": {
   "display_name": "Python 3",
   "language": "python",
   "name": "python3"
  },
  "language_info": {
   "codemirror_mode": {
    "name": "ipython",
    "version": 3
   },
   "file_extension": ".py",
   "mimetype": "text/x-python",
   "name": "python",
   "nbconvert_exporter": "python",
   "pygments_lexer": "ipython3",
   "version": "3.6.1"
  }
 },
 "nbformat": 4,
 "nbformat_minor": 2
}
