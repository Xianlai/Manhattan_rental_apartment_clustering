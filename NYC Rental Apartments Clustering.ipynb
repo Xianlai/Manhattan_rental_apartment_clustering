{
 "cells": [
  {
   "cell_type": "markdown",
   "metadata": {},
   "source": [
    "# Manhattan Rental Apartments Clustering\n",
    "\n",
    "### Xian Lai\n",
    "Apr.2017\n",
    "\n",
    "### Abstract:\n",
    "A city functions like a gigantic sophisticate network. Within it each buildings and blocks are connected by visible transportation systems and invisible functional dependencies. \n",
    "\n",
    "But on the other hand, the difference of locations and functionality also divides the city into many sub-areas. For different purposes, the boundaries of these sub-areas are different. Like for political administration, we have boroughs, community districts and neighbourhoods, and for postal service, we have zip codes. \n",
    "\n",
    "In this projet, I would like to make use of rental apartment online listing data set and new york building footprint data set to explore the possible geographic boundaries or patterns of apartment rental market.\n",
    "\n",
    "And we know that equivalent to finding boundaries, employing unsupervised clustering technique to find the best grouping of buildings with respect to their location and rental market popularity will help us understand the existing rental market data and get insights of its geographical form.\n",
    "\n",
    "<img src=\"images/title_image.jpg\" width=\"1200\">"
   ]
  },
  {
   "cell_type": "code",
   "execution_count": 1,
   "metadata": {
    "collapsed": true
   },
   "outputs": [],
   "source": [
    "import pandas as pd\n",
    "import numpy as np\n",
    "import random\n",
    "import copy"
   ]
  },
  {
   "cell_type": "code",
   "execution_count": 2,
   "metadata": {
    "collapsed": true
   },
   "outputs": [],
   "source": [
    "import clustering as c\n",
    "pd.options.mode.chained_assignment = None"
   ]
  },
  {
   "cell_type": "code",
   "execution_count": 3,
   "metadata": {},
   "outputs": [
    {
     "data": {
      "text/html": [
       "\n",
       "    <div class=\"bk-root\">\n",
       "        <a href=\"http://bokeh.pydata.org\" target=\"_blank\" class=\"bk-logo bk-logo-small bk-logo-notebook\"></a>\n",
       "        <span id=\"12c18db3-5b52-4524-b175-67b663a361eb\">Loading BokehJS ...</span>\n",
       "    </div>"
      ]
     },
     "metadata": {},
     "output_type": "display_data"
    },
    {
     "data": {
      "application/javascript": [
       "\n",
       "(function(global) {\n",
       "  function now() {\n",
       "    return new Date();\n",
       "  }\n",
       "\n",
       "  var force = true;\n",
       "\n",
       "  if (typeof (window._bokeh_onload_callbacks) === \"undefined\" || force === true) {\n",
       "    window._bokeh_onload_callbacks = [];\n",
       "    window._bokeh_is_loading = undefined;\n",
       "  }\n",
       "\n",
       "\n",
       "  \n",
       "  if (typeof (window._bokeh_timeout) === \"undefined\" || force === true) {\n",
       "    window._bokeh_timeout = Date.now() + 5000;\n",
       "    window._bokeh_failed_load = false;\n",
       "  }\n",
       "\n",
       "  var NB_LOAD_WARNING = {'data': {'text/html':\n",
       "     \"<div style='background-color: #fdd'>\\n\"+\n",
       "     \"<p>\\n\"+\n",
       "     \"BokehJS does not appear to have successfully loaded. If loading BokehJS from CDN, this \\n\"+\n",
       "     \"may be due to a slow or bad network connection. Possible fixes:\\n\"+\n",
       "     \"</p>\\n\"+\n",
       "     \"<ul>\\n\"+\n",
       "     \"<li>re-rerun `output_notebook()` to attempt to load from CDN again, or</li>\\n\"+\n",
       "     \"<li>use INLINE resources instead, as so:</li>\\n\"+\n",
       "     \"</ul>\\n\"+\n",
       "     \"<code>\\n\"+\n",
       "     \"from bokeh.resources import INLINE\\n\"+\n",
       "     \"output_notebook(resources=INLINE)\\n\"+\n",
       "     \"</code>\\n\"+\n",
       "     \"</div>\"}};\n",
       "\n",
       "  function display_loaded() {\n",
       "    if (window.Bokeh !== undefined) {\n",
       "      document.getElementById(\"12c18db3-5b52-4524-b175-67b663a361eb\").textContent = \"BokehJS successfully loaded.\";\n",
       "    } else if (Date.now() < window._bokeh_timeout) {\n",
       "      setTimeout(display_loaded, 100)\n",
       "    }\n",
       "  }\n",
       "\n",
       "  function run_callbacks() {\n",
       "    window._bokeh_onload_callbacks.forEach(function(callback) { callback() });\n",
       "    delete window._bokeh_onload_callbacks\n",
       "    console.info(\"Bokeh: all callbacks have finished\");\n",
       "  }\n",
       "\n",
       "  function load_libs(js_urls, callback) {\n",
       "    window._bokeh_onload_callbacks.push(callback);\n",
       "    if (window._bokeh_is_loading > 0) {\n",
       "      console.log(\"Bokeh: BokehJS is being loaded, scheduling callback at\", now());\n",
       "      return null;\n",
       "    }\n",
       "    if (js_urls == null || js_urls.length === 0) {\n",
       "      run_callbacks();\n",
       "      return null;\n",
       "    }\n",
       "    console.log(\"Bokeh: BokehJS not loaded, scheduling load and callback at\", now());\n",
       "    window._bokeh_is_loading = js_urls.length;\n",
       "    for (var i = 0; i < js_urls.length; i++) {\n",
       "      var url = js_urls[i];\n",
       "      var s = document.createElement('script');\n",
       "      s.src = url;\n",
       "      s.async = false;\n",
       "      s.onreadystatechange = s.onload = function() {\n",
       "        window._bokeh_is_loading--;\n",
       "        if (window._bokeh_is_loading === 0) {\n",
       "          console.log(\"Bokeh: all BokehJS libraries loaded\");\n",
       "          run_callbacks()\n",
       "        }\n",
       "      };\n",
       "      s.onerror = function() {\n",
       "        console.warn(\"failed to load library \" + url);\n",
       "      };\n",
       "      console.log(\"Bokeh: injecting script tag for BokehJS library: \", url);\n",
       "      document.getElementsByTagName(\"head\")[0].appendChild(s);\n",
       "    }\n",
       "  };var element = document.getElementById(\"12c18db3-5b52-4524-b175-67b663a361eb\");\n",
       "  if (element == null) {\n",
       "    console.log(\"Bokeh: ERROR: autoload.js configured with elementid '12c18db3-5b52-4524-b175-67b663a361eb' but no matching script tag was found. \")\n",
       "    return false;\n",
       "  }\n",
       "\n",
       "  var js_urls = [\"https://cdn.pydata.org/bokeh/release/bokeh-0.12.4.min.js\", \"https://cdn.pydata.org/bokeh/release/bokeh-widgets-0.12.4.min.js\"];\n",
       "\n",
       "  var inline_js = [\n",
       "    function(Bokeh) {\n",
       "      Bokeh.set_log_level(\"info\");\n",
       "    },\n",
       "    \n",
       "    function(Bokeh) {\n",
       "      \n",
       "      document.getElementById(\"12c18db3-5b52-4524-b175-67b663a361eb\").textContent = \"BokehJS is loading...\";\n",
       "    },\n",
       "    function(Bokeh) {\n",
       "      console.log(\"Bokeh: injecting CSS: https://cdn.pydata.org/bokeh/release/bokeh-0.12.4.min.css\");\n",
       "      Bokeh.embed.inject_css(\"https://cdn.pydata.org/bokeh/release/bokeh-0.12.4.min.css\");\n",
       "      console.log(\"Bokeh: injecting CSS: https://cdn.pydata.org/bokeh/release/bokeh-widgets-0.12.4.min.css\");\n",
       "      Bokeh.embed.inject_css(\"https://cdn.pydata.org/bokeh/release/bokeh-widgets-0.12.4.min.css\");\n",
       "    }\n",
       "  ];\n",
       "\n",
       "  function run_inline_js() {\n",
       "    \n",
       "    if ((window.Bokeh !== undefined) || (force === true)) {\n",
       "      for (var i = 0; i < inline_js.length; i++) {\n",
       "        inline_js[i](window.Bokeh);\n",
       "      }if (force === true) {\n",
       "        display_loaded();\n",
       "      }} else if (Date.now() < window._bokeh_timeout) {\n",
       "      setTimeout(run_inline_js, 100);\n",
       "    } else if (!window._bokeh_failed_load) {\n",
       "      console.log(\"Bokeh: BokehJS failed to load within specified timeout.\");\n",
       "      window._bokeh_failed_load = true;\n",
       "    } else if (force !== true) {\n",
       "      var cell = $(document.getElementById(\"12c18db3-5b52-4524-b175-67b663a361eb\")).parents('.cell').data().cell;\n",
       "      cell.output_area.append_execute_result(NB_LOAD_WARNING)\n",
       "    }\n",
       "\n",
       "  }\n",
       "\n",
       "  if (window._bokeh_is_loading === 0) {\n",
       "    console.log(\"Bokeh: BokehJS loaded, going straight to plotting\");\n",
       "    run_inline_js();\n",
       "  } else {\n",
       "    load_libs(js_urls, function() {\n",
       "      console.log(\"Bokeh: BokehJS plotting callback run at\", now());\n",
       "      run_inline_js();\n",
       "    });\n",
       "  }\n",
       "}(this));"
      ]
     },
     "metadata": {},
     "output_type": "display_data"
    }
   ],
   "source": [
    "from bokeh.io import push_notebook, show, output_notebook\n",
    "from bokeh.plotting import figure\n",
    "from bokeh.layouts import row\n",
    "from bokeh.palettes import Spectral11\n",
    "output_notebook()"
   ]
  },
  {
   "cell_type": "markdown",
   "metadata": {},
   "source": [
    "# 0. Data sets & Preprocessing"
   ]
  },
  {
   "cell_type": "markdown",
   "metadata": {},
   "source": [
    "In this project, I have 2 data sets. \n",
    "\n",
    "The first one is market data set consisting of about 46,000 rental apartment online listings. Each listing containing information about rental apartments’ geographic location, popularity (defined by how many visits of listing webpage) and some other description features like facilities, number of bedrooms, bathrooms, rental price, etc."
   ]
  },
  {
   "cell_type": "code",
   "execution_count": 4,
   "metadata": {},
   "outputs": [
    {
     "data": {
      "text/html": [
       "<div>\n",
       "<table border=\"1\" class=\"dataframe\">\n",
       "  <thead>\n",
       "    <tr style=\"text-align: right;\">\n",
       "      <th></th>\n",
       "      <th>bath</th>\n",
       "      <th>bed</th>\n",
       "      <th>y</th>\n",
       "      <th>x</th>\n",
       "      <th>center_pt</th>\n",
       "      <th>price_bin</th>\n",
       "      <th>broker</th>\n",
       "      <th>elevator</th>\n",
       "      <th>fitness_center</th>\n",
       "      <th>no_fee</th>\n",
       "      <th>popularity</th>\n",
       "    </tr>\n",
       "  </thead>\n",
       "  <tbody>\n",
       "    <tr>\n",
       "      <th>10</th>\n",
       "      <td>1.5</td>\n",
       "      <td>3</td>\n",
       "      <td>356555.874048</td>\n",
       "      <td>-9.608865e+06</td>\n",
       "      <td>(-9608865.029217346, 356555.87404817063)</td>\n",
       "      <td>1</td>\n",
       "      <td>0</td>\n",
       "      <td>0</td>\n",
       "      <td>0</td>\n",
       "      <td>0</td>\n",
       "      <td>2</td>\n",
       "    </tr>\n",
       "    <tr>\n",
       "      <th>10000</th>\n",
       "      <td>1.0</td>\n",
       "      <td>2</td>\n",
       "      <td>365557.190180</td>\n",
       "      <td>-9.616935e+06</td>\n",
       "      <td>(-9616934.736082882, 365557.1901797713)</td>\n",
       "      <td>3</td>\n",
       "      <td>0</td>\n",
       "      <td>1</td>\n",
       "      <td>1</td>\n",
       "      <td>0</td>\n",
       "      <td>1</td>\n",
       "    </tr>\n",
       "    <tr>\n",
       "      <th>100004</th>\n",
       "      <td>1.0</td>\n",
       "      <td>1</td>\n",
       "      <td>356477.163480</td>\n",
       "      <td>-9.616369e+06</td>\n",
       "      <td>(-9616368.679438747, 356477.1634797137)</td>\n",
       "      <td>1</td>\n",
       "      <td>0</td>\n",
       "      <td>0</td>\n",
       "      <td>0</td>\n",
       "      <td>0</td>\n",
       "      <td>3</td>\n",
       "    </tr>\n",
       "    <tr>\n",
       "      <th>100007</th>\n",
       "      <td>1.0</td>\n",
       "      <td>1</td>\n",
       "      <td>360258.281928</td>\n",
       "      <td>-9.614124e+06</td>\n",
       "      <td>(-9614124.415577795, 360258.28192826593)</td>\n",
       "      <td>2</td>\n",
       "      <td>0</td>\n",
       "      <td>0</td>\n",
       "      <td>0</td>\n",
       "      <td>1</td>\n",
       "      <td>1</td>\n",
       "    </tr>\n",
       "    <tr>\n",
       "      <th>100013</th>\n",
       "      <td>1.0</td>\n",
       "      <td>4</td>\n",
       "      <td>370278.122028</td>\n",
       "      <td>-9.617337e+06</td>\n",
       "      <td>(-9617336.91450809, 370278.1220278065)</td>\n",
       "      <td>2</td>\n",
       "      <td>1</td>\n",
       "      <td>0</td>\n",
       "      <td>0</td>\n",
       "      <td>0</td>\n",
       "      <td>1</td>\n",
       "    </tr>\n",
       "  </tbody>\n",
       "</table>\n",
       "</div>"
      ],
      "text/plain": [
       "        bath  bed              y             x  \\\n",
       "10       1.5    3  356555.874048 -9.608865e+06   \n",
       "10000    1.0    2  365557.190180 -9.616935e+06   \n",
       "100004   1.0    1  356477.163480 -9.616369e+06   \n",
       "100007   1.0    1  360258.281928 -9.614124e+06   \n",
       "100013   1.0    4  370278.122028 -9.617337e+06   \n",
       "\n",
       "                                       center_pt  price_bin  broker  elevator  \\\n",
       "10      (-9608865.029217346, 356555.87404817063)          1       0         0   \n",
       "10000    (-9616934.736082882, 365557.1901797713)          3       0         1   \n",
       "100004   (-9616368.679438747, 356477.1634797137)          1       0         0   \n",
       "100007  (-9614124.415577795, 360258.28192826593)          2       0         0   \n",
       "100013    (-9617336.91450809, 370278.1220278065)          2       1         0   \n",
       "\n",
       "        fitness_center  no_fee  popularity  \n",
       "10                   0       0           2  \n",
       "10000                1       0           1  \n",
       "100004               0       0           3  \n",
       "100007               0       1           1  \n",
       "100013               0       0           1  "
      ]
     },
     "execution_count": 4,
     "metadata": {},
     "output_type": "execute_result"
    }
   ],
   "source": [
    "df_market = pd.read_pickle('market_set_cleaned.csv')\n",
    "df_market.head()"
   ]
  },
  {
   "cell_type": "markdown",
   "metadata": {},
   "source": [
    "But because the market data set only covers part of buildings in Manhattan, we can’t perform clustering on these data points directly. So I brought in the second data set which is building data set simply consists of every building in Manhattan and their locations. \n",
    "\n",
    "Assuming the popularity of rental apartment is geographically continuous, namely the popularity of one building is similar to surrounding buildings, I can interpolate the popularities of every building in rental market using the information from rental market data set. And then I performed clustering on building data set instead."
   ]
  },
  {
   "cell_type": "code",
   "execution_count": 5,
   "metadata": {},
   "outputs": [
    {
     "data": {
      "text/html": [
       "<div>\n",
       "<table border=\"1\" class=\"dataframe\">\n",
       "  <thead>\n",
       "    <tr style=\"text-align: right;\">\n",
       "      <th></th>\n",
       "      <th>DOITT_ID</th>\n",
       "      <th>footprint</th>\n",
       "      <th>center_pt</th>\n",
       "      <th>x</th>\n",
       "      <th>y</th>\n",
       "    </tr>\n",
       "  </thead>\n",
       "  <tbody>\n",
       "    <tr>\n",
       "      <th>31950</th>\n",
       "      <td>313119</td>\n",
       "      <td>[[-73.9834, -73.9835, -73.9835, -73.9836, -73....</td>\n",
       "      <td>(-9613469.10811105, 355447.84763150103)</td>\n",
       "      <td>-9.613469e+06</td>\n",
       "      <td>355447.847632</td>\n",
       "    </tr>\n",
       "    <tr>\n",
       "      <th>31986</th>\n",
       "      <td>554919</td>\n",
       "      <td>[[-73.9882, -73.9883, -73.9883, -73.9883, -73....</td>\n",
       "      <td>(-9617184.379490266, 361048.91133206384)</td>\n",
       "      <td>-9.617184e+06</td>\n",
       "      <td>361048.911332</td>\n",
       "    </tr>\n",
       "    <tr>\n",
       "      <th>31987</th>\n",
       "      <td>665185</td>\n",
       "      <td>[[-73.9797, -73.9798, -73.9799, -73.9799, -73....</td>\n",
       "      <td>(-9613400.620183097, 356174.110258732)</td>\n",
       "      <td>-9.613401e+06</td>\n",
       "      <td>356174.110259</td>\n",
       "    </tr>\n",
       "    <tr>\n",
       "      <th>31988</th>\n",
       "      <td>79482</td>\n",
       "      <td>[[-73.9937, -73.9937, -73.9938, -73.9938, -73....</td>\n",
       "      <td>(-9614161.458572928, 354308.31446485035)</td>\n",
       "      <td>-9.614161e+06</td>\n",
       "      <td>354308.314465</td>\n",
       "    </tr>\n",
       "    <tr>\n",
       "      <th>31989</th>\n",
       "      <td>301212</td>\n",
       "      <td>[[-73.9874, -73.9874, -73.9875, -73.9875, -73....</td>\n",
       "      <td>(-9614705.761096902, 356760.94259855757)</td>\n",
       "      <td>-9.614706e+06</td>\n",
       "      <td>356760.942599</td>\n",
       "    </tr>\n",
       "  </tbody>\n",
       "</table>\n",
       "</div>"
      ],
      "text/plain": [
       "       DOITT_ID                                          footprint  \\\n",
       "31950    313119  [[-73.9834, -73.9835, -73.9835, -73.9836, -73....   \n",
       "31986    554919  [[-73.9882, -73.9883, -73.9883, -73.9883, -73....   \n",
       "31987    665185  [[-73.9797, -73.9798, -73.9799, -73.9799, -73....   \n",
       "31988     79482  [[-73.9937, -73.9937, -73.9938, -73.9938, -73....   \n",
       "31989    301212  [[-73.9874, -73.9874, -73.9875, -73.9875, -73....   \n",
       "\n",
       "                                      center_pt             x              y  \n",
       "31950   (-9613469.10811105, 355447.84763150103) -9.613469e+06  355447.847632  \n",
       "31986  (-9617184.379490266, 361048.91133206384) -9.617184e+06  361048.911332  \n",
       "31987    (-9613400.620183097, 356174.110258732) -9.613401e+06  356174.110259  \n",
       "31988  (-9614161.458572928, 354308.31446485035) -9.614161e+06  354308.314465  \n",
       "31989  (-9614705.761096902, 356760.94259855757) -9.614706e+06  356760.942599  "
      ]
     },
     "execution_count": 5,
     "metadata": {},
     "output_type": "execute_result"
    }
   ],
   "source": [
    "df_building = pd.read_pickle('building_set_cleaned.csv')\n",
    "df_building.head()"
   ]
  },
  {
   "cell_type": "markdown",
   "metadata": {},
   "source": [
    "# 1. Building \"Popularity Level\" Interpolation"
   ]
  },
  {
   "cell_type": "markdown",
   "metadata": {},
   "source": [
    "Based on assumption that popularity of buildings are related to popularities of their surrounding buildings, I choose inverse distance weighting (IDW) as my interpolation method.\n",
    "\n",
    "To interpolate the popularity value for one building $y_k$ in building data set, I filter out the rental apartments in market data set within 0.7 miles distance range from $y_k$ denoted as ${x_1, x_2, ..., x_I}$. Take the inverse distance weighted average of popularities of ${x_1, x_2, ..., x_i}$ and assign as the popularity of $y_k$:\n",
    "\n",
    "Assuming $u(x_i)$ is the popularity of $x$. Then we have the calculation formula:\n",
    "\n",
    "If $d(y_k,x_i) \\neq 0$ for all $x_i$:\n",
    "$$u(y_k)=\\frac{\\sum_{i=1}^{I} w(x_i)*u(x_i)}{\\sum_{i=1}^{I} w(x_i)}$$\n",
    "where \n",
    "$$w(x_i)=\\frac{1}{d(y_k,x_i)^p}$$\n",
    "If $d(y_k,x_i) = 0$ for some $x_i$:\n",
    "$$u(y_k)=u(x_i)$$\n",
    "\n",
    "Here there is a parameter p controls the power of distance affecting the weighting. "
   ]
  },
  {
   "cell_type": "code",
   "execution_count": 6,
   "metadata": {
    "collapsed": true
   },
   "outputs": [],
   "source": [
    "def IDW(dists, popularities, power):\n",
    "    \"\"\" input: distances series between interpolated point and reference points,\n",
    "    a popularity level series of ref pts and the coefficient p controlling curvature.\n",
    "    output: sum of normalized inverse weighted popularities. If any of the dist \n",
    "    is 0, then assign the popularity of the first 0-dist reference point.\n",
    "    \"\"\"\n",
    "    zero = dists[dists == 0]\n",
    "    if not zero.empty:\n",
    "        return popularities.loc[zero.index].mean()\n",
    "    \n",
    "    else:\n",
    "        weights = 1 / (dists**power)\n",
    "        weights = weights / weights.sum()\n",
    "        return sum(popularities * weights)\n",
    "\n",
    "\n",
    "def interpolation(mapped_point, mapping_points, closestK, power):\n",
    "    \"\"\" input: building center point, close pts in df and whether cut top 5.\n",
    "    output: sum of lvl weighted by 1/distance\n",
    "    \"\"\"\n",
    "    dist = lambda x: abs(x[0] - mapped_point[0]) + abs(x[1] - mapped_point[1])\n",
    "    mapping_points['dist'] = mapping_points['center_pt'].apply(dist)\n",
    "        \n",
    "    mapping_points = mapping_points.sort_values('dist')\n",
    "    \n",
    "    if closestK:\n",
    "        mapping_points = mapping_points.iloc[:5]\n",
    "    \n",
    "    popularities = mapping_points['popularity']\n",
    "        \n",
    "    result = IDW(mapping_points['dist'], popularities, power=power)\n",
    "    \n",
    "    return result"
   ]
  },
  {
   "cell_type": "markdown",
   "metadata": {},
   "source": [
    "## How does the value of p affecting interpolation?"
   ]
  },
  {
   "cell_type": "markdown",
   "metadata": {},
   "source": [
    "Here I test different values of p using a toy example:\n",
    "\n",
    "Assuming the mapped data point y located at original point. And we have 6 mapping points nearby: 2 close points and 4 further points.\n",
    "\n",
    "If we assign 3 differnt pupolarity values {1, 2, 3} to these 2 close points, and vary the value of p, we will have the following plotting. We can see that when p is small, the closest points take small weight in calculating final popularity value for y, and when p increases, the interpolated popularity value will be closer and closer to the popularity of 2 close points."
   ]
  },
  {
   "cell_type": "code",
   "execution_count": 7,
   "metadata": {
    "collapsed": true
   },
   "outputs": [],
   "source": [
    "def dists(pop,mapped_point):\n",
    "    mapping_points = {'center_pt':[[0.1,0.1],[-0.1,0.1],[0.3,0.4],[-0.4,0.2],[-0.5,0.7],[0.6,-0.8]],'popularity':[pop,pop,1,2,1,3]}\n",
    "    mapping_points = pd.DataFrame(mapping_points)\n",
    "\n",
    "    popularity = []\n",
    "    for p in np.arange(0.1, 5, 0.2):\n",
    "        popularity.append(interpolation(x, mapping_points, closestK=False, power=p))\n",
    "        \n",
    "    return popularity"
   ]
  },
  {
   "cell_type": "code",
   "execution_count": 8,
   "metadata": {
    "collapsed": true
   },
   "outputs": [],
   "source": [
    "x = [0,0] # the interpolation point\n",
    "popularities = []\n",
    "for pop in range(1,4):\n",
    "    popularities.append(dists(pop, x))\n",
    "    \n",
    "xs = list(np.arange(0.1, 5, 0.2))"
   ]
  },
  {
   "cell_type": "code",
   "execution_count": 9,
   "metadata": {},
   "outputs": [
    {
     "data": {
      "text/html": [
       "\n",
       "\n",
       "    <div class=\"bk-root\">\n",
       "        <div class=\"bk-plotdiv\" id=\"29fda25f-d932-4d7c-98c5-c67b26f05319\"></div>\n",
       "    </div>\n",
       "<script type=\"text/javascript\">\n",
       "  \n",
       "  (function(global) {\n",
       "    function now() {\n",
       "      return new Date();\n",
       "    }\n",
       "  \n",
       "    var force = false;\n",
       "  \n",
       "    if (typeof (window._bokeh_onload_callbacks) === \"undefined\" || force === true) {\n",
       "      window._bokeh_onload_callbacks = [];\n",
       "      window._bokeh_is_loading = undefined;\n",
       "    }\n",
       "  \n",
       "  \n",
       "    \n",
       "    if (typeof (window._bokeh_timeout) === \"undefined\" || force === true) {\n",
       "      window._bokeh_timeout = Date.now() + 0;\n",
       "      window._bokeh_failed_load = false;\n",
       "    }\n",
       "  \n",
       "    var NB_LOAD_WARNING = {'data': {'text/html':\n",
       "       \"<div style='background-color: #fdd'>\\n\"+\n",
       "       \"<p>\\n\"+\n",
       "       \"BokehJS does not appear to have successfully loaded. If loading BokehJS from CDN, this \\n\"+\n",
       "       \"may be due to a slow or bad network connection. Possible fixes:\\n\"+\n",
       "       \"</p>\\n\"+\n",
       "       \"<ul>\\n\"+\n",
       "       \"<li>re-rerun `output_notebook()` to attempt to load from CDN again, or</li>\\n\"+\n",
       "       \"<li>use INLINE resources instead, as so:</li>\\n\"+\n",
       "       \"</ul>\\n\"+\n",
       "       \"<code>\\n\"+\n",
       "       \"from bokeh.resources import INLINE\\n\"+\n",
       "       \"output_notebook(resources=INLINE)\\n\"+\n",
       "       \"</code>\\n\"+\n",
       "       \"</div>\"}};\n",
       "  \n",
       "    function display_loaded() {\n",
       "      if (window.Bokeh !== undefined) {\n",
       "        document.getElementById(\"29fda25f-d932-4d7c-98c5-c67b26f05319\").textContent = \"BokehJS successfully loaded.\";\n",
       "      } else if (Date.now() < window._bokeh_timeout) {\n",
       "        setTimeout(display_loaded, 100)\n",
       "      }\n",
       "    }\n",
       "  \n",
       "    function run_callbacks() {\n",
       "      window._bokeh_onload_callbacks.forEach(function(callback) { callback() });\n",
       "      delete window._bokeh_onload_callbacks\n",
       "      console.info(\"Bokeh: all callbacks have finished\");\n",
       "    }\n",
       "  \n",
       "    function load_libs(js_urls, callback) {\n",
       "      window._bokeh_onload_callbacks.push(callback);\n",
       "      if (window._bokeh_is_loading > 0) {\n",
       "        console.log(\"Bokeh: BokehJS is being loaded, scheduling callback at\", now());\n",
       "        return null;\n",
       "      }\n",
       "      if (js_urls == null || js_urls.length === 0) {\n",
       "        run_callbacks();\n",
       "        return null;\n",
       "      }\n",
       "      console.log(\"Bokeh: BokehJS not loaded, scheduling load and callback at\", now());\n",
       "      window._bokeh_is_loading = js_urls.length;\n",
       "      for (var i = 0; i < js_urls.length; i++) {\n",
       "        var url = js_urls[i];\n",
       "        var s = document.createElement('script');\n",
       "        s.src = url;\n",
       "        s.async = false;\n",
       "        s.onreadystatechange = s.onload = function() {\n",
       "          window._bokeh_is_loading--;\n",
       "          if (window._bokeh_is_loading === 0) {\n",
       "            console.log(\"Bokeh: all BokehJS libraries loaded\");\n",
       "            run_callbacks()\n",
       "          }\n",
       "        };\n",
       "        s.onerror = function() {\n",
       "          console.warn(\"failed to load library \" + url);\n",
       "        };\n",
       "        console.log(\"Bokeh: injecting script tag for BokehJS library: \", url);\n",
       "        document.getElementsByTagName(\"head\")[0].appendChild(s);\n",
       "      }\n",
       "    };var element = document.getElementById(\"29fda25f-d932-4d7c-98c5-c67b26f05319\");\n",
       "    if (element == null) {\n",
       "      console.log(\"Bokeh: ERROR: autoload.js configured with elementid '29fda25f-d932-4d7c-98c5-c67b26f05319' but no matching script tag was found. \")\n",
       "      return false;\n",
       "    }\n",
       "  \n",
       "    var js_urls = [];\n",
       "  \n",
       "    var inline_js = [\n",
       "      function(Bokeh) {\n",
       "        (function() {\n",
       "          var fn = function() {\n",
       "            var docs_json = {\"22cd1204-5366-4ada-96f9-4c27de30c048\":{\"roots\":{\"references\":[{\"attributes\":{\"line_alpha\":{\"value\":0.1},\"line_color\":{\"value\":\"#1f77b4\"},\"line_width\":{\"value\":4},\"x\":{\"field\":\"x\"},\"y\":{\"field\":\"y\"}},\"id\":\"27341e8c-e638-4dbc-a575-2e6860a97c83\",\"type\":\"Line\"},{\"attributes\":{\"data_source\":{\"id\":\"762a01f0-1f34-4917-84a5-1cbace73c647\",\"type\":\"ColumnDataSource\"},\"glyph\":{\"id\":\"e0358bd8-5ee6-4547-b375-339e6e02c674\",\"type\":\"X\"},\"hover_glyph\":null,\"nonselection_glyph\":{\"id\":\"bd509d45-de9e-4311-9aee-a7c0fb0fc7b8\",\"type\":\"X\"},\"selection_glyph\":null},\"id\":\"b2aee416-381a-4f2a-b12b-a5e54cfe9af0\",\"type\":\"GlyphRenderer\"},{\"attributes\":{\"fill_color\":{\"value\":\"grey\"},\"line_color\":{\"value\":\"grey\"},\"size\":{\"units\":\"screen\",\"value\":10},\"x\":{\"field\":\"x\"},\"y\":{\"field\":\"y\"}},\"id\":\"f18add44-3b0a-40c9-bfdf-317cb7776208\",\"type\":\"X\"},{\"attributes\":{\"callback\":null},\"id\":\"d4558e49-ef45-47cd-abd2-fa66c78b388e\",\"type\":\"DataRange1d\"},{\"attributes\":{\"children\":[{\"id\":\"7b05723c-0f30-4940-b8d5-04023d6dcf08\",\"subtype\":\"Figure\",\"type\":\"Plot\"},{\"id\":\"420c27bf-aff6-4fc3-a1dd-34a87cfe5424\",\"subtype\":\"Figure\",\"type\":\"Plot\"}]},\"id\":\"05e6a0f9-0d74-400b-85a0-163747d716b0\",\"type\":\"Row\"},{\"attributes\":{\"formatter\":{\"id\":\"0bf67b13-7396-4d6a-84ee-418173199801\",\"type\":\"BasicTickFormatter\"},\"plot\":{\"id\":\"7b05723c-0f30-4940-b8d5-04023d6dcf08\",\"subtype\":\"Figure\",\"type\":\"Plot\"},\"ticker\":{\"id\":\"6297bd18-29df-43ec-95f6-28ffa22bb55e\",\"type\":\"BasicTicker\"}},\"id\":\"f1a5584e-b683-40bc-937a-013e13432eaa\",\"type\":\"LinearAxis\"},{\"attributes\":{\"plot\":{\"id\":\"7b05723c-0f30-4940-b8d5-04023d6dcf08\",\"subtype\":\"Figure\",\"type\":\"Plot\"}},\"id\":\"6d2c8b37-bdbf-4a8d-b9e0-4f13be286d9c\",\"type\":\"WheelZoomTool\"},{\"attributes\":{\"below\":[{\"id\":\"6263313b-9c98-4d36-b61a-2b839893a7ae\",\"type\":\"LinearAxis\"}],\"left\":[{\"id\":\"f1a5584e-b683-40bc-937a-013e13432eaa\",\"type\":\"LinearAxis\"}],\"plot_height\":300,\"plot_width\":300,\"renderers\":[{\"id\":\"6263313b-9c98-4d36-b61a-2b839893a7ae\",\"type\":\"LinearAxis\"},{\"id\":\"07a65d11-46b8-4b53-a7a9-682aeaee0ac1\",\"type\":\"Grid\"},{\"id\":\"f1a5584e-b683-40bc-937a-013e13432eaa\",\"type\":\"LinearAxis\"},{\"id\":\"c0e6800c-be6c-40f7-a93c-f7679d7a6948\",\"type\":\"Grid\"},{\"id\":\"69f55932-3abb-4284-81c9-ed7ee22cd3f4\",\"type\":\"BoxAnnotation\"},{\"id\":\"a74350bc-7277-4b6f-be69-42e002de4a2c\",\"type\":\"GlyphRenderer\"},{\"id\":\"854c5d78-b5c3-4c17-b898-bac7238bf6f7\",\"type\":\"Legend\"},{\"id\":\"b2aee416-381a-4f2a-b12b-a5e54cfe9af0\",\"type\":\"GlyphRenderer\"},{\"id\":\"440e7671-14b1-4a29-bebc-1a5487db3fcf\",\"type\":\"GlyphRenderer\"}],\"title\":{\"id\":\"da0f176e-db23-4031-8b27-e7b4fb789d6f\",\"type\":\"Title\"},\"tool_events\":{\"id\":\"13441bf2-e85f-4bf2-88f9-2b399da4b49c\",\"type\":\"ToolEvents\"},\"toolbar\":{\"id\":\"ed0a2944-c4a7-4a0c-a401-09b2467481e1\",\"type\":\"Toolbar\"},\"x_range\":{\"id\":\"56c81083-aacb-4618-9f2c-24910846d222\",\"type\":\"DataRange1d\"},\"y_range\":{\"id\":\"5a0e1797-9058-4dc9-bc6c-787ddf372bc4\",\"type\":\"DataRange1d\"}},\"id\":\"7b05723c-0f30-4940-b8d5-04023d6dcf08\",\"subtype\":\"Figure\",\"type\":\"Plot\"},{\"attributes\":{\"overlay\":{\"id\":\"d76d04cc-210f-4f18-9894-bc12e4172a9a\",\"type\":\"BoxAnnotation\"},\"plot\":{\"id\":\"420c27bf-aff6-4fc3-a1dd-34a87cfe5424\",\"subtype\":\"Figure\",\"type\":\"Plot\"}},\"id\":\"6a006dfd-5d5c-45d5-9cd1-a57051bce9dd\",\"type\":\"BoxZoomTool\"},{\"attributes\":{\"data_source\":{\"id\":\"9f74f074-e5c6-4d4c-b011-d0bbbc0b472c\",\"type\":\"ColumnDataSource\"},\"glyph\":{\"id\":\"f18add44-3b0a-40c9-bfdf-317cb7776208\",\"type\":\"X\"},\"hover_glyph\":null,\"nonselection_glyph\":{\"id\":\"25d8e33d-0ae3-47cf-81d4-8d35ebdf41cb\",\"type\":\"X\"},\"selection_glyph\":null},\"id\":\"440e7671-14b1-4a29-bebc-1a5487db3fcf\",\"type\":\"GlyphRenderer\"},{\"attributes\":{\"fill_alpha\":{\"value\":0.1},\"fill_color\":{\"value\":\"#1f77b4\"},\"line_alpha\":{\"value\":0.1},\"line_color\":{\"value\":\"#1f77b4\"},\"size\":{\"units\":\"screen\",\"value\":10},\"x\":{\"field\":\"x\"},\"y\":{\"field\":\"y\"}},\"id\":\"25d8e33d-0ae3-47cf-81d4-8d35ebdf41cb\",\"type\":\"X\"},{\"attributes\":{\"callback\":null,\"column_names\":[\"x\",\"y\"],\"data\":{\"x\":[0.1,-0.1],\"y\":[0.1,0.1]}},\"id\":\"762a01f0-1f34-4917-84a5-1cbace73c647\",\"type\":\"ColumnDataSource\"},{\"attributes\":{},\"id\":\"13441bf2-e85f-4bf2-88f9-2b399da4b49c\",\"type\":\"ToolEvents\"},{\"attributes\":{\"callback\":null,\"column_names\":[\"x\",\"y\"],\"data\":{\"x\":[0.1,0.30000000000000004,0.5000000000000001,0.7000000000000001,0.9000000000000001,1.1000000000000003,1.3000000000000003,1.5000000000000004,1.7000000000000004,1.9000000000000004,2.1000000000000005,2.3000000000000007,2.5000000000000004,2.7000000000000006,2.900000000000001,3.1000000000000005,3.3000000000000007,3.500000000000001,3.7000000000000006,3.900000000000001,4.1000000000000005,4.300000000000001,4.500000000000001,4.7,4.9],\"y\":[1.835390027772031,1.8431986170252292,1.8551067443516702,1.8698485461176588,1.8860555530879966,1.9024796062471632,1.918145105493657,1.9324064987098393,1.9449268120227419,1.955611673704749,1.9645312865836195,1.9718509515967917,1.977778678386251,1.9825304156439167,1.9863096803702156,1.989297445257243,1.9916486139021794,1.9934923298930682,1.9949342588297434,1.996059684056839,1.9969367482640459,1.9976194914295047,1.998150529162091,1.9985633260870677,1.9988840774000216]}},\"id\":\"d5446712-3058-4ad2-ad86-1086fd9d88d7\",\"type\":\"ColumnDataSource\"},{\"attributes\":{\"plot\":{\"id\":\"7b05723c-0f30-4940-b8d5-04023d6dcf08\",\"subtype\":\"Figure\",\"type\":\"Plot\"}},\"id\":\"3b4feafb-b9e2-4add-8394-17fbfe208440\",\"type\":\"ResetTool\"},{\"attributes\":{},\"id\":\"e0d1a270-c05a-47e9-9b42-08d829f223f9\",\"type\":\"BasicTickFormatter\"},{\"attributes\":{\"fill_alpha\":{\"value\":0.1},\"fill_color\":{\"value\":\"#1f77b4\"},\"line_alpha\":{\"value\":0.1},\"line_color\":{\"value\":\"#1f77b4\"},\"size\":{\"units\":\"screen\",\"value\":15},\"x\":{\"field\":\"x\"},\"y\":{\"field\":\"y\"}},\"id\":\"bd509d45-de9e-4311-9aee-a7c0fb0fc7b8\",\"type\":\"X\"},{\"attributes\":{\"axis_label\":\"values of p\",\"formatter\":{\"id\":\"e0d1a270-c05a-47e9-9b42-08d829f223f9\",\"type\":\"BasicTickFormatter\"},\"plot\":{\"id\":\"420c27bf-aff6-4fc3-a1dd-34a87cfe5424\",\"subtype\":\"Figure\",\"type\":\"Plot\"},\"ticker\":{\"id\":\"71eab10b-1b45-4eec-9e11-197f88febd9e\",\"type\":\"BasicTicker\"}},\"id\":\"ac486196-4d3b-4367-983e-9e9c7f680fb9\",\"type\":\"LinearAxis\"},{\"attributes\":{\"items\":[{\"id\":\"787f62c3-8a5a-43d2-99c2-8b18f1ab838e\",\"type\":\"LegendItem\"},{\"id\":\"c9537fab-5c10-4e56-abfe-9f86059d1285\",\"type\":\"LegendItem\"}],\"location\":\"bottom_left\",\"plot\":{\"id\":\"7b05723c-0f30-4940-b8d5-04023d6dcf08\",\"subtype\":\"Figure\",\"type\":\"Plot\"}},\"id\":\"854c5d78-b5c3-4c17-b898-bac7238bf6f7\",\"type\":\"Legend\"},{\"attributes\":{\"data_source\":{\"id\":\"41401322-5385-4475-9a27-f7326ae38cf7\",\"type\":\"ColumnDataSource\"},\"glyph\":{\"id\":\"5d995cb3-c4e6-4463-b4fc-4726b806547c\",\"type\":\"Circle\"},\"hover_glyph\":null,\"nonselection_glyph\":{\"id\":\"fa1b1bb6-9649-4267-8802-4934158a3d42\",\"type\":\"Circle\"},\"selection_glyph\":null},\"id\":\"a74350bc-7277-4b6f-be69-42e002de4a2c\",\"type\":\"GlyphRenderer\"},{\"attributes\":{\"plot\":{\"id\":\"420c27bf-aff6-4fc3-a1dd-34a87cfe5424\",\"subtype\":\"Figure\",\"type\":\"Plot\"}},\"id\":\"d9c9287a-dded-4635-bbc1-bcc02ceac429\",\"type\":\"SaveTool\"},{\"attributes\":{\"plot\":{\"id\":\"420c27bf-aff6-4fc3-a1dd-34a87cfe5424\",\"subtype\":\"Figure\",\"type\":\"Plot\"}},\"id\":\"2e4e6be2-ffcf-48b7-baac-075b2c131836\",\"type\":\"WheelZoomTool\"},{\"attributes\":{\"bottom_units\":\"screen\",\"fill_alpha\":{\"value\":0.5},\"fill_color\":{\"value\":\"lightgrey\"},\"left_units\":\"screen\",\"level\":\"overlay\",\"line_alpha\":{\"value\":1.0},\"line_color\":{\"value\":\"black\"},\"line_dash\":[4,4],\"line_width\":{\"value\":2},\"plot\":null,\"render_mode\":\"css\",\"right_units\":\"screen\",\"top_units\":\"screen\"},\"id\":\"69f55932-3abb-4284-81c9-ed7ee22cd3f4\",\"type\":\"BoxAnnotation\"},{\"attributes\":{\"callback\":null,\"column_names\":[\"x\",\"y\"],\"data\":{\"x\":[0.1,0.30000000000000004,0.5000000000000001,0.7000000000000001,0.9000000000000001,1.1000000000000003,1.3000000000000003,1.5000000000000004,1.7000000000000004,1.9000000000000004,2.1000000000000005,2.3000000000000007,2.5000000000000004,2.7000000000000006,2.900000000000001,3.1000000000000005,3.3000000000000007,3.500000000000001,3.7000000000000006,3.900000000000001,4.1000000000000005,4.300000000000001,4.500000000000001,4.7,4.9],\"y\":[1.4675632220675634,1.4034374750162402,1.3420343677861264,1.2852117670913983,1.234335850589591,1.1901394699779797,1.1527402039212076,1.1217732951758523,1.0965696747413765,1.0763214799401257,1.0602053909980937,1.0474585854101173,1.0374157033505769,1.0295192728345888,1.0233147614143405,1.0184383039254863,1.0146021119761721,1.0115802866036758,1.0091962787526447,1.0073123902862973,1.0058212701260234,1.004639168671413,1.0037006564112378,1.002954521208,1.0023605947053746]}},\"id\":\"04321902-7947-4eba-a6fc-850112013b47\",\"type\":\"ColumnDataSource\"},{\"attributes\":{},\"id\":\"89d1d9b2-fba3-4ad2-98f8-2757ce74aa56\",\"type\":\"BasicTickFormatter\"},{\"attributes\":{\"plot\":{\"id\":\"7b05723c-0f30-4940-b8d5-04023d6dcf08\",\"subtype\":\"Figure\",\"type\":\"Plot\"},\"ticker\":{\"id\":\"850b45d7-1819-4327-b053-8dd71b861713\",\"type\":\"BasicTicker\"}},\"id\":\"07a65d11-46b8-4b53-a7a9-682aeaee0ac1\",\"type\":\"Grid\"},{\"attributes\":{\"line_color\":{\"value\":\"green\"},\"line_width\":{\"value\":4},\"x\":{\"field\":\"x\"},\"y\":{\"field\":\"y\"}},\"id\":\"925fba4b-153c-4787-875a-b19b70251a7b\",\"type\":\"Line\"},{\"attributes\":{\"line_color\":{\"value\":\"navy\"},\"line_width\":{\"value\":4},\"x\":{\"field\":\"x\"},\"y\":{\"field\":\"y\"}},\"id\":\"d5a616e8-335a-4eaf-b497-30d856acc538\",\"type\":\"Line\"},{\"attributes\":{},\"id\":\"4003226a-0f03-4e6d-aec2-15e37e7e9dca\",\"type\":\"ToolEvents\"},{\"attributes\":{\"plot\":{\"id\":\"7b05723c-0f30-4940-b8d5-04023d6dcf08\",\"subtype\":\"Figure\",\"type\":\"Plot\"}},\"id\":\"73104b12-8cd5-49cf-8386-e203b7536d13\",\"type\":\"PanTool\"},{\"attributes\":{},\"id\":\"850b45d7-1819-4327-b053-8dd71b861713\",\"type\":\"BasicTicker\"},{\"attributes\":{\"dimension\":1,\"plot\":{\"id\":\"420c27bf-aff6-4fc3-a1dd-34a87cfe5424\",\"subtype\":\"Figure\",\"type\":\"Plot\"},\"ticker\":{\"id\":\"4f40d83c-283b-4e0c-9c45-81556434a75d\",\"type\":\"BasicTicker\"}},\"id\":\"fee2990b-3af6-4755-9537-cd97e7f2a631\",\"type\":\"Grid\"},{\"attributes\":{\"items\":[{\"id\":\"72aa293b-251c-4abb-bc6a-c0a8f6f956a0\",\"type\":\"LegendItem\"},{\"id\":\"04e2ccc2-f171-480f-bb75-eb9809e1d620\",\"type\":\"LegendItem\"},{\"id\":\"6b9ce381-b1c6-4edd-bd05-9c5f86320eae\",\"type\":\"LegendItem\"}],\"plot\":{\"id\":\"420c27bf-aff6-4fc3-a1dd-34a87cfe5424\",\"subtype\":\"Figure\",\"type\":\"Plot\"}},\"id\":\"bdc2e895-12b5-4034-86cd-2ebfba4ee58f\",\"type\":\"Legend\"},{\"attributes\":{\"fill_color\":{\"value\":\"navy\"},\"line_color\":{\"value\":\"navy\"},\"size\":{\"units\":\"screen\",\"value\":10},\"x\":{\"value\":0},\"y\":{\"value\":0}},\"id\":\"5d995cb3-c4e6-4463-b4fc-4726b806547c\",\"type\":\"Circle\"},{\"attributes\":{\"plot\":{\"id\":\"7b05723c-0f30-4940-b8d5-04023d6dcf08\",\"subtype\":\"Figure\",\"type\":\"Plot\"}},\"id\":\"479500c2-29c9-420b-b008-0687da6830f6\",\"type\":\"SaveTool\"},{\"attributes\":{\"label\":{\"value\":\"close pts\"},\"renderers\":[{\"id\":\"b2aee416-381a-4f2a-b12b-a5e54cfe9af0\",\"type\":\"GlyphRenderer\"}]},\"id\":\"787f62c3-8a5a-43d2-99c2-8b18f1ab838e\",\"type\":\"LegendItem\"},{\"attributes\":{\"callback\":null},\"id\":\"5a0e1797-9058-4dc9-bc6c-787ddf372bc4\",\"type\":\"DataRange1d\"},{\"attributes\":{\"data_source\":{\"id\":\"b5d83eab-2561-4cea-ac01-4214c18ed5e4\",\"type\":\"ColumnDataSource\"},\"glyph\":{\"id\":\"d5a616e8-335a-4eaf-b497-30d856acc538\",\"type\":\"Line\"},\"hover_glyph\":null,\"nonselection_glyph\":{\"id\":\"9c35e27d-0f3a-4326-9b8e-2f7db4f7ca8e\",\"type\":\"Line\"},\"selection_glyph\":null},\"id\":\"5a76d9d7-36c2-4896-aec8-917f70558f3d\",\"type\":\"GlyphRenderer\"},{\"attributes\":{\"bottom_units\":\"screen\",\"fill_alpha\":{\"value\":0.5},\"fill_color\":{\"value\":\"lightgrey\"},\"left_units\":\"screen\",\"level\":\"overlay\",\"line_alpha\":{\"value\":1.0},\"line_color\":{\"value\":\"black\"},\"line_dash\":[4,4],\"line_width\":{\"value\":2},\"plot\":null,\"render_mode\":\"css\",\"right_units\":\"screen\",\"top_units\":\"screen\"},\"id\":\"d76d04cc-210f-4f18-9894-bc12e4172a9a\",\"type\":\"BoxAnnotation\"},{\"attributes\":{\"plot\":null,\"text\":\"Affecting of different values of p\"},\"id\":\"0c45d161-a1be-453b-9549-dc83d02c4628\",\"type\":\"Title\"},{\"attributes\":{\"label\":{\"value\":\"close pt = 1\"},\"renderers\":[{\"id\":\"a1d2c585-eafc-4fcb-a8ab-8305f7d49745\",\"type\":\"GlyphRenderer\"}]},\"id\":\"72aa293b-251c-4abb-bc6a-c0a8f6f956a0\",\"type\":\"LegendItem\"},{\"attributes\":{\"callback\":null,\"column_names\":[\"x\",\"y\"],\"data\":{\"x\":[0.3,-0.4,-0.5,0.6],\"y\":[0.4,0.2,0.7,-0.8]}},\"id\":\"9f74f074-e5c6-4d4c-b011-d0bbbc0b472c\",\"type\":\"ColumnDataSource\"},{\"attributes\":{\"active_drag\":\"auto\",\"active_scroll\":\"auto\",\"active_tap\":\"auto\",\"tools\":[{\"id\":\"3656f0c3-35fb-4f4c-8cdc-02b8071e7e94\",\"type\":\"PanTool\"},{\"id\":\"2e4e6be2-ffcf-48b7-baac-075b2c131836\",\"type\":\"WheelZoomTool\"},{\"id\":\"6a006dfd-5d5c-45d5-9cd1-a57051bce9dd\",\"type\":\"BoxZoomTool\"},{\"id\":\"d9c9287a-dded-4635-bbc1-bcc02ceac429\",\"type\":\"SaveTool\"},{\"id\":\"39bf39a9-a7ca-4cb8-8a74-4886ba82fbf7\",\"type\":\"ResetTool\"},{\"id\":\"bbb27619-f335-4483-ba17-91416eed3c49\",\"type\":\"HelpTool\"}]},\"id\":\"7c84e839-9156-461d-8b7d-8f6de02f8bb2\",\"type\":\"Toolbar\"},{\"attributes\":{},\"id\":\"908bb98c-9d2c-486a-90c6-2ce78bde6375\",\"type\":\"BasicTickFormatter\"},{\"attributes\":{\"line_alpha\":{\"value\":0.1},\"line_color\":{\"value\":\"#1f77b4\"},\"line_width\":{\"value\":4},\"x\":{\"field\":\"x\"},\"y\":{\"field\":\"y\"}},\"id\":\"24c96328-c0c9-4a0c-90f7-6d2ff5115061\",\"type\":\"Line\"},{\"attributes\":{\"plot\":{\"id\":\"420c27bf-aff6-4fc3-a1dd-34a87cfe5424\",\"subtype\":\"Figure\",\"type\":\"Plot\"}},\"id\":\"39bf39a9-a7ca-4cb8-8a74-4886ba82fbf7\",\"type\":\"ResetTool\"},{\"attributes\":{\"callback\":null,\"column_names\":[\"x\",\"y\"],\"data\":{\"x\":[0.1,0.30000000000000004,0.5000000000000001,0.7000000000000001,0.9000000000000001,1.1000000000000003,1.3000000000000003,1.5000000000000004,1.7000000000000004,1.9000000000000004,2.1000000000000005,2.3000000000000007,2.5000000000000004,2.7000000000000006,2.900000000000001,3.1000000000000005,3.3000000000000007,3.500000000000001,3.7000000000000006,3.900000000000001,4.1000000000000005,4.300000000000001,4.500000000000001,4.7,4.9],\"y\":[2.2032168334764988,2.2829597590342185,2.368179120917214,2.4544853251439194,2.537775255586403,2.6148197425163464,2.683550007066106,2.743039702243826,2.793283949304107,2.8349018674693727,2.8688571821691453,2.8962433177834663,2.918141653421925,2.9355415584532456,2.9493045993260907,2.9601565865889996,2.968695115828187,2.9754043731824606,2.9806722389068416,2.9848069778273802,2.988052226402069,2.9905998141875965,2.9926004019129433,2.9941721309661355,2.995407560094669]}},\"id\":\"b5d83eab-2561-4cea-ac01-4214c18ed5e4\",\"type\":\"ColumnDataSource\"},{\"attributes\":{\"fill_color\":{\"value\":\"navy\"},\"line_color\":{\"value\":\"navy\"},\"size\":{\"units\":\"screen\",\"value\":15},\"x\":{\"field\":\"x\"},\"y\":{\"field\":\"y\"}},\"id\":\"e0358bd8-5ee6-4547-b375-339e6e02c674\",\"type\":\"X\"},{\"attributes\":{\"line_alpha\":{\"value\":0.1},\"line_color\":{\"value\":\"#1f77b4\"},\"line_width\":{\"value\":4},\"x\":{\"field\":\"x\"},\"y\":{\"field\":\"y\"}},\"id\":\"9c35e27d-0f3a-4326-9b8e-2f7db4f7ca8e\",\"type\":\"Line\"},{\"attributes\":{\"line_color\":{\"value\":\"firebrick\"},\"line_width\":{\"value\":4},\"x\":{\"field\":\"x\"},\"y\":{\"field\":\"y\"}},\"id\":\"5521ecde-f881-4f72-b98f-dc09346562bf\",\"type\":\"Line\"},{\"attributes\":{\"formatter\":{\"id\":\"908bb98c-9d2c-486a-90c6-2ce78bde6375\",\"type\":\"BasicTickFormatter\"},\"plot\":{\"id\":\"7b05723c-0f30-4940-b8d5-04023d6dcf08\",\"subtype\":\"Figure\",\"type\":\"Plot\"},\"ticker\":{\"id\":\"850b45d7-1819-4327-b053-8dd71b861713\",\"type\":\"BasicTicker\"}},\"id\":\"6263313b-9c98-4d36-b61a-2b839893a7ae\",\"type\":\"LinearAxis\"},{\"attributes\":{\"axis_label\":\"popularity of y\",\"formatter\":{\"id\":\"89d1d9b2-fba3-4ad2-98f8-2757ce74aa56\",\"type\":\"BasicTickFormatter\"},\"plot\":{\"id\":\"420c27bf-aff6-4fc3-a1dd-34a87cfe5424\",\"subtype\":\"Figure\",\"type\":\"Plot\"},\"ticker\":{\"id\":\"4f40d83c-283b-4e0c-9c45-81556434a75d\",\"type\":\"BasicTicker\"}},\"id\":\"444b4829-8aec-40f5-aa64-0bb8664848a5\",\"type\":\"LinearAxis\"},{\"attributes\":{\"below\":[{\"id\":\"ac486196-4d3b-4367-983e-9e9c7f680fb9\",\"type\":\"LinearAxis\"}],\"left\":[{\"id\":\"444b4829-8aec-40f5-aa64-0bb8664848a5\",\"type\":\"LinearAxis\"}],\"plot_height\":300,\"plot_width\":500,\"renderers\":[{\"id\":\"ac486196-4d3b-4367-983e-9e9c7f680fb9\",\"type\":\"LinearAxis\"},{\"id\":\"5a436460-8510-414f-877a-ea3cd963536a\",\"type\":\"Grid\"},{\"id\":\"444b4829-8aec-40f5-aa64-0bb8664848a5\",\"type\":\"LinearAxis\"},{\"id\":\"fee2990b-3af6-4755-9537-cd97e7f2a631\",\"type\":\"Grid\"},{\"id\":\"d76d04cc-210f-4f18-9894-bc12e4172a9a\",\"type\":\"BoxAnnotation\"},{\"id\":\"bdc2e895-12b5-4034-86cd-2ebfba4ee58f\",\"type\":\"Legend\"},{\"id\":\"a1d2c585-eafc-4fcb-a8ab-8305f7d49745\",\"type\":\"GlyphRenderer\"},{\"id\":\"4dd4e0f4-1769-48e0-9d0a-b040a7a9d2b8\",\"type\":\"GlyphRenderer\"},{\"id\":\"5a76d9d7-36c2-4896-aec8-917f70558f3d\",\"type\":\"GlyphRenderer\"}],\"title\":{\"id\":\"0c45d161-a1be-453b-9549-dc83d02c4628\",\"type\":\"Title\"},\"tool_events\":{\"id\":\"4003226a-0f03-4e6d-aec2-15e37e7e9dca\",\"type\":\"ToolEvents\"},\"toolbar\":{\"id\":\"7c84e839-9156-461d-8b7d-8f6de02f8bb2\",\"type\":\"Toolbar\"},\"x_range\":{\"id\":\"1ec59a42-3c52-42ed-ba6f-6732812b80e5\",\"type\":\"DataRange1d\"},\"y_range\":{\"id\":\"d4558e49-ef45-47cd-abd2-fa66c78b388e\",\"type\":\"DataRange1d\"}},\"id\":\"420c27bf-aff6-4fc3-a1dd-34a87cfe5424\",\"subtype\":\"Figure\",\"type\":\"Plot\"},{\"attributes\":{\"label\":{\"value\":\"close pt = 3\"},\"renderers\":[{\"id\":\"5a76d9d7-36c2-4896-aec8-917f70558f3d\",\"type\":\"GlyphRenderer\"}]},\"id\":\"6b9ce381-b1c6-4edd-bd05-9c5f86320eae\",\"type\":\"LegendItem\"},{\"attributes\":{\"plot\":{\"id\":\"420c27bf-aff6-4fc3-a1dd-34a87cfe5424\",\"subtype\":\"Figure\",\"type\":\"Plot\"}},\"id\":\"3656f0c3-35fb-4f4c-8cdc-02b8071e7e94\",\"type\":\"PanTool\"},{\"attributes\":{},\"id\":\"6297bd18-29df-43ec-95f6-28ffa22bb55e\",\"type\":\"BasicTicker\"},{\"attributes\":{},\"id\":\"71eab10b-1b45-4eec-9e11-197f88febd9e\",\"type\":\"BasicTicker\"},{\"attributes\":{},\"id\":\"4f40d83c-283b-4e0c-9c45-81556434a75d\",\"type\":\"BasicTicker\"},{\"attributes\":{\"label\":{\"value\":\"close pt = 2\"},\"renderers\":[{\"id\":\"4dd4e0f4-1769-48e0-9d0a-b040a7a9d2b8\",\"type\":\"GlyphRenderer\"}]},\"id\":\"04e2ccc2-f171-480f-bb75-eb9809e1d620\",\"type\":\"LegendItem\"},{\"attributes\":{\"data_source\":{\"id\":\"04321902-7947-4eba-a6fc-850112013b47\",\"type\":\"ColumnDataSource\"},\"glyph\":{\"id\":\"5521ecde-f881-4f72-b98f-dc09346562bf\",\"type\":\"Line\"},\"hover_glyph\":null,\"nonselection_glyph\":{\"id\":\"27341e8c-e638-4dbc-a575-2e6860a97c83\",\"type\":\"Line\"},\"selection_glyph\":null},\"id\":\"a1d2c585-eafc-4fcb-a8ab-8305f7d49745\",\"type\":\"GlyphRenderer\"},{\"attributes\":{\"plot\":{\"id\":\"7b05723c-0f30-4940-b8d5-04023d6dcf08\",\"subtype\":\"Figure\",\"type\":\"Plot\"}},\"id\":\"52a5e9d8-db19-4304-a074-73a478d25dcd\",\"type\":\"HelpTool\"},{\"attributes\":{\"plot\":null,\"text\":\"Example\"},\"id\":\"da0f176e-db23-4031-8b27-e7b4fb789d6f\",\"type\":\"Title\"},{\"attributes\":{\"callback\":null},\"id\":\"1ec59a42-3c52-42ed-ba6f-6732812b80e5\",\"type\":\"DataRange1d\"},{\"attributes\":{\"fill_alpha\":{\"value\":0.1},\"fill_color\":{\"value\":\"#1f77b4\"},\"line_alpha\":{\"value\":0.1},\"line_color\":{\"value\":\"#1f77b4\"},\"size\":{\"units\":\"screen\",\"value\":10},\"x\":{\"value\":0},\"y\":{\"value\":0}},\"id\":\"fa1b1bb6-9649-4267-8802-4934158a3d42\",\"type\":\"Circle\"},{\"attributes\":{\"active_drag\":\"auto\",\"active_scroll\":\"auto\",\"active_tap\":\"auto\",\"tools\":[{\"id\":\"73104b12-8cd5-49cf-8386-e203b7536d13\",\"type\":\"PanTool\"},{\"id\":\"6d2c8b37-bdbf-4a8d-b9e0-4f13be286d9c\",\"type\":\"WheelZoomTool\"},{\"id\":\"abbe50df-ced4-472e-976a-6657d64d14c0\",\"type\":\"BoxZoomTool\"},{\"id\":\"479500c2-29c9-420b-b008-0687da6830f6\",\"type\":\"SaveTool\"},{\"id\":\"3b4feafb-b9e2-4add-8394-17fbfe208440\",\"type\":\"ResetTool\"},{\"id\":\"52a5e9d8-db19-4304-a074-73a478d25dcd\",\"type\":\"HelpTool\"}]},\"id\":\"ed0a2944-c4a7-4a0c-a401-09b2467481e1\",\"type\":\"Toolbar\"},{\"attributes\":{\"data_source\":{\"id\":\"d5446712-3058-4ad2-ad86-1086fd9d88d7\",\"type\":\"ColumnDataSource\"},\"glyph\":{\"id\":\"925fba4b-153c-4787-875a-b19b70251a7b\",\"type\":\"Line\"},\"hover_glyph\":null,\"nonselection_glyph\":{\"id\":\"24c96328-c0c9-4a0c-90f7-6d2ff5115061\",\"type\":\"Line\"},\"selection_glyph\":null},\"id\":\"4dd4e0f4-1769-48e0-9d0a-b040a7a9d2b8\",\"type\":\"GlyphRenderer\"},{\"attributes\":{},\"id\":\"0bf67b13-7396-4d6a-84ee-418173199801\",\"type\":\"BasicTickFormatter\"},{\"attributes\":{\"overlay\":{\"id\":\"69f55932-3abb-4284-81c9-ed7ee22cd3f4\",\"type\":\"BoxAnnotation\"},\"plot\":{\"id\":\"7b05723c-0f30-4940-b8d5-04023d6dcf08\",\"subtype\":\"Figure\",\"type\":\"Plot\"}},\"id\":\"abbe50df-ced4-472e-976a-6657d64d14c0\",\"type\":\"BoxZoomTool\"},{\"attributes\":{\"callback\":null},\"id\":\"56c81083-aacb-4618-9f2c-24910846d222\",\"type\":\"DataRange1d\"},{\"attributes\":{\"label\":{\"value\":\"further pts\"},\"renderers\":[{\"id\":\"440e7671-14b1-4a29-bebc-1a5487db3fcf\",\"type\":\"GlyphRenderer\"}]},\"id\":\"c9537fab-5c10-4e56-abfe-9f86059d1285\",\"type\":\"LegendItem\"},{\"attributes\":{\"plot\":{\"id\":\"420c27bf-aff6-4fc3-a1dd-34a87cfe5424\",\"subtype\":\"Figure\",\"type\":\"Plot\"}},\"id\":\"bbb27619-f335-4483-ba17-91416eed3c49\",\"type\":\"HelpTool\"},{\"attributes\":{\"dimension\":1,\"plot\":{\"id\":\"7b05723c-0f30-4940-b8d5-04023d6dcf08\",\"subtype\":\"Figure\",\"type\":\"Plot\"},\"ticker\":{\"id\":\"6297bd18-29df-43ec-95f6-28ffa22bb55e\",\"type\":\"BasicTicker\"}},\"id\":\"c0e6800c-be6c-40f7-a93c-f7679d7a6948\",\"type\":\"Grid\"},{\"attributes\":{\"callback\":null},\"id\":\"41401322-5385-4475-9a27-f7326ae38cf7\",\"type\":\"ColumnDataSource\"},{\"attributes\":{\"plot\":{\"id\":\"420c27bf-aff6-4fc3-a1dd-34a87cfe5424\",\"subtype\":\"Figure\",\"type\":\"Plot\"},\"ticker\":{\"id\":\"71eab10b-1b45-4eec-9e11-197f88febd9e\",\"type\":\"BasicTicker\"}},\"id\":\"5a436460-8510-414f-877a-ea3cd963536a\",\"type\":\"Grid\"}],\"root_ids\":[\"05e6a0f9-0d74-400b-85a0-163747d716b0\"]},\"title\":\"Bokeh Application\",\"version\":\"0.12.4\"}};\n",
       "            var render_items = [{\"docid\":\"22cd1204-5366-4ada-96f9-4c27de30c048\",\"elementid\":\"29fda25f-d932-4d7c-98c5-c67b26f05319\",\"modelid\":\"05e6a0f9-0d74-400b-85a0-163747d716b0\"}];\n",
       "            \n",
       "            Bokeh.embed.embed_items(docs_json, render_items);\n",
       "          };\n",
       "          if (document.readyState != \"loading\") fn();\n",
       "          else document.addEventListener(\"DOMContentLoaded\", fn);\n",
       "        })();\n",
       "      },\n",
       "      function(Bokeh) {\n",
       "      }\n",
       "    ];\n",
       "  \n",
       "    function run_inline_js() {\n",
       "      \n",
       "      if ((window.Bokeh !== undefined) || (force === true)) {\n",
       "        for (var i = 0; i < inline_js.length; i++) {\n",
       "          inline_js[i](window.Bokeh);\n",
       "        }if (force === true) {\n",
       "          display_loaded();\n",
       "        }} else if (Date.now() < window._bokeh_timeout) {\n",
       "        setTimeout(run_inline_js, 100);\n",
       "      } else if (!window._bokeh_failed_load) {\n",
       "        console.log(\"Bokeh: BokehJS failed to load within specified timeout.\");\n",
       "        window._bokeh_failed_load = true;\n",
       "      } else if (force !== true) {\n",
       "        var cell = $(document.getElementById(\"29fda25f-d932-4d7c-98c5-c67b26f05319\")).parents('.cell').data().cell;\n",
       "        cell.output_area.append_execute_result(NB_LOAD_WARNING)\n",
       "      }\n",
       "  \n",
       "    }\n",
       "  \n",
       "    if (window._bokeh_is_loading === 0) {\n",
       "      console.log(\"Bokeh: BokehJS loaded, going straight to plotting\");\n",
       "      run_inline_js();\n",
       "    } else {\n",
       "      load_libs(js_urls, function() {\n",
       "        console.log(\"Bokeh: BokehJS plotting callback run at\", now());\n",
       "        run_inline_js();\n",
       "      });\n",
       "    }\n",
       "  }(this));\n",
       "</script>"
      ]
     },
     "metadata": {},
     "output_type": "display_data"
    }
   ],
   "source": [
    "p1 = figure(plot_width=500, plot_height=300, title='Affecting of different values of p',\\\n",
    "           x_axis_label='values of p',y_axis_label='popularity of y')\n",
    "p1.line(xs, popularities[0],color=\"firebrick\", legend='close pt = 1', line_width=4)\n",
    "p1.line(xs, popularities[1],color=\"green\", legend='close pt = 2', line_width=4)\n",
    "p1.line(xs, popularities[2],color=\"navy\", legend='close pt = 3', line_width=4)\n",
    "\n",
    "\n",
    "p2 = figure(plot_width=300, plot_height=300, title='Example')\n",
    "p2.circle(x[0], x[1], size=10, color='navy')\n",
    "p2.x([0.1,-0.1], [0.1,0.1], size=15, color='navy',legend='close pts')\n",
    "p2.x([0.3,-0.4,-0.5,0.6], [0.4,0.2,0.7,-0.8], size=10, color='grey',legend='further pts')\n",
    "p2.legend.location = \"bottom_left\"\n",
    "show(row(p2,p1))"
   ]
  },
  {
   "cell_type": "markdown",
   "metadata": {},
   "source": [
    "## Interpolation\n",
    "Larger value of p allows closer apartments weight more in the interpolation. \n",
    "To see which one works best for new york rental market, I did different interpolations using different p values: 0.1, 0.5, 1 and 3."
   ]
  },
  {
   "cell_type": "code",
   "execution_count": 10,
   "metadata": {
    "collapsed": true
   },
   "outputs": [],
   "source": [
    "def findMappingPoints(mapped_point, df):\n",
    "    \"\"\" Input: building center point represented as a list with lng and lat\n",
    "    Output: data points in df with 0.01 degree distance range from input point.\n",
    "    \"\"\"\n",
    "    mask_x = (df['x'] >= mapped_point[0]-600) & (df['x'] <= mapped_point[0]+600)\n",
    "    mask_y = (df['y'] >= mapped_point[1]-600) & (df['y'] <= mapped_point[1]+600)\n",
    "    \n",
    "    return df[mask_x & mask_y]\n",
    "\n",
    "def buildingsInterpolation(mapped_point, power, df_market=df_market):\n",
    "    \"\"\" input: the building center point represented as a list with lng and lat\n",
    "    output: the popularity of this building\n",
    "    \"\"\"\n",
    "    mapping_points = findMappingPoints(mapped_point, df_market)\n",
    "    \n",
    "    if len(mapping_points) == 0:  # if no close points exist, set popularity to 0\n",
    "        result = 0\n",
    "        \n",
    "    elif len(mapping_points) <= 5:  # if there are less than 5, consider them all\n",
    "        result = interpolation(mapped_point, mapping_points, False, power)\n",
    "        \n",
    "    else:  # if more than 5, consider closest 5\n",
    "        result = interpolation(mapped_point, mapping_points, True, power)\n",
    "        \n",
    "    return result"
   ]
  },
  {
   "cell_type": "code",
   "execution_count": 11,
   "metadata": {
    "collapsed": true
   },
   "outputs": [],
   "source": [
    "df_building['IDW_0.1'] = df_building['center_pt'].apply(buildingsInterpolation, power=0.1)\n",
    "df_building['IDW_0.5'] = df_building['center_pt'].apply(buildingsInterpolation, power=0.5)\n",
    "df_building['IDW_1'] = df_building['center_pt'].apply(buildingsInterpolation, power=1)\n",
    "df_building['IDW_3'] = df_building['center_pt'].apply(buildingsInterpolation, power=3)"
   ]
  },
  {
   "cell_type": "code",
   "execution_count": 12,
   "metadata": {},
   "outputs": [
    {
     "data": {
      "text/html": [
       "<div>\n",
       "<table border=\"1\" class=\"dataframe\">\n",
       "  <thead>\n",
       "    <tr style=\"text-align: right;\">\n",
       "      <th></th>\n",
       "      <th>DOITT_ID</th>\n",
       "      <th>footprint</th>\n",
       "      <th>center_pt</th>\n",
       "      <th>x</th>\n",
       "      <th>y</th>\n",
       "      <th>IDW_0.1</th>\n",
       "      <th>IDW_0.5</th>\n",
       "      <th>IDW_1</th>\n",
       "      <th>IDW_3</th>\n",
       "    </tr>\n",
       "  </thead>\n",
       "  <tbody>\n",
       "    <tr>\n",
       "      <th>31950</th>\n",
       "      <td>313119</td>\n",
       "      <td>[[-73.9834, -73.9835, -73.9835, -73.9836, -73....</td>\n",
       "      <td>(-9613469.10811105, 355447.84763150103)</td>\n",
       "      <td>-9.613469e+06</td>\n",
       "      <td>355447.847632</td>\n",
       "      <td>1.200000</td>\n",
       "      <td>1.200000</td>\n",
       "      <td>1.200000</td>\n",
       "      <td>1.200000</td>\n",
       "    </tr>\n",
       "    <tr>\n",
       "      <th>31986</th>\n",
       "      <td>554919</td>\n",
       "      <td>[[-73.9882, -73.9883, -73.9883, -73.9883, -73....</td>\n",
       "      <td>(-9617184.379490266, 361048.91133206384)</td>\n",
       "      <td>-9.617184e+06</td>\n",
       "      <td>361048.911332</td>\n",
       "      <td>1.000000</td>\n",
       "      <td>1.000000</td>\n",
       "      <td>1.000000</td>\n",
       "      <td>1.000000</td>\n",
       "    </tr>\n",
       "    <tr>\n",
       "      <th>31987</th>\n",
       "      <td>665185</td>\n",
       "      <td>[[-73.9797, -73.9798, -73.9799, -73.9799, -73....</td>\n",
       "      <td>(-9613400.620183097, 356174.110258732)</td>\n",
       "      <td>-9.613401e+06</td>\n",
       "      <td>356174.110259</td>\n",
       "      <td>1.387856</td>\n",
       "      <td>1.336792</td>\n",
       "      <td>1.271134</td>\n",
       "      <td>1.079000</td>\n",
       "    </tr>\n",
       "    <tr>\n",
       "      <th>31988</th>\n",
       "      <td>79482</td>\n",
       "      <td>[[-73.9937, -73.9937, -73.9938, -73.9938, -73....</td>\n",
       "      <td>(-9614161.458572928, 354308.31446485035)</td>\n",
       "      <td>-9.614161e+06</td>\n",
       "      <td>354308.314465</td>\n",
       "      <td>1.812472</td>\n",
       "      <td>1.875882</td>\n",
       "      <td>1.950081</td>\n",
       "      <td>1.999751</td>\n",
       "    </tr>\n",
       "    <tr>\n",
       "      <th>31989</th>\n",
       "      <td>301212</td>\n",
       "      <td>[[-73.9874, -73.9874, -73.9875, -73.9875, -73....</td>\n",
       "      <td>(-9614705.761096902, 356760.94259855757)</td>\n",
       "      <td>-9.614706e+06</td>\n",
       "      <td>356760.942599</td>\n",
       "      <td>1.195210</td>\n",
       "      <td>1.175640</td>\n",
       "      <td>1.150890</td>\n",
       "      <td>1.066971</td>\n",
       "    </tr>\n",
       "  </tbody>\n",
       "</table>\n",
       "</div>"
      ],
      "text/plain": [
       "       DOITT_ID                                          footprint  \\\n",
       "31950    313119  [[-73.9834, -73.9835, -73.9835, -73.9836, -73....   \n",
       "31986    554919  [[-73.9882, -73.9883, -73.9883, -73.9883, -73....   \n",
       "31987    665185  [[-73.9797, -73.9798, -73.9799, -73.9799, -73....   \n",
       "31988     79482  [[-73.9937, -73.9937, -73.9938, -73.9938, -73....   \n",
       "31989    301212  [[-73.9874, -73.9874, -73.9875, -73.9875, -73....   \n",
       "\n",
       "                                      center_pt             x              y  \\\n",
       "31950   (-9613469.10811105, 355447.84763150103) -9.613469e+06  355447.847632   \n",
       "31986  (-9617184.379490266, 361048.91133206384) -9.617184e+06  361048.911332   \n",
       "31987    (-9613400.620183097, 356174.110258732) -9.613401e+06  356174.110259   \n",
       "31988  (-9614161.458572928, 354308.31446485035) -9.614161e+06  354308.314465   \n",
       "31989  (-9614705.761096902, 356760.94259855757) -9.614706e+06  356760.942599   \n",
       "\n",
       "        IDW_0.1   IDW_0.5     IDW_1     IDW_3  \n",
       "31950  1.200000  1.200000  1.200000  1.200000  \n",
       "31986  1.000000  1.000000  1.000000  1.000000  \n",
       "31987  1.387856  1.336792  1.271134  1.079000  \n",
       "31988  1.812472  1.875882  1.950081  1.999751  \n",
       "31989  1.195210  1.175640  1.150890  1.066971  "
      ]
     },
     "execution_count": 12,
     "metadata": {},
     "output_type": "execute_result"
    }
   ],
   "source": [
    "df_building.head()"
   ]
  },
  {
   "cell_type": "markdown",
   "metadata": {},
   "source": [
    "# 2. Clustering Models Selection"
   ]
  },
  {
   "cell_type": "markdown",
   "metadata": {},
   "source": [
    "With every building assigned popularity values, I performed clustering using their longitude, latitude and the popularity. \n",
    "\n",
    "Clustering on large number of data points are computational expensive, for model selection, I use 10,000 data points sampled out of original building data set."
   ]
  },
  {
   "cell_type": "code",
   "execution_count": 13,
   "metadata": {
    "collapsed": true
   },
   "outputs": [],
   "source": [
    "df_building = df_building.sample(frac=1)\n",
    "df_clustering = df_building.head(n=10000)"
   ]
  },
  {
   "cell_type": "markdown",
   "metadata": {},
   "source": [
    "### Clustering Method:\n",
    "In this project I choose the hierarchical clustering method. One reason is that I don’t know how many clusters I need before experiments. And more importantly, different numbers of clusters give us different point of view, they all make sense. If we choose higher cut on dendrogram with less clusters, we get a more general picture about relation between different areas. And if we choose lower cut with more clusters, we get insights of relation in neighbourhood in detail. \n",
    "\n",
    "### Distance Metric:\n",
    "For distance metric between data points, I have 2 choice: Manhattan distance and Euclidean distance. Without knowing which one is better, I tried them both.\n",
    "\n",
    "### Linkage\n",
    "For distance metric between clusters, I experiment with complete linkage, average linkage, weighted linkage, centroid linkage and ward linkage. (Single linkage will merge most of the buildings into one cluster and the rest are singleton clusters, so I don’t use it in this project.)"
   ]
  },
  {
   "cell_type": "markdown",
   "metadata": {},
   "source": [
    "## Evalution:\n",
    "Until now, we have 3 parameters of our rental market clustering model: the power parameter p of IDW, the distance metric choice and linkage choice. The combination of them gives us in total 32 clustering models. \n",
    "\n",
    "To evaluate these 32 different models, I set up 6 statistical criteria which act as 6 scoring systems:\n",
    "1. The size of 15% largest clusters.\n",
    "2. The number of singleton clusters.\n",
    "\n",
    "3. The size of 85% largest clusters.\n",
    "4. The area of 85% largest clusters.\n",
    "\n",
    "5. The within cluster popularity variance.\n",
    "6. The between cluster popularity variance*.\n",
    "\n",
    "The first 4 criteria evaluate whether a model yields balanced clustering with respect to both size and area. For this application, we shouldn’t have too many small clusters or too many large clusters.\n",
    "\n",
    "The last 2 criteria evaluate whether a model put nearby buildings with similar popularity in the same cluster and the ones with different popularity into different clusters.\n",
    "\n",
    "* This variance is actually calculated by first calculating the variances of popularity of each cluster and its nearest 5 clusters, and then take the mean of these variances. So it indicates the between cluster popularity variance for nearby clusters."
   ]
  },
  {
   "cell_type": "code",
   "execution_count": 14,
   "metadata": {
    "collapsed": true
   },
   "outputs": [],
   "source": [
    "cnt_small = [] # The size of 15% largest clusters. The higher the better.\n",
    "cnt_singlton = [] # The number of singleton clusters. The smaller the better.\n",
    "\n",
    "cnt_large = [] # The size of 85% largest clusters. The smaller the better.\n",
    "areas_large = [] # The area of 85% largest clusters. The smaller the better.\n",
    "\n",
    "interVars = [] # The within cluster popularity variance. The smaller the better.\n",
    "intraVars = [] # The between cluster popularity variance. The bigger the better.\n",
    "\n",
    "models = []"
   ]
  },
  {
   "cell_type": "code",
   "execution_count": 15,
   "metadata": {
    "collapsed": true
   },
   "outputs": [],
   "source": [
    "df_norms = [df_clustering[['x','y','IDW_0.1']], df_clustering[['x','y','IDW_0.5']], \\\n",
    "            df_clustering[['x','y','IDW_1']], df_clustering[['x','y','IDW_3']]]\n",
    "\n",
    "IDWs = ['IDW_0.1', 'IDW_0.5', 'IDW_1', 'IDW_3']"
   ]
  },
  {
   "cell_type": "code",
   "execution_count": 16,
   "metadata": {
    "collapsed": true
   },
   "outputs": [],
   "source": [
    "for df_norm, idw in zip(df_norms, IDWs):\n",
    "\n",
    "    #### get linkages for different methods and metrics\n",
    "    Z_average_N1 = c.Clustering(df_norm, method='average', metric='cityblock')\n",
    "    Z_average_N2 = c.Clustering(df_norm, method='average', metric='euclidean')\n",
    "\n",
    "    Z_weighted_N1 = c.Clustering(df_norm, method='weighted', metric='cityblock')\n",
    "    Z_weighted_N2 = c.Clustering(df_norm, method='weighted', metric='euclidean')\n",
    "\n",
    "    Z_centroid_N2 = c.Clustering(df_norm, method='centroid', metric='euclidean')\n",
    "\n",
    "    Z_complete_N1 = c.Clustering(df_norm, method='complete', metric='cityblock')\n",
    "    Z_complete_N2 = c.Clustering(df_norm, method='complete', metric='euclidean')\n",
    "\n",
    "    Z_ward_N2 = c.Clustering(df_norm, method='ward', metric='euclidean')\n",
    "\n",
    "    Zs = [Z_average_N1,Z_average_N2,Z_weighted_N1,Z_weighted_N2,\\\n",
    "          Z_centroid_N2,Z_complete_N1,Z_complete_N2,Z_ward_N2]\n",
    "    Ls = ['average_N1','average_N2','weighted_N1','weighted_N2',\\\n",
    "          'centroid_N2','complete_N1','complete_N2','ward_N2']\n",
    "\n",
    "    #### evaluating clusters\n",
    "    for Z, L in zip(Zs, Ls):\n",
    "\n",
    "        Z.getClusters(k=800)\n",
    "        result = Z.clusterStats()\n",
    "\n",
    "        cnt_small.append(result[0])\n",
    "        cnt_large.append(result[1])\n",
    "        cnt_singlton.append(result[2])\n",
    "        areas_large.append(result[3])\n",
    "        interVars.append(result[4])\n",
    "        intraVars.append(result[5])\n",
    "\n",
    "        models.append(idw+';'+L)"
   ]
  },
  {
   "cell_type": "code",
   "execution_count": 17,
   "metadata": {
    "collapsed": true
   },
   "outputs": [],
   "source": [
    "df_perf = pd.DataFrame({'cnt_small':cnt_small,'cnt_large':cnt_large,'cnt_singlton':cnt_singlton,\\\n",
    "                        'areas_large':areas_large,'interVars':interVars,'intraVars':intraVars})"
   ]
  },
  {
   "cell_type": "markdown",
   "metadata": {},
   "source": [
    "## Combine Multiple Selection Criteria"
   ]
  },
  {
   "cell_type": "markdown",
   "metadata": {},
   "source": [
    "Gaining the evaluation decision given by 6 criteria for each clustering model, in order to properly compare them, I first normalized and sorted the decisions and produce the score and ranks of each criterion. \n",
    "\n",
    "Let $S_m(n)$ and $R_m(n)$ be the score and rank given by $m^{th}$ criterion on $n^{th}$ model respectively. We will have $S_m(n) \\in [0,1]$ with highest scoring = 1 and $R_m(n) \\in [1,N]$ with highest ranking = 1."
   ]
  },
  {
   "cell_type": "code",
   "execution_count": 18,
   "metadata": {
    "collapsed": true
   },
   "outputs": [],
   "source": [
    "def transform_rank(sr):\n",
    "    \"\"\" transform the dist to it's rank in range [0,n]\n",
    "    \"\"\"\n",
    "    sr = sr.rank(method='min', ascending=False) # high(1), low(n)\n",
    "    return sr\n",
    "\n",
    "\n",
    "def transform_score(sr):\n",
    "    \"\"\" transform the dist to it's score in range [0,1]\n",
    "    \"\"\"\n",
    "    min_sr = sr.min()\n",
    "    sr = sr - min_sr\n",
    "    \n",
    "    max_sr = sr.max()\n",
    "    sr = sr / max_sr\n",
    "\n",
    "    return sr\n",
    "\n",
    "\n",
    "def transform_SRC(sr):\n",
    "    \"\"\" transform the dist to it's SRC in range [0,n]\n",
    "    \"\"\"\n",
    "    score = transform_score(sr)\n",
    "    rank = transform_rank(sr)\n",
    "    sr = score/rank\n",
    "    \n",
    "    return sr\n",
    "\n",
    "\n",
    "df_rank = df_perf.apply(transform_rank, axis=0)\n",
    "df_score = df_perf.apply(transform_score, axis=0)\n",
    "df_src = df_perf.apply(transform_SRC, axis=0)"
   ]
  },
  {
   "cell_type": "code",
   "execution_count": 19,
   "metadata": {},
   "outputs": [
    {
     "data": {
      "text/html": [
       "<div>\n",
       "<table border=\"1\" class=\"dataframe\">\n",
       "  <thead>\n",
       "    <tr style=\"text-align: right;\">\n",
       "      <th></th>\n",
       "      <th>areas_large</th>\n",
       "      <th>cnt_large</th>\n",
       "      <th>cnt_singlton</th>\n",
       "      <th>cnt_small</th>\n",
       "      <th>interVars</th>\n",
       "      <th>intraVars</th>\n",
       "    </tr>\n",
       "  </thead>\n",
       "  <tbody>\n",
       "    <tr>\n",
       "      <th>IDW_0.1;average_N1</th>\n",
       "      <td>0.681814</td>\n",
       "      <td>0.680412</td>\n",
       "      <td>0.083916</td>\n",
       "      <td>0.0</td>\n",
       "      <td>1.000000</td>\n",
       "      <td>0.795785</td>\n",
       "    </tr>\n",
       "    <tr>\n",
       "      <th>IDW_0.1;average_N2</th>\n",
       "      <td>0.755028</td>\n",
       "      <td>0.793814</td>\n",
       "      <td>0.111888</td>\n",
       "      <td>0.0</td>\n",
       "      <td>0.996728</td>\n",
       "      <td>0.893752</td>\n",
       "    </tr>\n",
       "    <tr>\n",
       "      <th>IDW_0.1;weighted_N1</th>\n",
       "      <td>0.716610</td>\n",
       "      <td>0.731959</td>\n",
       "      <td>0.195804</td>\n",
       "      <td>0.2</td>\n",
       "      <td>0.993853</td>\n",
       "      <td>0.837344</td>\n",
       "    </tr>\n",
       "    <tr>\n",
       "      <th>IDW_0.1;weighted_N2</th>\n",
       "      <td>0.788239</td>\n",
       "      <td>0.701031</td>\n",
       "      <td>0.202797</td>\n",
       "      <td>0.2</td>\n",
       "      <td>0.994344</td>\n",
       "      <td>1.000000</td>\n",
       "    </tr>\n",
       "    <tr>\n",
       "      <th>IDW_0.1;centroid_N2</th>\n",
       "      <td>0.744268</td>\n",
       "      <td>0.762887</td>\n",
       "      <td>0.000000</td>\n",
       "      <td>0.0</td>\n",
       "      <td>0.998957</td>\n",
       "      <td>0.899686</td>\n",
       "    </tr>\n",
       "    <tr>\n",
       "      <th>IDW_0.1;complete_N1</th>\n",
       "      <td>0.887070</td>\n",
       "      <td>0.711340</td>\n",
       "      <td>0.713287</td>\n",
       "      <td>0.4</td>\n",
       "      <td>0.953347</td>\n",
       "      <td>0.934088</td>\n",
       "    </tr>\n",
       "    <tr>\n",
       "      <th>IDW_0.1;complete_N2</th>\n",
       "      <td>1.000000</td>\n",
       "      <td>0.762887</td>\n",
       "      <td>0.699301</td>\n",
       "      <td>0.4</td>\n",
       "      <td>0.952931</td>\n",
       "      <td>0.908809</td>\n",
       "    </tr>\n",
       "    <tr>\n",
       "      <th>IDW_0.1;ward_N2</th>\n",
       "      <td>0.931630</td>\n",
       "      <td>1.000000</td>\n",
       "      <td>0.951049</td>\n",
       "      <td>0.8</td>\n",
       "      <td>0.970035</td>\n",
       "      <td>0.456518</td>\n",
       "    </tr>\n",
       "    <tr>\n",
       "      <th>IDW_0.5;average_N1</th>\n",
       "      <td>0.344818</td>\n",
       "      <td>0.402062</td>\n",
       "      <td>0.300699</td>\n",
       "      <td>0.2</td>\n",
       "      <td>0.502350</td>\n",
       "      <td>0.294611</td>\n",
       "    </tr>\n",
       "    <tr>\n",
       "      <th>IDW_0.5;average_N2</th>\n",
       "      <td>0.347013</td>\n",
       "      <td>0.402062</td>\n",
       "      <td>0.279720</td>\n",
       "      <td>0.2</td>\n",
       "      <td>0.566942</td>\n",
       "      <td>0.541699</td>\n",
       "    </tr>\n",
       "    <tr>\n",
       "      <th>IDW_0.5;weighted_N1</th>\n",
       "      <td>0.557661</td>\n",
       "      <td>0.494845</td>\n",
       "      <td>0.461538</td>\n",
       "      <td>0.2</td>\n",
       "      <td>0.473713</td>\n",
       "      <td>0.279383</td>\n",
       "    </tr>\n",
       "    <tr>\n",
       "      <th>IDW_0.5;weighted_N2</th>\n",
       "      <td>0.504947</td>\n",
       "      <td>0.659794</td>\n",
       "      <td>0.433566</td>\n",
       "      <td>0.2</td>\n",
       "      <td>0.534369</td>\n",
       "      <td>0.560813</td>\n",
       "    </tr>\n",
       "    <tr>\n",
       "      <th>IDW_0.5;centroid_N2</th>\n",
       "      <td>0.275294</td>\n",
       "      <td>0.371134</td>\n",
       "      <td>0.048951</td>\n",
       "      <td>0.0</td>\n",
       "      <td>0.578598</td>\n",
       "      <td>0.606034</td>\n",
       "    </tr>\n",
       "    <tr>\n",
       "      <th>IDW_0.5;complete_N1</th>\n",
       "      <td>0.517752</td>\n",
       "      <td>0.711340</td>\n",
       "      <td>0.860140</td>\n",
       "      <td>0.4</td>\n",
       "      <td>0.429668</td>\n",
       "      <td>0.282888</td>\n",
       "    </tr>\n",
       "    <tr>\n",
       "      <th>IDW_0.5;complete_N2</th>\n",
       "      <td>0.608822</td>\n",
       "      <td>0.762887</td>\n",
       "      <td>0.818182</td>\n",
       "      <td>0.4</td>\n",
       "      <td>0.534429</td>\n",
       "      <td>0.409398</td>\n",
       "    </tr>\n",
       "    <tr>\n",
       "      <th>IDW_0.5;ward_N2</th>\n",
       "      <td>0.636479</td>\n",
       "      <td>1.000000</td>\n",
       "      <td>0.951049</td>\n",
       "      <td>0.8</td>\n",
       "      <td>0.537043</td>\n",
       "      <td>0.261205</td>\n",
       "    </tr>\n",
       "    <tr>\n",
       "      <th>IDW_1;average_N1</th>\n",
       "      <td>0.099161</td>\n",
       "      <td>0.402062</td>\n",
       "      <td>0.363636</td>\n",
       "      <td>0.2</td>\n",
       "      <td>0.290878</td>\n",
       "      <td>0.283663</td>\n",
       "    </tr>\n",
       "    <tr>\n",
       "      <th>IDW_1;average_N2</th>\n",
       "      <td>0.240408</td>\n",
       "      <td>0.381443</td>\n",
       "      <td>0.349650</td>\n",
       "      <td>0.2</td>\n",
       "      <td>0.374039</td>\n",
       "      <td>0.607940</td>\n",
       "    </tr>\n",
       "    <tr>\n",
       "      <th>IDW_1;weighted_N1</th>\n",
       "      <td>0.354725</td>\n",
       "      <td>0.494845</td>\n",
       "      <td>0.496503</td>\n",
       "      <td>0.2</td>\n",
       "      <td>0.264741</td>\n",
       "      <td>0.282669</td>\n",
       "    </tr>\n",
       "    <tr>\n",
       "      <th>IDW_1;weighted_N2</th>\n",
       "      <td>0.202087</td>\n",
       "      <td>0.639175</td>\n",
       "      <td>0.461538</td>\n",
       "      <td>0.2</td>\n",
       "      <td>0.362628</td>\n",
       "      <td>0.545579</td>\n",
       "    </tr>\n",
       "    <tr>\n",
       "      <th>IDW_1;centroid_N2</th>\n",
       "      <td>0.000000</td>\n",
       "      <td>0.350515</td>\n",
       "      <td>0.062937</td>\n",
       "      <td>0.0</td>\n",
       "      <td>0.413723</td>\n",
       "      <td>0.717467</td>\n",
       "    </tr>\n",
       "    <tr>\n",
       "      <th>IDW_1;complete_N1</th>\n",
       "      <td>0.362249</td>\n",
       "      <td>0.463918</td>\n",
       "      <td>0.874126</td>\n",
       "      <td>0.4</td>\n",
       "      <td>0.211886</td>\n",
       "      <td>0.284228</td>\n",
       "    </tr>\n",
       "    <tr>\n",
       "      <th>IDW_1;complete_N2</th>\n",
       "      <td>0.428197</td>\n",
       "      <td>0.793814</td>\n",
       "      <td>0.853147</td>\n",
       "      <td>0.6</td>\n",
       "      <td>0.344287</td>\n",
       "      <td>0.301808</td>\n",
       "    </tr>\n",
       "    <tr>\n",
       "      <th>IDW_1;ward_N2</th>\n",
       "      <td>0.405781</td>\n",
       "      <td>1.000000</td>\n",
       "      <td>0.965035</td>\n",
       "      <td>1.0</td>\n",
       "      <td>0.354342</td>\n",
       "      <td>0.158843</td>\n",
       "    </tr>\n",
       "    <tr>\n",
       "      <th>IDW_3;average_N1</th>\n",
       "      <td>0.239305</td>\n",
       "      <td>0.000000</td>\n",
       "      <td>0.433566</td>\n",
       "      <td>0.2</td>\n",
       "      <td>0.114403</td>\n",
       "      <td>0.484226</td>\n",
       "    </tr>\n",
       "    <tr>\n",
       "      <th>IDW_3;average_N2</th>\n",
       "      <td>0.192197</td>\n",
       "      <td>0.402062</td>\n",
       "      <td>0.426573</td>\n",
       "      <td>0.2</td>\n",
       "      <td>0.254225</td>\n",
       "      <td>0.332005</td>\n",
       "    </tr>\n",
       "    <tr>\n",
       "      <th>IDW_3;weighted_N1</th>\n",
       "      <td>0.301267</td>\n",
       "      <td>0.463918</td>\n",
       "      <td>0.517483</td>\n",
       "      <td>0.2</td>\n",
       "      <td>0.122664</td>\n",
       "      <td>0.213970</td>\n",
       "    </tr>\n",
       "    <tr>\n",
       "      <th>IDW_3;weighted_N2</th>\n",
       "      <td>0.185359</td>\n",
       "      <td>0.298969</td>\n",
       "      <td>0.461538</td>\n",
       "      <td>0.2</td>\n",
       "      <td>0.219748</td>\n",
       "      <td>0.336477</td>\n",
       "    </tr>\n",
       "    <tr>\n",
       "      <th>IDW_3;centroid_N2</th>\n",
       "      <td>0.049261</td>\n",
       "      <td>0.113402</td>\n",
       "      <td>0.139860</td>\n",
       "      <td>0.0</td>\n",
       "      <td>0.267264</td>\n",
       "      <td>0.601158</td>\n",
       "    </tr>\n",
       "    <tr>\n",
       "      <th>IDW_3;complete_N1</th>\n",
       "      <td>0.396428</td>\n",
       "      <td>0.608247</td>\n",
       "      <td>0.930070</td>\n",
       "      <td>0.6</td>\n",
       "      <td>0.000000</td>\n",
       "      <td>0.281228</td>\n",
       "    </tr>\n",
       "    <tr>\n",
       "      <th>IDW_3;complete_N2</th>\n",
       "      <td>0.442663</td>\n",
       "      <td>0.721649</td>\n",
       "      <td>0.888112</td>\n",
       "      <td>0.6</td>\n",
       "      <td>0.197658</td>\n",
       "      <td>0.349217</td>\n",
       "    </tr>\n",
       "    <tr>\n",
       "      <th>IDW_3;ward_N2</th>\n",
       "      <td>0.442921</td>\n",
       "      <td>0.845361</td>\n",
       "      <td>1.000000</td>\n",
       "      <td>0.8</td>\n",
       "      <td>0.191850</td>\n",
       "      <td>0.000000</td>\n",
       "    </tr>\n",
       "  </tbody>\n",
       "</table>\n",
       "</div>"
      ],
      "text/plain": [
       "                     areas_large  cnt_large  cnt_singlton  cnt_small  \\\n",
       "IDW_0.1;average_N1      0.681814   0.680412      0.083916        0.0   \n",
       "IDW_0.1;average_N2      0.755028   0.793814      0.111888        0.0   \n",
       "IDW_0.1;weighted_N1     0.716610   0.731959      0.195804        0.2   \n",
       "IDW_0.1;weighted_N2     0.788239   0.701031      0.202797        0.2   \n",
       "IDW_0.1;centroid_N2     0.744268   0.762887      0.000000        0.0   \n",
       "IDW_0.1;complete_N1     0.887070   0.711340      0.713287        0.4   \n",
       "IDW_0.1;complete_N2     1.000000   0.762887      0.699301        0.4   \n",
       "IDW_0.1;ward_N2         0.931630   1.000000      0.951049        0.8   \n",
       "IDW_0.5;average_N1      0.344818   0.402062      0.300699        0.2   \n",
       "IDW_0.5;average_N2      0.347013   0.402062      0.279720        0.2   \n",
       "IDW_0.5;weighted_N1     0.557661   0.494845      0.461538        0.2   \n",
       "IDW_0.5;weighted_N2     0.504947   0.659794      0.433566        0.2   \n",
       "IDW_0.5;centroid_N2     0.275294   0.371134      0.048951        0.0   \n",
       "IDW_0.5;complete_N1     0.517752   0.711340      0.860140        0.4   \n",
       "IDW_0.5;complete_N2     0.608822   0.762887      0.818182        0.4   \n",
       "IDW_0.5;ward_N2         0.636479   1.000000      0.951049        0.8   \n",
       "IDW_1;average_N1        0.099161   0.402062      0.363636        0.2   \n",
       "IDW_1;average_N2        0.240408   0.381443      0.349650        0.2   \n",
       "IDW_1;weighted_N1       0.354725   0.494845      0.496503        0.2   \n",
       "IDW_1;weighted_N2       0.202087   0.639175      0.461538        0.2   \n",
       "IDW_1;centroid_N2       0.000000   0.350515      0.062937        0.0   \n",
       "IDW_1;complete_N1       0.362249   0.463918      0.874126        0.4   \n",
       "IDW_1;complete_N2       0.428197   0.793814      0.853147        0.6   \n",
       "IDW_1;ward_N2           0.405781   1.000000      0.965035        1.0   \n",
       "IDW_3;average_N1        0.239305   0.000000      0.433566        0.2   \n",
       "IDW_3;average_N2        0.192197   0.402062      0.426573        0.2   \n",
       "IDW_3;weighted_N1       0.301267   0.463918      0.517483        0.2   \n",
       "IDW_3;weighted_N2       0.185359   0.298969      0.461538        0.2   \n",
       "IDW_3;centroid_N2       0.049261   0.113402      0.139860        0.0   \n",
       "IDW_3;complete_N1       0.396428   0.608247      0.930070        0.6   \n",
       "IDW_3;complete_N2       0.442663   0.721649      0.888112        0.6   \n",
       "IDW_3;ward_N2           0.442921   0.845361      1.000000        0.8   \n",
       "\n",
       "                     interVars  intraVars  \n",
       "IDW_0.1;average_N1    1.000000   0.795785  \n",
       "IDW_0.1;average_N2    0.996728   0.893752  \n",
       "IDW_0.1;weighted_N1   0.993853   0.837344  \n",
       "IDW_0.1;weighted_N2   0.994344   1.000000  \n",
       "IDW_0.1;centroid_N2   0.998957   0.899686  \n",
       "IDW_0.1;complete_N1   0.953347   0.934088  \n",
       "IDW_0.1;complete_N2   0.952931   0.908809  \n",
       "IDW_0.1;ward_N2       0.970035   0.456518  \n",
       "IDW_0.5;average_N1    0.502350   0.294611  \n",
       "IDW_0.5;average_N2    0.566942   0.541699  \n",
       "IDW_0.5;weighted_N1   0.473713   0.279383  \n",
       "IDW_0.5;weighted_N2   0.534369   0.560813  \n",
       "IDW_0.5;centroid_N2   0.578598   0.606034  \n",
       "IDW_0.5;complete_N1   0.429668   0.282888  \n",
       "IDW_0.5;complete_N2   0.534429   0.409398  \n",
       "IDW_0.5;ward_N2       0.537043   0.261205  \n",
       "IDW_1;average_N1      0.290878   0.283663  \n",
       "IDW_1;average_N2      0.374039   0.607940  \n",
       "IDW_1;weighted_N1     0.264741   0.282669  \n",
       "IDW_1;weighted_N2     0.362628   0.545579  \n",
       "IDW_1;centroid_N2     0.413723   0.717467  \n",
       "IDW_1;complete_N1     0.211886   0.284228  \n",
       "IDW_1;complete_N2     0.344287   0.301808  \n",
       "IDW_1;ward_N2         0.354342   0.158843  \n",
       "IDW_3;average_N1      0.114403   0.484226  \n",
       "IDW_3;average_N2      0.254225   0.332005  \n",
       "IDW_3;weighted_N1     0.122664   0.213970  \n",
       "IDW_3;weighted_N2     0.219748   0.336477  \n",
       "IDW_3;centroid_N2     0.267264   0.601158  \n",
       "IDW_3;complete_N1     0.000000   0.281228  \n",
       "IDW_3;complete_N2     0.197658   0.349217  \n",
       "IDW_3;ward_N2         0.191850   0.000000  "
      ]
     },
     "execution_count": 19,
     "metadata": {},
     "output_type": "execute_result"
    }
   ],
   "source": [
    "scores = copy.deepcopy(df_score)\n",
    "scores.index = models\n",
    "scores"
   ]
  },
  {
   "cell_type": "markdown",
   "metadata": {},
   "source": [
    "There exist several different ways of combining the output of the scoring systems, including score combination, rank combination, voting, average combination and weighted combination. Based on Hsu and Taksa's research*, we can investigate the scoring behavior of different criterions defined by Rank-Score Characteristic(RSC):\n",
    "$$RSC_m(n) = \\frac{S_m(n)}{R_m(n)}$$\n",
    "\n",
    "The RSC curves of each criterion will form rank-score graph that tells us how different each criterion deciding their scoring. The following picture is an illustration of 3 scoring systems. The scoring system who assigns scores in a linearly decreasing fashion will have a linear rank-score curve like $f_2$ does. The system who habitually assigns high scores to a large subset of its top ranked candidates will have a graph that is not a straight line, but has a low slope for the top ranked candidates and a higher slope for the remainder similar to $f_3$. A third class of scoring behavior is exemplified by $f_1$. In this case, the expert habitually gives higher scores to a small subset of its top ranked candidates and much lower scores to the rest. \n",
    "![Rank_score](images/RSC_graph.png)\n",
    "\n",
    "Hsu and Taksa indicate that a diversity measure based on the rank-score graph can be used to determine whether a score or rank fusion will produce a better result. When the rank-score graphs of two systems are very SIMILAR, then a Score Combination will produce the best fusion. When the rank-score graphs are very DIFFERENT, then a Rank Combination produces the better result.\n",
    " * Hsu, D.F. and Taksa, I., Comparing rank and score combination methods for data fusion in information retrieval."
   ]
  },
  {
   "cell_type": "code",
   "execution_count": 20,
   "metadata": {
    "collapsed": true
   },
   "outputs": [],
   "source": [
    "SRC_cnt_small = df_src['cnt_small'].sort_values(ascending=False).reset_index(drop=True)\n",
    "SRC_cnt_large = df_src['cnt_large'].sort_values(ascending=False).reset_index(drop=True)\n",
    "SRC_cnt_singlton = df_src['cnt_singlton'].sort_values(ascending=False).reset_index(drop=True)\n",
    "SRC_areas_large = df_src['areas_large'].sort_values(ascending=False).reset_index(drop=True)\n",
    "SRC_interVars = df_src['interVars'].sort_values(ascending=False).reset_index(drop=True)\n",
    "SRC_intraVars = df_src['intraVars'].sort_values(ascending=False).reset_index(drop=True)"
   ]
  },
  {
   "cell_type": "code",
   "execution_count": 21,
   "metadata": {},
   "outputs": [
    {
     "data": {
      "text/html": [
       "\n",
       "\n",
       "    <div class=\"bk-root\">\n",
       "        <div class=\"bk-plotdiv\" id=\"a04b6d27-578a-4b2f-bf96-5ddfcd2b018a\"></div>\n",
       "    </div>\n",
       "<script type=\"text/javascript\">\n",
       "  \n",
       "  (function(global) {\n",
       "    function now() {\n",
       "      return new Date();\n",
       "    }\n",
       "  \n",
       "    var force = false;\n",
       "  \n",
       "    if (typeof (window._bokeh_onload_callbacks) === \"undefined\" || force === true) {\n",
       "      window._bokeh_onload_callbacks = [];\n",
       "      window._bokeh_is_loading = undefined;\n",
       "    }\n",
       "  \n",
       "  \n",
       "    \n",
       "    if (typeof (window._bokeh_timeout) === \"undefined\" || force === true) {\n",
       "      window._bokeh_timeout = Date.now() + 0;\n",
       "      window._bokeh_failed_load = false;\n",
       "    }\n",
       "  \n",
       "    var NB_LOAD_WARNING = {'data': {'text/html':\n",
       "       \"<div style='background-color: #fdd'>\\n\"+\n",
       "       \"<p>\\n\"+\n",
       "       \"BokehJS does not appear to have successfully loaded. If loading BokehJS from CDN, this \\n\"+\n",
       "       \"may be due to a slow or bad network connection. Possible fixes:\\n\"+\n",
       "       \"</p>\\n\"+\n",
       "       \"<ul>\\n\"+\n",
       "       \"<li>re-rerun `output_notebook()` to attempt to load from CDN again, or</li>\\n\"+\n",
       "       \"<li>use INLINE resources instead, as so:</li>\\n\"+\n",
       "       \"</ul>\\n\"+\n",
       "       \"<code>\\n\"+\n",
       "       \"from bokeh.resources import INLINE\\n\"+\n",
       "       \"output_notebook(resources=INLINE)\\n\"+\n",
       "       \"</code>\\n\"+\n",
       "       \"</div>\"}};\n",
       "  \n",
       "    function display_loaded() {\n",
       "      if (window.Bokeh !== undefined) {\n",
       "        document.getElementById(\"a04b6d27-578a-4b2f-bf96-5ddfcd2b018a\").textContent = \"BokehJS successfully loaded.\";\n",
       "      } else if (Date.now() < window._bokeh_timeout) {\n",
       "        setTimeout(display_loaded, 100)\n",
       "      }\n",
       "    }\n",
       "  \n",
       "    function run_callbacks() {\n",
       "      window._bokeh_onload_callbacks.forEach(function(callback) { callback() });\n",
       "      delete window._bokeh_onload_callbacks\n",
       "      console.info(\"Bokeh: all callbacks have finished\");\n",
       "    }\n",
       "  \n",
       "    function load_libs(js_urls, callback) {\n",
       "      window._bokeh_onload_callbacks.push(callback);\n",
       "      if (window._bokeh_is_loading > 0) {\n",
       "        console.log(\"Bokeh: BokehJS is being loaded, scheduling callback at\", now());\n",
       "        return null;\n",
       "      }\n",
       "      if (js_urls == null || js_urls.length === 0) {\n",
       "        run_callbacks();\n",
       "        return null;\n",
       "      }\n",
       "      console.log(\"Bokeh: BokehJS not loaded, scheduling load and callback at\", now());\n",
       "      window._bokeh_is_loading = js_urls.length;\n",
       "      for (var i = 0; i < js_urls.length; i++) {\n",
       "        var url = js_urls[i];\n",
       "        var s = document.createElement('script');\n",
       "        s.src = url;\n",
       "        s.async = false;\n",
       "        s.onreadystatechange = s.onload = function() {\n",
       "          window._bokeh_is_loading--;\n",
       "          if (window._bokeh_is_loading === 0) {\n",
       "            console.log(\"Bokeh: all BokehJS libraries loaded\");\n",
       "            run_callbacks()\n",
       "          }\n",
       "        };\n",
       "        s.onerror = function() {\n",
       "          console.warn(\"failed to load library \" + url);\n",
       "        };\n",
       "        console.log(\"Bokeh: injecting script tag for BokehJS library: \", url);\n",
       "        document.getElementsByTagName(\"head\")[0].appendChild(s);\n",
       "      }\n",
       "    };var element = document.getElementById(\"a04b6d27-578a-4b2f-bf96-5ddfcd2b018a\");\n",
       "    if (element == null) {\n",
       "      console.log(\"Bokeh: ERROR: autoload.js configured with elementid 'a04b6d27-578a-4b2f-bf96-5ddfcd2b018a' but no matching script tag was found. \")\n",
       "      return false;\n",
       "    }\n",
       "  \n",
       "    var js_urls = [];\n",
       "  \n",
       "    var inline_js = [\n",
       "      function(Bokeh) {\n",
       "        (function() {\n",
       "          var fn = function() {\n",
       "            var docs_json = {\"6c3c61fc-701e-4a92-b1a0-fac42aed070e\":{\"roots\":{\"references\":[{\"attributes\":{\"plot\":{\"id\":\"d3983bd9-6e2c-492e-a919-b385aa87c379\",\"subtype\":\"Figure\",\"type\":\"Plot\"},\"ticker\":{\"id\":\"f7a298ba-56da-414a-9803-4063e2311080\",\"type\":\"BasicTicker\"}},\"id\":\"88c44ca7-8e0e-4151-b0ff-85368e35b809\",\"type\":\"Grid\"},{\"attributes\":{\"callback\":null,\"column_names\":[\"x\",\"y\"],\"data\":{\"x\":[0,1,2,3,4,5,6,7,8,9,10,11,12,13,14,15,16,17,18,19,20,21,22,23,24,25,26,27,28,29,30,31],\"y\":{\"__ndarray__\":\"AAAAAAAA8D+amZmZmZnZP5qZmZmZmdk/mpmZmZmZ2T+4HoXrUbi+P7gehetRuL4/uB6F61G4vj+amZmZmZmpP5qZmZmZmak/mpmZmZmZqT+amZmZmZmpP5qZmZmZmak/IPiBH/iBjz8g+IEf+IGPPyD4gR/4gY8/IPiBH/iBjz8g+IEf+IGPPyD4gR/4gY8/IPiBH/iBjz8g+IEf+IGPPyD4gR/4gY8/IPiBH/iBjz8g+IEf+IGPPyD4gR/4gY8/IPiBH/iBjz8g+IEf+IGPPwAAAAAAAAAAAAAAAAAAAAAAAAAAAAAAAAAAAAAAAAAAAAAAAAAAAAAAAAAAAAAAAA==\",\"dtype\":\"float64\",\"shape\":[32]}}},\"id\":\"37ce6a7f-5593-4047-9996-94289f0c09a7\",\"type\":\"ColumnDataSource\"},{\"attributes\":{\"label\":{\"value\":\"count_singleton_clusters\"},\"renderers\":[{\"id\":\"74f7db7c-9031-4683-8c20-eb1681f1fe7d\",\"type\":\"GlyphRenderer\"}]},\"id\":\"c998f36a-6104-4b61-a1bd-42e7e8063857\",\"type\":\"LegendItem\"},{\"attributes\":{\"line_alpha\":{\"value\":0.8},\"line_color\":{\"value\":\"#66c2a5\"},\"line_width\":{\"value\":2},\"x\":{\"field\":\"x\"},\"y\":{\"field\":\"y\"}},\"id\":\"a588c51f-33a4-451e-ad47-545a47cab70c\",\"type\":\"Line\"},{\"attributes\":{\"label\":{\"value\":\"within_cluster_var\"},\"renderers\":[{\"id\":\"f1c3643b-aeb0-40d4-8786-654bd1da978d\",\"type\":\"GlyphRenderer\"}]},\"id\":\"424b3ab5-d707-41be-8b06-c549ce5ebc8d\",\"type\":\"LegendItem\"},{\"attributes\":{\"plot\":{\"id\":\"d3983bd9-6e2c-492e-a919-b385aa87c379\",\"subtype\":\"Figure\",\"type\":\"Plot\"}},\"id\":\"19b5adbe-e996-48c3-ad32-62d5ab5e7864\",\"type\":\"SaveTool\"},{\"attributes\":{\"label\":{\"value\":\"area_large_clusters\"},\"renderers\":[{\"id\":\"d03d80d4-cc2d-49cb-8d8d-e8d020da56d4\",\"type\":\"GlyphRenderer\"}]},\"id\":\"4f1a7754-0c3e-450d-aa92-c3c4fbb290c6\",\"type\":\"LegendItem\"},{\"attributes\":{\"plot\":{\"id\":\"d3983bd9-6e2c-492e-a919-b385aa87c379\",\"subtype\":\"Figure\",\"type\":\"Plot\"}},\"id\":\"2d7021e3-8be1-4198-b93f-6759b3aab2c8\",\"type\":\"ResetTool\"},{\"attributes\":{\"callback\":null},\"id\":\"9ab376f5-78cc-47f3-9ba1-4822914e1812\",\"type\":\"DataRange1d\"},{\"attributes\":{\"data_source\":{\"id\":\"55572743-2640-4ebc-b1c2-0695ef2ce94e\",\"type\":\"ColumnDataSource\"},\"glyph\":{\"id\":\"cb92277d-80aa-4370-a900-249e0746ca52\",\"type\":\"Line\"},\"hover_glyph\":null,\"nonselection_glyph\":{\"id\":\"36ad68b9-21a7-4ceb-b8d6-08ddb45593d5\",\"type\":\"Line\"},\"selection_glyph\":null},\"id\":\"ae8111c5-2ce8-40fd-8752-bb84094bbd1a\",\"type\":\"GlyphRenderer\"},{\"attributes\":{\"line_alpha\":{\"value\":0.1},\"line_color\":{\"value\":\"#1f77b4\"},\"line_width\":{\"value\":2},\"x\":{\"field\":\"x\"},\"y\":{\"field\":\"y\"}},\"id\":\"9b45e281-0270-4f11-bd61-c0c334a61a00\",\"type\":\"Line\"},{\"attributes\":{\"line_alpha\":{\"value\":0.8},\"line_color\":{\"value\":\"#5e4fa2\"},\"line_width\":{\"value\":2},\"x\":{\"field\":\"x\"},\"y\":{\"field\":\"y\"}},\"id\":\"83306ef2-e0b7-4e04-9ac6-b34400a52d15\",\"type\":\"Line\"},{\"attributes\":{\"plot\":{\"id\":\"d3983bd9-6e2c-492e-a919-b385aa87c379\",\"subtype\":\"Figure\",\"type\":\"Plot\"}},\"id\":\"4c8717a3-67b0-4a59-a815-b9a4b79153a3\",\"type\":\"WheelZoomTool\"},{\"attributes\":{},\"id\":\"1d93c435-3032-4af9-b29d-8a64b9a936ba\",\"type\":\"ToolEvents\"},{\"attributes\":{\"line_alpha\":{\"value\":0.1},\"line_color\":{\"value\":\"#1f77b4\"},\"line_width\":{\"value\":2},\"x\":{\"field\":\"x\"},\"y\":{\"field\":\"y\"}},\"id\":\"36ad68b9-21a7-4ceb-b8d6-08ddb45593d5\",\"type\":\"Line\"},{\"attributes\":{\"data_source\":{\"id\":\"d9dd6142-a635-4137-a50d-3bf6630f0950\",\"type\":\"ColumnDataSource\"},\"glyph\":{\"id\":\"a588c51f-33a4-451e-ad47-545a47cab70c\",\"type\":\"Line\"},\"hover_glyph\":null,\"nonselection_glyph\":{\"id\":\"145ae1d9-8961-410e-adab-e316760c8aa8\",\"type\":\"Line\"},\"selection_glyph\":null},\"id\":\"c4a4a22d-7e07-4cb4-bc62-b09917f6a087\",\"type\":\"GlyphRenderer\"},{\"attributes\":{\"line_alpha\":{\"value\":0.8},\"line_color\":{\"value\":\"#f46d43\"},\"line_width\":{\"value\":2},\"x\":{\"field\":\"x\"},\"y\":{\"field\":\"y\"}},\"id\":\"cf357884-9271-47c0-93a0-36760204acf1\",\"type\":\"Line\"},{\"attributes\":{\"callback\":null,\"column_names\":[\"x\",\"y\"],\"data\":{\"x\":[0,1,2,3,4,5,6,7,8,9,10,11,12,13,14,15,16,17,18,19,20,21,22,23,24,25,26,27,28,29,30,31],\"y\":{\"__ndarray__\":\"AAAAAAAA8D/qnyLzc/ffPz+9qJx2Q9U/pn1+4KrRzz/mSagPUHHJP9lWViavscQ/mZOscsBuwT9ugPX4aX6+P/LpXfY4dbA/EJv7PgQHrT8pI4jUNf+oP9ufQONizaY/ssCiN8ALpT/6DWHRJF+iP+leMwBfK6A/z7E4Fa5/mz+SMBcsteuYP2C6SsVWR5U/amGj6TGLkz9VpwDIbySSPwUXb7+/yZA/FvsypP4Tiz8jSHqITsyHP6Mihn5bl4Y/TEDpq33ThD8QGzk0M0+BP/D+dUtrEoA/eH82mSLqfD8j15eN4hh7P4EuPfRsv3A/jzUir107bj8AAAAAAAAAAA==\",\"dtype\":\"float64\",\"shape\":[32]}}},\"id\":\"55572743-2640-4ebc-b1c2-0695ef2ce94e\",\"type\":\"ColumnDataSource\"},{\"attributes\":{\"plot\":{\"id\":\"d3983bd9-6e2c-492e-a919-b385aa87c379\",\"subtype\":\"Figure\",\"type\":\"Plot\"}},\"id\":\"1cb124e4-4086-4a9e-9130-71bccaeb9009\",\"type\":\"HelpTool\"},{\"attributes\":{\"line_alpha\":{\"value\":0.8},\"line_color\":{\"value\":\"#e6f598\"},\"line_width\":{\"value\":2},\"x\":{\"field\":\"x\"},\"y\":{\"field\":\"y\"}},\"id\":\"036b341b-a8f9-483b-9b44-912ab75334fe\",\"type\":\"Line\"},{\"attributes\":{\"callback\":null,\"column_names\":[\"x\",\"y\"],\"data\":{\"x\":[0,1,2,3,4,5,6,7,8,9,10,11,12,13,14,15,16,17,18,19,20,21,22,23,24,25,26,27,28,29,30,31],\"y\":{\"__ndarray__\":\"AAAAAAAA8D9hHfVB6s/dP0/w+DiW7NI/ytVtokA5yT8XHJGhJlTDP0e+XIdlwb8/pULcyRs1uj/YerHiatG1P0Mg+RCyGrI/4ze63vMrrz+nsuhv4fSpPwCa0jQ6F6Y/H78YCRzjoz+4d6iHwDKgP/2V7FUXOJ4/WspiFZNnmz9dgoq1PnGYP9B1C55ljZY/SGIRdPmFkz+CqVWJdCmSPz9TtHvI65A/Ue8pjLoMkD9Bbl1Wa9OKP1vTibzhfYc/nVnahLmxgz+ngnFkj9mCP/VArUBKqH4/FuHjy5kdfD85SCZTLS56P++P5rThE2s/viBrVxIJWj8AAAAAAAAAAA==\",\"dtype\":\"float64\",\"shape\":[32]}}},\"id\":\"2ec8eb04-18e1-4161-8ba3-70876ec09253\",\"type\":\"ColumnDataSource\"},{\"attributes\":{},\"id\":\"d20b6b6e-f2ce-420a-82e1-0394b81aa7df\",\"type\":\"BasicTickFormatter\"},{\"attributes\":{\"line_alpha\":{\"value\":0.1},\"line_color\":{\"value\":\"#1f77b4\"},\"line_width\":{\"value\":2},\"x\":{\"field\":\"x\"},\"y\":{\"field\":\"y\"}},\"id\":\"baa9040a-a2f3-4189-a858-75a4ba4eaad7\",\"type\":\"Line\"},{\"attributes\":{},\"id\":\"6210c9b2-32f6-4cae-b310-4768ee01f82b\",\"type\":\"BasicTickFormatter\"},{\"attributes\":{\"line_alpha\":{\"value\":0.1},\"line_color\":{\"value\":\"#1f77b4\"},\"line_width\":{\"value\":2},\"x\":{\"field\":\"x\"},\"y\":{\"field\":\"y\"}},\"id\":\"3b603d32-a298-4662-ba87-a44e5bdefb8f\",\"type\":\"Line\"},{\"attributes\":{\"line_alpha\":{\"value\":0.8},\"line_color\":{\"value\":\"#fee08b\"},\"line_width\":{\"value\":2},\"x\":{\"field\":\"x\"},\"y\":{\"field\":\"y\"}},\"id\":\"3cbcaff4-fbff-4eb3-9673-f3e65f0e0c10\",\"type\":\"Line\"},{\"attributes\":{\"data_source\":{\"id\":\"37ce6a7f-5593-4047-9996-94289f0c09a7\",\"type\":\"ColumnDataSource\"},\"glyph\":{\"id\":\"83306ef2-e0b7-4e04-9ac6-b34400a52d15\",\"type\":\"Line\"},\"hover_glyph\":null,\"nonselection_glyph\":{\"id\":\"9b45e281-0270-4f11-bd61-c0c334a61a00\",\"type\":\"Line\"},\"selection_glyph\":null},\"id\":\"6cdfce14-01d2-4a73-8bf9-3bf9aa840da7\",\"type\":\"GlyphRenderer\"},{\"attributes\":{\"bottom_units\":\"screen\",\"fill_alpha\":{\"value\":0.5},\"fill_color\":{\"value\":\"lightgrey\"},\"left_units\":\"screen\",\"level\":\"overlay\",\"line_alpha\":{\"value\":1.0},\"line_color\":{\"value\":\"black\"},\"line_dash\":[4,4],\"line_width\":{\"value\":2},\"plot\":null,\"render_mode\":\"css\",\"right_units\":\"screen\",\"top_units\":\"screen\"},\"id\":\"0bf2b8bf-fd52-46f9-b46a-c8a64cf7ea06\",\"type\":\"BoxAnnotation\"},{\"attributes\":{\"formatter\":{\"id\":\"d20b6b6e-f2ce-420a-82e1-0394b81aa7df\",\"type\":\"BasicTickFormatter\"},\"plot\":{\"id\":\"d3983bd9-6e2c-492e-a919-b385aa87c379\",\"subtype\":\"Figure\",\"type\":\"Plot\"},\"ticker\":{\"id\":\"f7a298ba-56da-414a-9803-4063e2311080\",\"type\":\"BasicTicker\"}},\"id\":\"ca69d0d8-69b4-4463-b163-466fe66fa1ca\",\"type\":\"LinearAxis\"},{\"attributes\":{\"dimension\":1,\"plot\":{\"id\":\"d3983bd9-6e2c-492e-a919-b385aa87c379\",\"subtype\":\"Figure\",\"type\":\"Plot\"},\"ticker\":{\"id\":\"b76e403d-96d8-423d-8ef1-90d7c750569a\",\"type\":\"BasicTicker\"}},\"id\":\"3768e0bc-8496-4db8-983d-0870b1a6222e\",\"type\":\"Grid\"},{\"attributes\":{\"data_source\":{\"id\":\"542ffbbe-997a-4fbf-8bf2-cafee561b3bc\",\"type\":\"ColumnDataSource\"},\"glyph\":{\"id\":\"036b341b-a8f9-483b-9b44-912ab75334fe\",\"type\":\"Line\"},\"hover_glyph\":null,\"nonselection_glyph\":{\"id\":\"3b603d32-a298-4662-ba87-a44e5bdefb8f\",\"type\":\"Line\"},\"selection_glyph\":null},\"id\":\"74f7db7c-9031-4683-8c20-eb1681f1fe7d\",\"type\":\"GlyphRenderer\"},{\"attributes\":{\"label\":{\"value\":\"btw_cluster_var\"},\"renderers\":[{\"id\":\"ae8111c5-2ce8-40fd-8752-bb84094bbd1a\",\"type\":\"GlyphRenderer\"}]},\"id\":\"4efcc743-b48b-4874-a382-6b6970773ead\",\"type\":\"LegendItem\"},{\"attributes\":{},\"id\":\"b76e403d-96d8-423d-8ef1-90d7c750569a\",\"type\":\"BasicTicker\"},{\"attributes\":{\"overlay\":{\"id\":\"0bf2b8bf-fd52-46f9-b46a-c8a64cf7ea06\",\"type\":\"BoxAnnotation\"},\"plot\":{\"id\":\"d3983bd9-6e2c-492e-a919-b385aa87c379\",\"subtype\":\"Figure\",\"type\":\"Plot\"}},\"id\":\"c3ef42a4-77e5-418b-afc4-e34ba980866a\",\"type\":\"BoxZoomTool\"},{\"attributes\":{\"active_drag\":\"auto\",\"active_scroll\":\"auto\",\"active_tap\":\"auto\",\"tools\":[{\"id\":\"169df1ab-cd85-43e0-a827-89139c0392f0\",\"type\":\"PanTool\"},{\"id\":\"4c8717a3-67b0-4a59-a815-b9a4b79153a3\",\"type\":\"WheelZoomTool\"},{\"id\":\"c3ef42a4-77e5-418b-afc4-e34ba980866a\",\"type\":\"BoxZoomTool\"},{\"id\":\"19b5adbe-e996-48c3-ad32-62d5ab5e7864\",\"type\":\"SaveTool\"},{\"id\":\"2d7021e3-8be1-4198-b93f-6759b3aab2c8\",\"type\":\"ResetTool\"},{\"id\":\"1cb124e4-4086-4a9e-9130-71bccaeb9009\",\"type\":\"HelpTool\"}]},\"id\":\"c6403bb3-c76a-4a2c-9d31-51eca4139005\",\"type\":\"Toolbar\"},{\"attributes\":{\"label\":{\"value\":\"size_large_clusters\"},\"renderers\":[{\"id\":\"c4a4a22d-7e07-4cb4-bc62-b09917f6a087\",\"type\":\"GlyphRenderer\"}]},\"id\":\"ff880ce4-dea8-414e-822b-56b238be754f\",\"type\":\"LegendItem\"},{\"attributes\":{\"callback\":null,\"column_names\":[\"x\",\"y\"],\"data\":{\"x\":[0,1,2,3,4,5,6,7,8,9,10,11,12,13,14,15,16,17,18,19,20,21,22,23,24,25,26,27,28,29,30,31],\"y\":{\"__ndarray__\":\"AAAAAAAA8D8AAAAAAADwPwAAAAAAAPA/283yJDINyz+U2+CeV1LEP5Tb4J5XUsQ/G1qHv1zmuz8bWoe/XOa7Pxtah79c5rs/kqLcBve8sj+0ue7XdMuwP59EpmG7Wa4/n0SmYbtZrj8Z5KV4QKOpPxdEk7WIOac/Ffji6gcdpT8TxKHOHUCjPxH9eWAfTaE/orIeUWirmj+ish5RaKuaPxeczsQan5Y/F5zOxBqflj9rhHK2huaRP2uEcraG5pE/a4RytobmkT9rhHK2huaRP3JdjOzk7ow/G4iRUlMliz8he8PM7sCIPxQ0qPzcaIQ//dsYJKj3bT8AAAAAAAAAAA==\",\"dtype\":\"float64\",\"shape\":[32]}}},\"id\":\"d9dd6142-a635-4137-a50d-3bf6630f0950\",\"type\":\"ColumnDataSource\"},{\"attributes\":{\"plot\":null,\"text\":\"\"},\"id\":\"57e58027-8446-4a0d-bac3-af133a574eee\",\"type\":\"Title\"},{\"attributes\":{\"data_source\":{\"id\":\"2ec8eb04-18e1-4161-8ba3-70876ec09253\",\"type\":\"ColumnDataSource\"},\"glyph\":{\"id\":\"3cbcaff4-fbff-4eb3-9673-f3e65f0e0c10\",\"type\":\"Line\"},\"hover_glyph\":null,\"nonselection_glyph\":{\"id\":\"baa9040a-a2f3-4189-a858-75a4ba4eaad7\",\"type\":\"Line\"},\"selection_glyph\":null},\"id\":\"d03d80d4-cc2d-49cb-8d8d-e8d020da56d4\",\"type\":\"GlyphRenderer\"},{\"attributes\":{\"label\":{\"value\":\"size_smaller_clusters\"},\"renderers\":[{\"id\":\"6cdfce14-01d2-4a73-8bf9-3bf9aa840da7\",\"type\":\"GlyphRenderer\"}]},\"id\":\"eb1388dd-99bf-4fe0-ba9b-3c3a62dd6251\",\"type\":\"LegendItem\"},{\"attributes\":{\"formatter\":{\"id\":\"6210c9b2-32f6-4cae-b310-4768ee01f82b\",\"type\":\"BasicTickFormatter\"},\"plot\":{\"id\":\"d3983bd9-6e2c-492e-a919-b385aa87c379\",\"subtype\":\"Figure\",\"type\":\"Plot\"},\"ticker\":{\"id\":\"b76e403d-96d8-423d-8ef1-90d7c750569a\",\"type\":\"BasicTicker\"}},\"id\":\"a1561b6c-fa78-4dd0-aaff-c98d99989fbd\",\"type\":\"LinearAxis\"},{\"attributes\":{\"items\":[{\"id\":\"eb1388dd-99bf-4fe0-ba9b-3c3a62dd6251\",\"type\":\"LegendItem\"},{\"id\":\"ff880ce4-dea8-414e-822b-56b238be754f\",\"type\":\"LegendItem\"},{\"id\":\"c998f36a-6104-4b61-a1bd-42e7e8063857\",\"type\":\"LegendItem\"},{\"id\":\"4f1a7754-0c3e-450d-aa92-c3c4fbb290c6\",\"type\":\"LegendItem\"},{\"id\":\"424b3ab5-d707-41be-8b06-c549ce5ebc8d\",\"type\":\"LegendItem\"},{\"id\":\"4efcc743-b48b-4874-a382-6b6970773ead\",\"type\":\"LegendItem\"}],\"plot\":{\"id\":\"d3983bd9-6e2c-492e-a919-b385aa87c379\",\"subtype\":\"Figure\",\"type\":\"Plot\"}},\"id\":\"4d2f6c99-1f69-4a07-92e4-d9e0fe530648\",\"type\":\"Legend\"},{\"attributes\":{\"line_alpha\":{\"value\":0.8},\"line_color\":{\"value\":\"#9e0142\"},\"line_width\":{\"value\":2},\"x\":{\"field\":\"x\"},\"y\":{\"field\":\"y\"}},\"id\":\"cb92277d-80aa-4370-a900-249e0746ca52\",\"type\":\"Line\"},{\"attributes\":{},\"id\":\"f7a298ba-56da-414a-9803-4063e2311080\",\"type\":\"BasicTicker\"},{\"attributes\":{\"line_alpha\":{\"value\":0.1},\"line_color\":{\"value\":\"#1f77b4\"},\"line_width\":{\"value\":2},\"x\":{\"field\":\"x\"},\"y\":{\"field\":\"y\"}},\"id\":\"eff8803b-f05c-4f71-9cba-30cc1b5fba5a\",\"type\":\"Line\"},{\"attributes\":{\"plot\":{\"id\":\"d3983bd9-6e2c-492e-a919-b385aa87c379\",\"subtype\":\"Figure\",\"type\":\"Plot\"}},\"id\":\"169df1ab-cd85-43e0-a827-89139c0392f0\",\"type\":\"PanTool\"},{\"attributes\":{\"below\":[{\"id\":\"ca69d0d8-69b4-4463-b163-466fe66fa1ca\",\"type\":\"LinearAxis\"}],\"left\":[{\"id\":\"a1561b6c-fa78-4dd0-aaff-c98d99989fbd\",\"type\":\"LinearAxis\"}],\"plot_height\":400,\"plot_width\":500,\"renderers\":[{\"id\":\"ca69d0d8-69b4-4463-b163-466fe66fa1ca\",\"type\":\"LinearAxis\"},{\"id\":\"88c44ca7-8e0e-4151-b0ff-85368e35b809\",\"type\":\"Grid\"},{\"id\":\"a1561b6c-fa78-4dd0-aaff-c98d99989fbd\",\"type\":\"LinearAxis\"},{\"id\":\"3768e0bc-8496-4db8-983d-0870b1a6222e\",\"type\":\"Grid\"},{\"id\":\"0bf2b8bf-fd52-46f9-b46a-c8a64cf7ea06\",\"type\":\"BoxAnnotation\"},{\"id\":\"4d2f6c99-1f69-4a07-92e4-d9e0fe530648\",\"type\":\"Legend\"},{\"id\":\"6cdfce14-01d2-4a73-8bf9-3bf9aa840da7\",\"type\":\"GlyphRenderer\"},{\"id\":\"c4a4a22d-7e07-4cb4-bc62-b09917f6a087\",\"type\":\"GlyphRenderer\"},{\"id\":\"74f7db7c-9031-4683-8c20-eb1681f1fe7d\",\"type\":\"GlyphRenderer\"},{\"id\":\"d03d80d4-cc2d-49cb-8d8d-e8d020da56d4\",\"type\":\"GlyphRenderer\"},{\"id\":\"f1c3643b-aeb0-40d4-8786-654bd1da978d\",\"type\":\"GlyphRenderer\"},{\"id\":\"ae8111c5-2ce8-40fd-8752-bb84094bbd1a\",\"type\":\"GlyphRenderer\"}],\"title\":{\"id\":\"57e58027-8446-4a0d-bac3-af133a574eee\",\"type\":\"Title\"},\"tool_events\":{\"id\":\"1d93c435-3032-4af9-b29d-8a64b9a936ba\",\"type\":\"ToolEvents\"},\"toolbar\":{\"id\":\"c6403bb3-c76a-4a2c-9d31-51eca4139005\",\"type\":\"Toolbar\"},\"x_range\":{\"id\":\"9ab376f5-78cc-47f3-9ba1-4822914e1812\",\"type\":\"DataRange1d\"},\"y_range\":{\"id\":\"e1d954a3-aa14-4fc4-8b2d-f6fe1fae6801\",\"type\":\"DataRange1d\"}},\"id\":\"d3983bd9-6e2c-492e-a919-b385aa87c379\",\"subtype\":\"Figure\",\"type\":\"Plot\"},{\"attributes\":{\"callback\":null},\"id\":\"e1d954a3-aa14-4fc4-8b2d-f6fe1fae6801\",\"type\":\"DataRange1d\"},{\"attributes\":{\"callback\":null,\"column_names\":[\"x\",\"y\"],\"data\":{\"x\":[0,1,2,3,4,5,6,7,8,9,10,11,12,13,14,15,16,17,18,19,20,21,22,23,24,25,26,27,28,29,30,31],\"y\":{\"__ndarray__\":\"AAAAAAAA8D99osC6C+TdP09kUBFPY9M/SdxrdjrKzD/gzBy3S+HGPyLnwCED3cE/yCoZhV0avT8fDroSfvW2Px7+q7DhSrE/GxqzVWcHrz9Xj+jWLPurP5f6C6KR7ac/NYQTIch8pT+VfTxTic+jPxoy65g7h6A/Ewh+25g3nT+0xFwVA6mYP2EdQpHV3ZM/uOxF2GIikj+6FqH4qP+QP25fDN71bo0/DHvpDvZsiz+xz5VGBE+JPyWflOGzNIg/GmqjoJYshz8US/+5AESGP6ACxiXmVIU/B0KkY1NvhD/09vZhSnKCP++iD/DLNn0/HYshdeD8dD8AAAAAAAAAAA==\",\"dtype\":\"float64\",\"shape\":[32]}}},\"id\":\"1c8bec0d-1508-4572-9022-9ffad7ac0b71\",\"type\":\"ColumnDataSource\"},{\"attributes\":{\"callback\":null,\"column_names\":[\"x\",\"y\"],\"data\":{\"x\":[0,1,2,3,4,5,6,7,8,9,10,11,12,13,14,15,16,17,18,19,20,21,22,23,24,25,26,27,28,29,30,31],\"y\":{\"__ndarray__\":\"AAAAAAAA8D8wS8oBkeHeP3GKeM7+SdQ/cYp4zv5J1D+Bq0NpTs/HP98XOGpG8sI/CS5s8dD3vz/BLCkHRIa7P4yb/gBtRLg/8pQgTwnytD8Xt7/uoZmwP0yA7Xo61q0/gCBcYX9hpD+13PlXaCiiPyD4gR/4gZ8/IPiBH/iBnz8g+IEf+IGfP3XQ2NJEqpg/ddDY0kSqmD/+i0vnLteVPyntRkBKu5E/ntGYcU5GkD8/9O7SesaKP6RmJC+V3oc/OukxMfecgD/r8rTKwNh+P5KwdQ2hN3U/nO6jJx1ecD+2hU7YcLRnP1eH0pyeL2E/pGgsTxXfWT8AAAAAAAAAAA==\",\"dtype\":\"float64\",\"shape\":[32]}}},\"id\":\"542ffbbe-997a-4fbf-8bf2-cafee561b3bc\",\"type\":\"ColumnDataSource\"},{\"attributes\":{\"line_alpha\":{\"value\":0.1},\"line_color\":{\"value\":\"#1f77b4\"},\"line_width\":{\"value\":2},\"x\":{\"field\":\"x\"},\"y\":{\"field\":\"y\"}},\"id\":\"145ae1d9-8961-410e-adab-e316760c8aa8\",\"type\":\"Line\"},{\"attributes\":{\"data_source\":{\"id\":\"1c8bec0d-1508-4572-9022-9ffad7ac0b71\",\"type\":\"ColumnDataSource\"},\"glyph\":{\"id\":\"cf357884-9271-47c0-93a0-36760204acf1\",\"type\":\"Line\"},\"hover_glyph\":null,\"nonselection_glyph\":{\"id\":\"eff8803b-f05c-4f71-9cba-30cc1b5fba5a\",\"type\":\"Line\"},\"selection_glyph\":null},\"id\":\"f1c3643b-aeb0-40d4-8786-654bd1da978d\",\"type\":\"GlyphRenderer\"}],\"root_ids\":[\"d3983bd9-6e2c-492e-a919-b385aa87c379\"]},\"title\":\"Bokeh Application\",\"version\":\"0.12.4\"}};\n",
       "            var render_items = [{\"docid\":\"6c3c61fc-701e-4a92-b1a0-fac42aed070e\",\"elementid\":\"a04b6d27-578a-4b2f-bf96-5ddfcd2b018a\",\"modelid\":\"d3983bd9-6e2c-492e-a919-b385aa87c379\"}];\n",
       "            \n",
       "            Bokeh.embed.embed_items(docs_json, render_items);\n",
       "          };\n",
       "          if (document.readyState != \"loading\") fn();\n",
       "          else document.addEventListener(\"DOMContentLoaded\", fn);\n",
       "        })();\n",
       "      },\n",
       "      function(Bokeh) {\n",
       "      }\n",
       "    ];\n",
       "  \n",
       "    function run_inline_js() {\n",
       "      \n",
       "      if ((window.Bokeh !== undefined) || (force === true)) {\n",
       "        for (var i = 0; i < inline_js.length; i++) {\n",
       "          inline_js[i](window.Bokeh);\n",
       "        }if (force === true) {\n",
       "          display_loaded();\n",
       "        }} else if (Date.now() < window._bokeh_timeout) {\n",
       "        setTimeout(run_inline_js, 100);\n",
       "      } else if (!window._bokeh_failed_load) {\n",
       "        console.log(\"Bokeh: BokehJS failed to load within specified timeout.\");\n",
       "        window._bokeh_failed_load = true;\n",
       "      } else if (force !== true) {\n",
       "        var cell = $(document.getElementById(\"a04b6d27-578a-4b2f-bf96-5ddfcd2b018a\")).parents('.cell').data().cell;\n",
       "        cell.output_area.append_execute_result(NB_LOAD_WARNING)\n",
       "      }\n",
       "  \n",
       "    }\n",
       "  \n",
       "    if (window._bokeh_is_loading === 0) {\n",
       "      console.log(\"Bokeh: BokehJS loaded, going straight to plotting\");\n",
       "      run_inline_js();\n",
       "    } else {\n",
       "      load_libs(js_urls, function() {\n",
       "        console.log(\"Bokeh: BokehJS plotting callback run at\", now());\n",
       "        run_inline_js();\n",
       "      });\n",
       "    }\n",
       "  }(this));\n",
       "</script>"
      ]
     },
     "metadata": {},
     "output_type": "display_data"
    }
   ],
   "source": [
    "p = figure(plot_width=500, plot_height=400)\n",
    "p.line(SRC_cnt_small.index, SRC_cnt_small, line_width=2, color=Spectral11[0], alpha=0.8, legend='size_smaller_clusters')\n",
    "p.line(SRC_cnt_large.index, SRC_cnt_large, line_width=2, color=Spectral11[2], alpha=0.8, legend='size_large_clusters')\n",
    "p.line(SRC_cnt_singlton.index, SRC_cnt_singlton, line_width=2, color=Spectral11[4], alpha=0.8, legend='count_singleton_clusters')\n",
    "p.line(SRC_areas_large.index, SRC_areas_large, line_width=2, color=Spectral11[6], alpha=0.8, legend='area_large_clusters')\n",
    "p.line(SRC_intraVars.index, SRC_intraVars, line_width=2, color=Spectral11[8], alpha=0.8, legend='within_cluster_var')\n",
    "p.line(SRC_interVars.index, SRC_interVars, line_width=2, color=Spectral11[10], alpha=0.8, legend='btw_cluster_var')\n",
    "show(p)"
   ]
  },
  {
   "cell_type": "markdown",
   "metadata": {},
   "source": [
    "As we observed that these SRC curves for 6 criteria all have concave shape which means that they gives higher scores to a small subset of its top ranked candidates and much lower scores to the rest. And they all have similar scoring behaviors.\n",
    "\n",
    "So I should combine the scores of 6 criteria using Mahalanobis combination and find the best clustering model.\n",
    "$$SC(n)=\\sum_{m=1}^{M} w_m*S_m(n)$$\n",
    "\n",
    "where $$w_m=\\frac{\\frac{1}{\\sigma_m^2}}{\\sum_{1}^{M} \\frac{1}{\\sigma_m^2}}$$\n"
   ]
  },
  {
   "cell_type": "code",
   "execution_count": 22,
   "metadata": {},
   "outputs": [
    {
     "name": "stdout",
     "output_type": "stream",
     "text": [
      "The model with best combined score is IDW_0.1;ward_N2.\n"
     ]
    }
   ],
   "source": [
    "def combineScore(df):\n",
    "    \n",
    "    precs = [1/df[attr].var() for attr in df.columns]\n",
    "    scores = [(precs[i] / sum(precs)) * df.loc[:, df.columns[i]] for i in range(6)]\n",
    "    combined_score = scores[0]+scores[1]+scores[2]+scores[3]\n",
    "    combined_score = transform_score(combined_score)\n",
    "    \n",
    "    return combined_score\n",
    "\n",
    "combined_score = combineScore(df_score)\n",
    "\n",
    "index = combined_score.sort_values().index[-1]\n",
    "print(\"The model with best combined score is {}.\".format(models[index]))"
   ]
  },
  {
   "cell_type": "markdown",
   "metadata": {},
   "source": [
    "# 3. Clustering"
   ]
  },
  {
   "cell_type": "markdown",
   "metadata": {},
   "source": [
    "Knowing the best parameters for interpoaltion and clustering, I went ahead and performed clustering using the full building data set(actually because of computer power limitation, I used 30,000 data points out of 45,000). And chose the cut on dendrogram at 600 clusters to visualize. "
   ]
  },
  {
   "cell_type": "code",
   "execution_count": 23,
   "metadata": {
    "collapsed": true
   },
   "outputs": [],
   "source": [
    "def clt(df, popularity='IDW_0.1'):\n",
    "    df_norm = df[['x','y',popularity]]\n",
    "    df_norm = df_norm.head(n=30000)\n",
    "    return df_norm"
   ]
  },
  {
   "cell_type": "code",
   "execution_count": 24,
   "metadata": {
    "collapsed": true
   },
   "outputs": [],
   "source": [
    "df_norm = clt(df_building)"
   ]
  },
  {
   "cell_type": "code",
   "execution_count": 25,
   "metadata": {
    "collapsed": true
   },
   "outputs": [],
   "source": [
    "cls = c.Clustering(df_norm, method='ward', metric='euclidean')\n",
    "cls.getClusters(k=600)"
   ]
  },
  {
   "cell_type": "code",
   "execution_count": 26,
   "metadata": {
    "collapsed": true
   },
   "outputs": [],
   "source": [
    "df_cluster = cls.getClusterPopularity()"
   ]
  },
  {
   "cell_type": "code",
   "execution_count": 27,
   "metadata": {
    "collapsed": true
   },
   "outputs": [],
   "source": [
    "def basePlot(plot_width, plot_height,tools='pan,wheel_zoom,reset,save'):\n",
    "    p = figure(tools=tools, plot_width=plot_width, plot_height=plot_height,\\\n",
    "               outline_line_color=None, title='Manhattan Rental Market Clustering')\n",
    "    \n",
    "    p.axis.visible = True\n",
    "    p.xgrid.grid_line_color = None\n",
    "    p.ygrid.grid_line_color = None\n",
    "    return p"
   ]
  },
  {
   "cell_type": "code",
   "execution_count": 28,
   "metadata": {
    "collapsed": true
   },
   "outputs": [],
   "source": [
    "def clusterPlot(df_cluster, p_alpha=3.3,plot_width=600, plot_height=2160):\n",
    "    #cm = [random.choice(Spectral11) for i in range(1,601)]\n",
    "    #colors = [cm[int(i)-1] for i in df_cluster['cluster'].values]\n",
    "    cm = df_cluster['cluster_popularity']*10\n",
    "    cm = np.floor(cm)\n",
    "    colors = [Spectral11[int(i)] for i in cm.values]\n",
    "    \n",
    "    alphas = [alpha**p_alpha+0.01 for alpha in df_cluster['cluster_popularity'].values]\n",
    "    \n",
    "    lngs, lats = df_cluster['x'].values, df_cluster['y'].values\n",
    "\n",
    "    p = basePlot(plot_width, plot_height)\n",
    "    p.background_fill_color = \"black\"\n",
    "    p.scatter(lngs, lats, size=1, color=colors, alpha=alphas)\n",
    "    \n",
    "    return p"
   ]
  },
  {
   "cell_type": "code",
   "execution_count": 52,
   "metadata": {
    "collapsed": true,
    "scrolled": false
   },
   "outputs": [],
   "source": [
    "p = clusterPlot(df_cluster)\n",
    "#show(p)"
   ]
  },
  {
   "cell_type": "markdown",
   "metadata": {},
   "source": [
    "The plotting visualized the clustering using bright red indicating popular and dark green indicating not so popular. we see there exist some geographical pattern for Manhattan rental apartments. In general, midtown and downtown are more popular, especially west village and Chinatown areas. And areas around lincoln center, port authority bus terminal and west 125th st are the worst."
   ]
  },
  {
   "cell_type": "markdown",
   "metadata": {},
   "source": [
    "<img src=\"images/all.jpg\" width=\"350\">"
   ]
  },
  {
   "cell_type": "markdown",
   "metadata": {
    "collapsed": true
   },
   "source": [
    "# 4. Other Variables Afftecting the clustering"
   ]
  },
  {
   "cell_type": "markdown",
   "metadata": {},
   "source": [
    "Besides finding the best clustering for rental market simply using the location and popularity, I also investigate how other variables, like price, number of bedrooms, doorman, etc, affecting the clustering."
   ]
  },
  {
   "cell_type": "markdown",
   "metadata": {},
   "source": [
    "## Price"
   ]
  },
  {
   "cell_type": "code",
   "execution_count": 30,
   "metadata": {},
   "outputs": [
    {
     "data": {
      "text/html": [
       "<div>\n",
       "<table border=\"1\" class=\"dataframe\">\n",
       "  <thead>\n",
       "    <tr style=\"text-align: right;\">\n",
       "      <th></th>\n",
       "      <th>bath</th>\n",
       "      <th>bed</th>\n",
       "      <th>y</th>\n",
       "      <th>x</th>\n",
       "      <th>center_pt</th>\n",
       "      <th>price_bin</th>\n",
       "      <th>broker</th>\n",
       "      <th>elevator</th>\n",
       "      <th>fitness_center</th>\n",
       "      <th>no_fee</th>\n",
       "      <th>popularity</th>\n",
       "    </tr>\n",
       "  </thead>\n",
       "  <tbody>\n",
       "    <tr>\n",
       "      <th>10</th>\n",
       "      <td>1.5</td>\n",
       "      <td>3</td>\n",
       "      <td>356555.874048</td>\n",
       "      <td>-9.608865e+06</td>\n",
       "      <td>(-9608865.029217346, 356555.87404817063)</td>\n",
       "      <td>1</td>\n",
       "      <td>0</td>\n",
       "      <td>0</td>\n",
       "      <td>0</td>\n",
       "      <td>0</td>\n",
       "      <td>2</td>\n",
       "    </tr>\n",
       "    <tr>\n",
       "      <th>10000</th>\n",
       "      <td>1.0</td>\n",
       "      <td>2</td>\n",
       "      <td>365557.190180</td>\n",
       "      <td>-9.616935e+06</td>\n",
       "      <td>(-9616934.736082882, 365557.1901797713)</td>\n",
       "      <td>3</td>\n",
       "      <td>0</td>\n",
       "      <td>1</td>\n",
       "      <td>1</td>\n",
       "      <td>0</td>\n",
       "      <td>1</td>\n",
       "    </tr>\n",
       "    <tr>\n",
       "      <th>100004</th>\n",
       "      <td>1.0</td>\n",
       "      <td>1</td>\n",
       "      <td>356477.163480</td>\n",
       "      <td>-9.616369e+06</td>\n",
       "      <td>(-9616368.679438747, 356477.1634797137)</td>\n",
       "      <td>1</td>\n",
       "      <td>0</td>\n",
       "      <td>0</td>\n",
       "      <td>0</td>\n",
       "      <td>0</td>\n",
       "      <td>3</td>\n",
       "    </tr>\n",
       "    <tr>\n",
       "      <th>100007</th>\n",
       "      <td>1.0</td>\n",
       "      <td>1</td>\n",
       "      <td>360258.281928</td>\n",
       "      <td>-9.614124e+06</td>\n",
       "      <td>(-9614124.415577795, 360258.28192826593)</td>\n",
       "      <td>2</td>\n",
       "      <td>0</td>\n",
       "      <td>0</td>\n",
       "      <td>0</td>\n",
       "      <td>1</td>\n",
       "      <td>1</td>\n",
       "    </tr>\n",
       "    <tr>\n",
       "      <th>100013</th>\n",
       "      <td>1.0</td>\n",
       "      <td>4</td>\n",
       "      <td>370278.122028</td>\n",
       "      <td>-9.617337e+06</td>\n",
       "      <td>(-9617336.91450809, 370278.1220278065)</td>\n",
       "      <td>2</td>\n",
       "      <td>1</td>\n",
       "      <td>0</td>\n",
       "      <td>0</td>\n",
       "      <td>0</td>\n",
       "      <td>1</td>\n",
       "    </tr>\n",
       "  </tbody>\n",
       "</table>\n",
       "</div>"
      ],
      "text/plain": [
       "        bath  bed              y             x  \\\n",
       "10       1.5    3  356555.874048 -9.608865e+06   \n",
       "10000    1.0    2  365557.190180 -9.616935e+06   \n",
       "100004   1.0    1  356477.163480 -9.616369e+06   \n",
       "100007   1.0    1  360258.281928 -9.614124e+06   \n",
       "100013   1.0    4  370278.122028 -9.617337e+06   \n",
       "\n",
       "                                       center_pt  price_bin  broker  elevator  \\\n",
       "10      (-9608865.029217346, 356555.87404817063)          1       0         0   \n",
       "10000    (-9616934.736082882, 365557.1901797713)          3       0         1   \n",
       "100004   (-9616368.679438747, 356477.1634797137)          1       0         0   \n",
       "100007  (-9614124.415577795, 360258.28192826593)          2       0         0   \n",
       "100013    (-9617336.91450809, 370278.1220278065)          2       1         0   \n",
       "\n",
       "        fitness_center  no_fee  popularity  \n",
       "10                   0       0           2  \n",
       "10000                1       0           1  \n",
       "100004               0       0           3  \n",
       "100007               0       1           1  \n",
       "100013               0       0           1  "
      ]
     },
     "execution_count": 30,
     "metadata": {},
     "output_type": "execute_result"
    }
   ],
   "source": [
    "df_market.head()"
   ]
  },
  {
   "cell_type": "markdown",
   "metadata": {},
   "source": [
    "The quartiles of price variable in rental market data set are around \\$2500, \\$3200 and \\$4100. To investigate how price of rental apartments affecting people’s interest and thus forming a different clustering, I filtered out data points in market data set with price under \\$2500 and above \\$4100 as two new market data sets and performed interpolation and clustering on each of the new market data set separately. "
   ]
  },
  {
   "cell_type": "code",
   "execution_count": 31,
   "metadata": {
    "collapsed": true
   },
   "outputs": [],
   "source": [
    "price_markets = [df_market[df_market['price_bin']==0], df_market[df_market['price_bin']==3]]"
   ]
  },
  {
   "cell_type": "code",
   "execution_count": 32,
   "metadata": {
    "collapsed": true
   },
   "outputs": [],
   "source": [
    "low_price_group = df_building[['DOITT_ID', 'center_pt', 'x', 'y']]\n",
    "low_price_group['IDW_0.1'] = low_price_group['center_pt'].apply(buildingsInterpolation, \\\n",
    "                                                              power=0.1, df_market=price_markets[0])\n",
    "\n",
    "high_price_group = df_building[['DOITT_ID', 'center_pt', 'x', 'y']]\n",
    "high_price_group['IDW_0.1'] = high_price_group['center_pt'].apply(buildingsInterpolation, \\\n",
    "                                                                power=0.1, df_market=price_markets[1])"
   ]
  },
  {
   "cell_type": "code",
   "execution_count": 33,
   "metadata": {
    "collapsed": true
   },
   "outputs": [],
   "source": [
    "def clusterDifferentiate(group):\n",
    "    samples = clt(group)\n",
    "    samples = samples.head(n=30000)\n",
    "    clustering = c.Clustering(samples, method='ward', metric='euclidean')\n",
    "    clustering.getClusters(k=600)\n",
    "    result = clustering.getClusterPopularity()\n",
    "    p = clusterPlot(result)\n",
    "    return p"
   ]
  },
  {
   "cell_type": "code",
   "execution_count": 34,
   "metadata": {
    "collapsed": true
   },
   "outputs": [],
   "source": [
    "p_1 = clusterDifferentiate(low_price_group)\n",
    "p_4 = clusterDifferentiate(high_price_group)"
   ]
  },
  {
   "cell_type": "markdown",
   "metadata": {},
   "source": [
    "From the clustering plottings, we can see the geographic pattern on low price apartment and high price apartments are quite different. \n",
    "* Left plotting shows people’s interest on low price rentals are much more evenly distributed. \n",
    "* The right plotting for high-price rentals is darker and more greenish. It indicates when people are looking for high price rentals, they focus more on midtown and downtown areas. (It is not caused by less people looking for high-price rentals because I normalized the variables before clustering.)"
   ]
  },
  {
   "cell_type": "code",
   "execution_count": 51,
   "metadata": {
    "collapsed": true,
    "scrolled": false
   },
   "outputs": [],
   "source": [
    "#show(row(p_1, p_4))"
   ]
  },
  {
   "cell_type": "markdown",
   "metadata": {},
   "source": [
    "<img src=\"images/price.jpg\" width=\"650\">"
   ]
  },
  {
   "cell_type": "markdown",
   "metadata": {},
   "source": [
    "## Bedroom"
   ]
  },
  {
   "cell_type": "code",
   "execution_count": 36,
   "metadata": {
    "collapsed": true
   },
   "outputs": [],
   "source": [
    "bedroom_markets = [df_market[df_market['bed'] >= 2], df_market[df_market['bed'] < 2]]"
   ]
  },
  {
   "cell_type": "code",
   "execution_count": 37,
   "metadata": {
    "collapsed": true
   },
   "outputs": [],
   "source": [
    "less_bedroom_group = df_building[['DOITT_ID', 'center_pt', 'x', 'y']]\n",
    "less_bedroom_group['IDW_0.1'] = less_bedroom_group['center_pt'].apply(buildingsInterpolation, \\\n",
    "                                                              power=0.1, df_market=bedroom_markets[0])\n",
    "\n",
    "more_bedroom_group = df_building[['DOITT_ID', 'center_pt', 'x', 'y']]\n",
    "more_bedroom_group['IDW_0.1'] = more_bedroom_group['center_pt'].apply(buildingsInterpolation, \\\n",
    "                                                                power=0.1, df_market=bedroom_markets[1])"
   ]
  },
  {
   "cell_type": "code",
   "execution_count": 38,
   "metadata": {
    "collapsed": true
   },
   "outputs": [],
   "source": [
    "p_1 = clusterDifferentiate(less_bedroom_group)\n",
    "p_2 = clusterDifferentiate(more_bedroom_group)"
   ]
  },
  {
   "cell_type": "code",
   "execution_count": 53,
   "metadata": {
    "collapsed": true,
    "scrolled": false
   },
   "outputs": [],
   "source": [
    "#show(row(p_1, p_2))"
   ]
  },
  {
   "cell_type": "markdown",
   "metadata": {},
   "source": [
    "<img src=\"images/bedroom.jpg\" width=\"650\">"
   ]
  },
  {
   "cell_type": "markdown",
   "metadata": {},
   "source": [
    "## Broker Fee"
   ]
  },
  {
   "cell_type": "code",
   "execution_count": 40,
   "metadata": {
    "collapsed": true
   },
   "outputs": [],
   "source": [
    "bf_markets = [df_market[df_market['no_fee'] == 1], df_market[df_market['no_fee'] == 0]]\n",
    "\n",
    "no_bf_group = df_building[['DOITT_ID', 'center_pt', 'x', 'y']]\n",
    "no_bf_group['IDW_0.1'] = no_bf_group['center_pt'].apply(buildingsInterpolation, \\\n",
    "                                                              power=0.1, df_market=bf_markets[0])\n",
    "\n",
    "has_bf_group = df_building[['DOITT_ID', 'center_pt', 'x', 'y']]\n",
    "has_bf_group['IDW_0.1'] = has_bf_group['center_pt'].apply(buildingsInterpolation, \\\n",
    "                                                                power=0.1, df_market=bf_markets[1])"
   ]
  },
  {
   "cell_type": "code",
   "execution_count": 41,
   "metadata": {
    "collapsed": true
   },
   "outputs": [],
   "source": [
    "p_1 = clusterDifferentiate(no_bf_group)\n",
    "p_2 = clusterDifferentiate(has_bf_group)"
   ]
  },
  {
   "cell_type": "code",
   "execution_count": 54,
   "metadata": {
    "collapsed": true,
    "scrolled": false
   },
   "outputs": [],
   "source": [
    "#show(row(p_1, p_2))"
   ]
  },
  {
   "cell_type": "markdown",
   "metadata": {},
   "source": [
    "<img src=\"images/fees.jpg\" width=\"650\">"
   ]
  },
  {
   "cell_type": "markdown",
   "metadata": {},
   "source": [
    "## Fitness Center"
   ]
  },
  {
   "cell_type": "markdown",
   "metadata": {},
   "source": [
    "And what is most interesting and surpricing is the impact of fitness center. The lefting plotting is clustering of buildings without fitness center, which is more or less the same as the other clustering. And the right plotting is the one with fitness center building in which we can clearly see some outstanding clusters which means people want a fitness center in building look at apartments in these areas more."
   ]
  },
  {
   "cell_type": "code",
   "execution_count": 43,
   "metadata": {
    "collapsed": true
   },
   "outputs": [],
   "source": [
    "fc_markets = [df_market[df_market['fitness_center'] == 0], df_market[df_market['fitness_center'] == 1]]\n",
    "\n",
    "no_fc_group = df_building[['DOITT_ID', 'center_pt', 'x', 'y']]\n",
    "no_fc_group['IDW_0.1'] = no_fc_group['center_pt'].apply(buildingsInterpolation, \\\n",
    "                                                              power=0.1, df_market=fc_markets[0])\n",
    "\n",
    "has_fc_group = df_building[['DOITT_ID', 'center_pt', 'x', 'y']]\n",
    "has_fc_group['IDW_0.1'] = has_fc_group['center_pt'].apply(buildingsInterpolation, \\\n",
    "                                                                power=0.1, df_market=fc_markets[1])"
   ]
  },
  {
   "cell_type": "code",
   "execution_count": 44,
   "metadata": {
    "collapsed": true
   },
   "outputs": [],
   "source": [
    "p_1 = clusterDifferentiate(no_fc_group)\n",
    "p_2 = clusterDifferentiate(has_fc_group)"
   ]
  },
  {
   "cell_type": "code",
   "execution_count": 49,
   "metadata": {
    "collapsed": true,
    "scrolled": false
   },
   "outputs": [],
   "source": [
    "#show(row(p_1, p_2))"
   ]
  },
  {
   "cell_type": "markdown",
   "metadata": {},
   "source": [
    "<img src=\"images/fitness.jpg\" width=\"650\">"
   ]
  },
  {
   "cell_type": "markdown",
   "metadata": {},
   "source": [
    "## Elevator"
   ]
  },
  {
   "cell_type": "markdown",
   "metadata": {},
   "source": [
    "When we look into the clustering of building with and without elevator, we can find that the grouping is almost identical to the fitness center grouping. This may due to high correlation between these 2 variables. Which makes sense because a building has fitness center normally has elevator as well."
   ]
  },
  {
   "cell_type": "code",
   "execution_count": 46,
   "metadata": {
    "collapsed": true
   },
   "outputs": [],
   "source": [
    "elevator_markets = [df_market[df_market['elevator'] == 0], df_market[df_market['elevator'] == 1]]\n",
    "\n",
    "no_elevator_group = df_building[['DOITT_ID', 'center_pt', 'x', 'y']]\n",
    "no_elevator_group['IDW_0.1'] = no_elevator_group['center_pt'].apply(buildingsInterpolation, \\\n",
    "                                                              power=0.1, df_market=elevator_markets[0])\n",
    "\n",
    "has_elevator_group = df_building[['DOITT_ID', 'center_pt', 'x', 'y']]\n",
    "has_elevator_group['IDW_0.1'] = has_elevator_group['center_pt'].apply(buildingsInterpolation, \\\n",
    "                                                                power=0.1, df_market=elevator_markets[1])"
   ]
  },
  {
   "cell_type": "code",
   "execution_count": 47,
   "metadata": {
    "collapsed": true
   },
   "outputs": [],
   "source": [
    "p_1 = clusterDifferentiate(no_elevator_group)\n",
    "p_2 = clusterDifferentiate(has_elevator_group)"
   ]
  },
  {
   "cell_type": "code",
   "execution_count": 50,
   "metadata": {
    "collapsed": true,
    "scrolled": false
   },
   "outputs": [],
   "source": [
    "#show(row(p_1, p_2))"
   ]
  },
  {
   "cell_type": "markdown",
   "metadata": {},
   "source": [
    "<img src=\"images/elevator.jpg\" width=\"650\">"
   ]
  },
  {
   "cell_type": "markdown",
   "metadata": {
    "collapsed": true
   },
   "source": [
    "## Conclusion: \n",
    "By performing interpolation and clustering, we show that the geographic pattern do exist for Manhattan rental market. And it is affected by many variables. \n",
    "\n",
    "Some variable like price and fitness center have heavier impact on clustering. Some other variables like elevator rarely affects the building grouping. They may be important, but they are independent of geographic location. "
   ]
  }
 ],
 "metadata": {
  "anaconda-cloud": {},
  "kernelspec": {
   "display_name": "Python 3",
   "language": "python",
   "name": "python3"
  },
  "language_info": {
   "codemirror_mode": {
    "name": "ipython",
    "version": 3
   },
   "file_extension": ".py",
   "mimetype": "text/x-python",
   "name": "python",
   "nbconvert_exporter": "python",
   "pygments_lexer": "ipython3",
   "version": "3.6.1"
  }
 },
 "nbformat": 4,
 "nbformat_minor": 2
}
